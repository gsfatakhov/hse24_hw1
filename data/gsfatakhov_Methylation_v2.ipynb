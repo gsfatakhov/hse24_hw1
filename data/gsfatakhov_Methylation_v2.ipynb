{
  "cells": [
    {
      "cell_type": "markdown",
      "metadata": {
        "id": "CLLeQw9Mxab4"
      },
      "source": [
        "## Ссылка на диск с картированными чтениями"
      ]
    },
    {
      "cell_type": "markdown",
      "metadata": {
        "id": "iX7NcoC_CLY0"
      },
      "source": [
        "\n",
        "| | SRA accession  | Stage    |\n",
        "|---:|:-------------|:-----------|\n",
        "| 1 | SRR5836473  | 8 cell       |\n",
        "| 2 | SRR3824222 | Epiblast    |\n",
        "| 3 | SRR5836475  | ICM       |\n"
      ]
    },
    {
      "cell_type": "markdown",
      "metadata": {
        "id": "RQAK_lggxsXi"
      },
      "source": [
        "[Bam-файлы и отчеты](https://drive.google.com/drive/folders/1hGzGjuUZNLIeUsCdSxbEzgthcV_BaqMw?usp=sharing)"
      ]
    },
    {
      "cell_type": "markdown",
      "metadata": {
        "id": "5l0a7C6JHe40"
      },
      "source": [
        "# Установка FastQC"
      ]
    },
    {
      "cell_type": "markdown",
      "metadata": {
        "id": "7NGOIflnTzGi"
      },
      "source": [
        "Перезапускал ноутбук, отчеты есть в readme"
      ]
    },
    {
      "cell_type": "code",
      "execution_count": null,
      "metadata": {
        "colab": {
          "base_uri": "https://localhost:8080/"
        },
        "id": "esYQuHKO8nAg",
        "outputId": "dce3638e-c622-4a08-925a-8f6b5d8f7454"
      },
      "outputs": [
        {
          "name": "stdout",
          "output_type": "stream",
          "text": [
            "--2024-02-11 13:00:54--  https://www.bioinformatics.babraham.ac.uk/projects/fastqc/fastqc_v0.11.9.zip\n",
            "Resolving www.bioinformatics.babraham.ac.uk (www.bioinformatics.babraham.ac.uk)... 149.155.133.4\n",
            "Connecting to www.bioinformatics.babraham.ac.uk (www.bioinformatics.babraham.ac.uk)|149.155.133.4|:443... connected.\n",
            "HTTP request sent, awaiting response... 200 OK\n",
            "Length: 10249221 (9.8M) [application/zip]\n",
            "Saving to: ‘fastqc_v0.11.9.zip’\n",
            "\n",
            "fastqc_v0.11.9.zip  100%[===================>]   9.77M  4.39MB/s    in 2.2s    \n",
            "\n",
            "2024-02-11 13:00:58 (4.39 MB/s) - ‘fastqc_v0.11.9.zip’ saved [10249221/10249221]\n",
            "\n",
            "Archive:  fastqc_v0.11.9.zip\n",
            "caution: filename not matched:  -y\n",
            "chmod: cannot access 'FastQC/fastqc': No such file or directory\n"
          ]
        }
      ],
      "source": [
        "!wget https://www.bioinformatics.babraham.ac.uk/projects/fastqc/fastqc_v0.11.9.zip\n",
        "!unzip fastqc_v0.11.9.zip -y\n",
        "!chmod a+x FastQC/fastqc"
      ]
    },
    {
      "cell_type": "markdown",
      "metadata": {
        "id": "_zEx3USYPKoR"
      },
      "source": [
        "Можно получать данные секвенировия с ENA. Например, https://www.ebi.ac.uk/ena/browser/view/SRR5836473"
      ]
    },
    {
      "cell_type": "code",
      "execution_count": null,
      "metadata": {
        "colab": {
          "background_save": true,
          "base_uri": "https://localhost:8080/"
        },
        "id": "jNHisprKBQm0",
        "outputId": "15016992-d2f6-44a7-95b9-9aaa2b35cc6e"
      },
      "outputs": [
        {
          "name": "stdout",
          "output_type": "stream",
          "text": [
            "--2024-02-11 13:01:03--  ftp://ftp.sra.ebi.ac.uk/vol1/fastq/SRR583/003/SRR5836473/SRR5836473_1.fastq.gz\n",
            "           => ‘SRR5836473_1_latest.fastq.gz’\n",
            "Resolving ftp.sra.ebi.ac.uk (ftp.sra.ebi.ac.uk)... 193.62.193.165\n",
            "Connecting to ftp.sra.ebi.ac.uk (ftp.sra.ebi.ac.uk)|193.62.193.165|:21... connected.\n",
            "Logging in as anonymous ... Logged in!\n",
            "==> SYST ... done.    ==> PWD ... done.\n",
            "==> TYPE I ... done.  ==> CWD (1) /vol1/fastq/SRR583/003/SRR5836473 ... done.\n",
            "==> SIZE SRR5836473_1.fastq.gz ... 6856386252\n",
            "==> PASV ... done.    ==> RETR SRR5836473_1.fastq.gz ... done.\n",
            "Length: 6856386252 (6.4G) (unauthoritative)\n",
            "\n",
            "SRR5836473_1.fastq.  81%[===============>    ]   5.22G  1.09MB/s    eta 13m 22s"
          ]
        }
      ],
      "source": [
        "! wget -O SRR5836473_1_latest.fastq.gz ftp://ftp.sra.ebi.ac.uk/vol1/fastq/SRR583/003/SRR5836473/SRR5836473_1.fastq.gz"
      ]
    },
    {
      "cell_type": "code",
      "execution_count": null,
      "metadata": {
        "colab": {
          "base_uri": "https://localhost:8080/"
        },
        "id": "tHiJQhQPBoft",
        "outputId": "a9d49e9f-a09e-4f7a-d111-7b0f78b500d0"
      },
      "outputs": [
        {
          "name": "stdout",
          "output_type": "stream",
          "text": [
            "--2024-02-10 22:04:48--  ftp://ftp.sra.ebi.ac.uk/vol1/fastq/SRR583/003/SRR5836473/SRR5836473_2.fastq.gz\n",
            "           => ‘SRR5836473_2_new_2.fastq.gz’\n",
            "Resolving ftp.sra.ebi.ac.uk (ftp.sra.ebi.ac.uk)... 193.62.193.165\n",
            "Connecting to ftp.sra.ebi.ac.uk (ftp.sra.ebi.ac.uk)|193.62.193.165|:21... connected.\n",
            "Logging in as anonymous ... Logged in!\n",
            "==> SYST ... done.    ==> PWD ... done.\n",
            "==> TYPE I ... done.  ==> CWD (1) /vol1/fastq/SRR583/003/SRR5836473 ... done.\n",
            "==> SIZE SRR5836473_2.fastq.gz ... 8127008133\n",
            "==> PASV ... done.    ==> RETR SRR5836473_2.fastq.gz ... done.\n",
            "Length: 8127008133 (7.6G) (unauthoritative)\n",
            "\n",
            "SRR5836473_2.fastq.   0%[                    ]   5.13M   229KB/s    eta 8h 51m ^C\n"
          ]
        }
      ],
      "source": [
        "! wget -O SRR5836473_2_latest.fastq.gz ftp://ftp.sra.ebi.ac.uk/vol1/fastq/SRR583/003/SRR5836473/SRR5836473_2.fastq.gz"
      ]
    },
    {
      "cell_type": "code",
      "execution_count": null,
      "metadata": {
        "colab": {
          "base_uri": "https://localhost:8080/"
        },
        "id": "PrmtffYs_6XP",
        "outputId": "9cc3ed4a-fb3a-452b-96f3-ef25382dfd82"
      },
      "outputs": [
        {
          "name": "stdout",
          "output_type": "stream",
          "text": [
            "\n",
            "gzip: SRR5836473_1.fastq.gz: unexpected end of file\n"
          ]
        }
      ],
      "source": [
        "! gzip -d SRR5836473_1_latest.fastq.gz"
      ]
    },
    {
      "cell_type": "code",
      "execution_count": null,
      "metadata": {
        "id": "wKAegpNQUGXK"
      },
      "outputs": [],
      "source": [
        "! gzip -d SRR5836473_2_latest.fastq.gz"
      ]
    },
    {
      "cell_type": "code",
      "execution_count": null,
      "metadata": {
        "colab": {
          "base_uri": "https://localhost:8080/"
        },
        "id": "XV5AgySn__hP",
        "outputId": "d8569798-835a-4517-ac81-783f10e506ae"
      },
      "outputs": [
        {
          "name": "stdout",
          "output_type": "stream",
          "text": [
            "Skipping 'SRR5836473_1.fastq' which didn't exist, or couldn't be read\n"
          ]
        }
      ],
      "source": [
        "!./FastQC/fastqc SRR5836473_1_latest.fastq"
      ]
    },
    {
      "cell_type": "code",
      "execution_count": null,
      "metadata": {
        "id": "3muIY0-IUKPM"
      },
      "outputs": [],
      "source": [
        "!./FastQC/fastqc SRR5836473_2_latest.fastq"
      ]
    },
    {
      "cell_type": "markdown",
      "metadata": {
        "id": "Ugk3bV0LI5El"
      },
      "source": [
        "# Установка Bismark с зависимостями (+bowtie2, samtools)"
      ]
    },
    {
      "cell_type": "code",
      "execution_count": null,
      "metadata": {
        "colab": {
          "base_uri": "https://localhost:8080/"
        },
        "id": "uSOZLyn5n5Nl",
        "outputId": "cf4e6e96-a69d-45de-985c-814db669a54c"
      },
      "outputs": [
        {
          "name": "stdout",
          "output_type": "stream",
          "text": [
            "\u001b[33mWARNING: Running pip as the 'root' user can result in broken permissions and conflicting behaviour with the system package manager. It is recommended to use a virtual environment instead: https://pip.pypa.io/warnings/venv\u001b[0m\u001b[33m\n",
            "\u001b[0m✨🍰✨ Everything looks OK!\n"
          ]
        }
      ],
      "source": [
        "! pip install -q condacolab\n",
        "import condacolab\n",
        "condacolab.install()"
      ]
    },
    {
      "cell_type": "code",
      "execution_count": null,
      "metadata": {
        "colab": {
          "base_uri": "https://localhost:8080/"
        },
        "id": "npb--DNtn52o",
        "outputId": "f5309d98-f803-4f89-8d74-f38e3f9cb35b"
      },
      "outputs": [
        {
          "name": "stdout",
          "output_type": "stream",
          "text": [
            "✨🍰✨ Everything looks OK!\n"
          ]
        }
      ],
      "source": [
        "import condacolab\n",
        "condacolab.check()"
      ]
    },
    {
      "cell_type": "code",
      "execution_count": null,
      "metadata": {
        "colab": {
          "base_uri": "https://localhost:8080/"
        },
        "id": "MfBSN4YuoCL6",
        "outputId": "3d6db822-8acc-480a-a3c1-06adc4a258fe"
      },
      "outputs": [
        {
          "name": "stdout",
          "output_type": "stream",
          "text": [
            "Channels:\n",
            " - bioconda\n",
            " - conda-forge\n",
            "Platform: linux-64\n",
            "Collecting package metadata (repodata.json): - \b\b\\ \b\b| \b\b/ \b\b- \b\b\\ \b\b| \b\b/ \b\b- \b\b\\ \b\b| \b\b/ \b\b- \b\b\\ \b\b| \b\b/ \b\b- \b\b\\ \b\b| \b\b/ \b\b- \b\b\\ \b\b| \b\b/ \b\b- \b\b\\ \b\b| \b\b/ \b\b- \b\b\\ \b\b| \b\b/ \b\b- \b\b\\ \b\b| \b\b/ \b\b- \b\b\\ \b\b| \b\b/ \b\b- \b\b\\ \b\b| \b\b/ \b\b- \b\b\\ \b\b| \b\b/ \b\b- \b\b\\ \b\b| \b\b/ \b\b- \b\b\\ \b\b| \b\b/ \b\b- \b\b\\ \b\b| \b\b/ \b\b- \b\b\\ \b\b| \b\b/ \b\b- \b\b\\ \b\b| \b\b/ \b\b- \b\b\\ \b\b| \b\b/ \b\b- \b\b\\ \b\b| \b\b/ \b\b- \b\bdone\n",
            "Solving environment: | \b\b/ \b\b- \b\bdone\n",
            "\n",
            "# All requested packages already installed.\n",
            "\n"
          ]
        }
      ],
      "source": [
        "! conda install -c bioconda bismark"
      ]
    },
    {
      "cell_type": "code",
      "execution_count": null,
      "metadata": {
        "colab": {
          "base_uri": "https://localhost:8080/"
        },
        "id": "13VM_exnoHEl",
        "outputId": "b113f8d4-670e-4606-e95a-3c32ad8e6d1e"
      },
      "outputs": [
        {
          "name": "stdout",
          "output_type": "stream",
          "text": [
            "\n",
            "Usage: samtools view [options] <in.bam>|<in.sam>|<in.cram> [region ...]\n",
            "\n",
            "Output options:\n",
            "  -b, --bam                  Output BAM\n",
            "  -C, --cram                 Output CRAM (requires -T)\n",
            "  -1, --fast                 Use fast BAM compression (and default to --bam)\n",
            "  -u, --uncompressed         Uncompressed BAM output (and default to --bam)\n",
            "  -h, --with-header          Include header in SAM output\n",
            "  -H, --header-only          Print SAM header only (no alignments)\n",
            "      --no-header            Print SAM alignment records only [default]\n",
            "  -c, --count                Print only the count of matching records\n",
            "  -o, --output FILE          Write output to FILE [standard output]\n",
            "  -U, --unoutput FILE, --output-unselected FILE\n",
            "                             Output reads not selected by filters to FILE\n",
            "  -p, --unmap                Set flag to UNMAP on reads not selected\n",
            "                             then write to output file.\n",
            "  -P, --fetch-pairs          Retrieve complete pairs even when outside of region\n",
            "Input options:\n",
            "  -t, --fai-reference FILE   FILE listing reference names and lengths\n",
            "  -M, --use-index            Use index and multi-region iterator for regions\n",
            "      --region[s]-file FILE  Use index to include only reads overlapping FILE\n",
            "  -X, --customized-index     Expect extra index file argument after <in.bam>\n",
            "\n",
            "Filtering options (Only include in output reads that...):\n",
            "  -L, --target[s]-file FILE  ...overlap (BED) regions in FILE\n",
            "  -N, --qname-file [^]FILE   ...whose read name is listed in FILE (\"^\" negates)\n",
            "  -r, --read-group STR       ...are in read group STR\n",
            "  -R, --read-group-file [^]FILE\n",
            "                             ...are in a read group listed in FILE\n",
            "  -d, --tag STR1[:STR2]      ...have a tag STR1 (with associated value STR2)\n",
            "  -D, --tag-file STR:FILE    ...have a tag STR whose value is listed in FILE\n",
            "  -q, --min-MQ INT           ...have mapping quality >= INT\n",
            "  -l, --library STR          ...are in library STR\n",
            "  -m, --min-qlen INT         ...cover >= INT query bases (as measured via CIGAR)\n",
            "  -e, --expr STR             ...match the filter expression STR\n",
            "  -f, --require-flags FLAG   ...have all of the FLAGs present\n",
            "  -F, --excl[ude]-flags FLAG ...have none of the FLAGs present\n",
            "      --rf, --incl-flags, --include-flags FLAG\n",
            "                             ...have some of the FLAGs present\n",
            "  -G FLAG                    EXCLUDE reads with all of the FLAGs present\n",
            "      --subsample FLOAT      Keep only FLOAT fraction of templates/read pairs\n",
            "      --subsample-seed INT   Influence WHICH reads are kept in subsampling [0]\n",
            "  -s INT.FRAC                Same as --subsample 0.FRAC --subsample-seed INT\n",
            "\n",
            "Processing options:\n",
            "      --add-flags FLAG       Add FLAGs to reads\n",
            "      --remove-flags FLAG    Remove FLAGs from reads\n",
            "  -x, --remove-tag STR\n",
            "               Comma-separated read tags to strip (repeatable) [null]\n",
            "      --keep-tag STR\n",
            "               Comma-separated read tags to preserve (repeatable) [null].\n",
            "               Equivalent to \"-x ^STR\"\n",
            "  -B, --remove-B             Collapse the backward CIGAR operation\n",
            "  -z, --sanitize FLAGS       Perform sanitity checking and fixing on records.\n",
            "                             FLAGS is comma separated (see manual). [off]\n",
            "\n",
            "General options:\n",
            "  -?, --help   Print long help, including note about region specification\n",
            "  -S           Ignored (input format is auto-detected)\n",
            "      --no-PG  Do not add a PG line\n",
            "      --input-fmt-option OPT[=VAL]\n",
            "               Specify a single input file format option in the form\n",
            "               of OPTION or OPTION=VALUE\n",
            "  -O, --output-fmt FORMAT[,OPT[=VAL]]...\n",
            "               Specify output format (SAM, BAM, CRAM)\n",
            "      --output-fmt-option OPT[=VAL]\n",
            "               Specify a single output file format option in the form\n",
            "               of OPTION or OPTION=VALUE\n",
            "  -T, --reference FILE\n",
            "               Reference sequence FASTA FILE [null]\n",
            "  -@, --threads INT\n",
            "               Number of additional threads to use [0]\n",
            "      --write-index\n",
            "               Automatically index the output files [off]\n",
            "      --verbosity INT\n",
            "               Set level of verbosity\n",
            "\n"
          ]
        }
      ],
      "source": [
        "! samtools view"
      ]
    },
    {
      "cell_type": "markdown",
      "metadata": {
        "id": "XVeS3m8fWWNR"
      },
      "source": [
        "1. Скачиваем чтения из SRA с помощью SRAtoolkit или любым другим способом\n",
        "\n",
        "2. Индексируем геном\n",
        "\n",
        "3. Строим выравнивание\n",
        "\n",
        "(Описание шагов 2-3 см https://www.bioinformatics.babraham.ac.uk/projects/bismark/Bismark_User_Guide.pdf)\n",
        "\n",
        "#Внимание!\n",
        "\n",
        "Т.к. вычислительные мощности нужны большие, то этот шаг был сделан за вас.\n",
        " Достаточно скачать выравнивания с диска https://drive.google.com/drive/folders/1hGzGjuUZNLIeUsCdSxbEzgthcV_BaqMw?usp=sharing или с сервера майнора)"
      ]
    },
    {
      "cell_type": "code",
      "execution_count": null,
      "metadata": {
        "colab": {
          "base_uri": "https://localhost:8080/"
        },
        "id": "4R93Nsuiu5_Y",
        "outputId": "6d407a09-e247-462a-bae5-474f690242b5"
      },
      "outputs": [
        {
          "name": "stdout",
          "output_type": "stream",
          "text": [
            "\u001b[?25l   \u001b[90m━━━━━━━━━━━━━━━━━━━━━━━━━━━━━━━━━━━━━━━━\u001b[0m \u001b[32m0.0/147.9 kB\u001b[0m \u001b[31m?\u001b[0m eta \u001b[36m-:--:--\u001b[0m\r\u001b[2K   \u001b[90m━━━━━━━━━━━━━━━━━━━━━━━━━━━━━━━━━━━━━━━━\u001b[0m \u001b[32m147.9/147.9 kB\u001b[0m \u001b[31m4.6 MB/s\u001b[0m eta \u001b[36m0:00:00\u001b[0m\n",
            "\u001b[?25h\u001b[33mWARNING: Running pip as the 'root' user can result in broken permissions and conflicting behaviour with the system package manager. It is recommended to use a virtual environment instead: https://pip.pypa.io/warnings/venv\u001b[0m\u001b[33m\n",
            "\u001b[0m"
          ]
        }
      ],
      "source": [
        "!pip install -q gdown"
      ]
    },
    {
      "cell_type": "code",
      "execution_count": null,
      "metadata": {
        "colab": {
          "base_uri": "https://localhost:8080/"
        },
        "id": "XoU1sYLxvDWH",
        "outputId": "b10b5290-d90b-4d4f-9bd6-d518c4570c4d"
      },
      "outputs": [
        {
          "name": "stdout",
          "output_type": "stream",
          "text": [
            "Downloading...\n",
            "From (original): https://drive.google.com/uc?id=1vZUsitBBYAYaVHbfonRuoHEK_toNZnN5\n",
            "From (redirected): https://drive.google.com/uc?id=1vZUsitBBYAYaVHbfonRuoHEK_toNZnN5&confirm=t&uuid=970ca863-2cbf-493d-aa1b-5acba86b6fc9\n",
            "To: /content/SRR3824222_1_bismark_bt2_pe.bam\n",
            "100% 2.04G/2.04G [00:19<00:00, 105MB/s] \n"
          ]
        }
      ],
      "source": [
        "url = 'https://drive.google.com/uc?id=1vZUsitBBYAYaVHbfonRuoHEK_toNZnN5'\n",
        "out = 'SRR3824222_1_bismark_bt2_pe.bam'\n",
        "!gdown {url} -O {out}"
      ]
    },
    {
      "cell_type": "code",
      "execution_count": null,
      "metadata": {
        "colab": {
          "base_uri": "https://localhost:8080/"
        },
        "id": "KLlEOrofvGAw",
        "outputId": "5352403b-8a0b-4def-ec39-5fc7fbfffdee"
      },
      "outputs": [
        {
          "name": "stdout",
          "output_type": "stream",
          "text": [
            "Downloading...\n",
            "From (original): https://drive.google.com/uc?id=1h8kqppLRjNoK2uwcnXfK7iQbe_sXQmor\n",
            "From (redirected): https://drive.google.com/uc?id=1h8kqppLRjNoK2uwcnXfK7iQbe_sXQmor&confirm=t&uuid=4a366256-7704-4e8a-b5ff-ba62cc7d5376\n",
            "To: /content/SRR5836473_1_bismark_bt2_pe.bam\n",
            "100% 806M/806M [00:05<00:00, 147MB/s]\n"
          ]
        }
      ],
      "source": [
        "url = 'https://drive.google.com/uc?id=1h8kqppLRjNoK2uwcnXfK7iQbe_sXQmor'\n",
        "out = 'SRR5836473_1_bismark_bt2_pe.bam'\n",
        "!gdown {url} -O {out}"
      ]
    },
    {
      "cell_type": "code",
      "execution_count": null,
      "metadata": {
        "colab": {
          "base_uri": "https://localhost:8080/"
        },
        "id": "YDDW0wnvu8Iu",
        "outputId": "a7230f29-fa44-46ce-fc0e-f05e3f543d69"
      },
      "outputs": [
        {
          "name": "stdout",
          "output_type": "stream",
          "text": [
            "Downloading...\n",
            "From (original): https://drive.google.com/uc?id=1yDVwkpPriz1ZMPSBkTm-5A6lNzXJJk6I\n",
            "From (redirected): https://drive.google.com/uc?id=1yDVwkpPriz1ZMPSBkTm-5A6lNzXJJk6I&confirm=t&uuid=cc746d4e-2682-4ff5-b565-d7cbb648ab14\n",
            "To: /content/SRR5836475_1_bismark_bt2_pe.bam\n",
            "100% 1.20G/1.20G [00:21<00:00, 56.2MB/s]\n"
          ]
        }
      ],
      "source": [
        "url = 'https://drive.google.com/uc?id=1yDVwkpPriz1ZMPSBkTm-5A6lNzXJJk6I'\n",
        "out = 'SRR5836475_1_bismark_bt2_pe.bam'\n",
        "!gdown {url} -O {out}"
      ]
    },
    {
      "cell_type": "code",
      "execution_count": null,
      "metadata": {
        "colab": {
          "base_uri": "https://localhost:8080/"
        },
        "id": "AxMpAQFVQFR8",
        "outputId": "128f7c63-0a68-4db9-a571-19d5a6737f21"
      },
      "outputs": [
        {
          "name": "stdout",
          "output_type": "stream",
          "text": [
            "total 263M\n",
            "-rw-r--r-- 1 root root  23K Feb 10 15:13 condacolab_install.log\n",
            "drwxr-xr-x 8 root root 4.0K Feb 10 15:04 FastQC\n",
            "-rw-r--r-- 1 root root 9.8M Jan 15  2020 fastqc_v0.11.9.zip\n",
            "drwxr-xr-x 1 root root 4.0K Feb  8 14:21 sample_data\n",
            "-rw-r--r-- 1 root root 5.0M Feb 10 15:20 SRR5836473_1_bismark_bt2_pe.bam\n",
            "-rw-r--r-- 1 root root 245M Feb 10 15:13 SRR5836473_1.fastq.gz\n",
            "-rw-r--r-- 1 root root 896K Feb 10 15:13 SRR5836473_2.fastq.gz\n",
            "-rw-r--r-- 1 root root 2.0M Feb 10 15:20 SRR5836475_1_bismark_bt2_pe.bam\n"
          ]
        }
      ],
      "source": [
        "! ls -lh"
      ]
    },
    {
      "cell_type": "code",
      "execution_count": null,
      "metadata": {
        "colab": {
          "base_uri": "https://localhost:8080/"
        },
        "id": "yMQy_LQ8xSOP",
        "outputId": "41ef1417-a79f-4f23-ff68-f8855a2a047d"
      },
      "outputs": [
        {
          "name": "stdout",
          "output_type": "stream",
          "text": [
            "SRR5836473.41_41_length=140\t99\tchr11\t40076664\t0\t140M\t=\t40076703\t178\tAATTTTTTTGGGGATTGTATTGAATTTGTAGATTGTTTTTGGTAAGAGAGTTATTTTTATTATATTGATTTTGTTAATTTATGAATATGGGAGATTTTTTTATTTTTTGAGATTTTTTTTAATTTTTTTTTTTAGAGATT\tKKKKKKKKKKKKKKKFKKKKKKKKKKKKKKFKKKKKKKKKFKKKKKKKKKFKKKKKKKKKKKKKKKKKKKKKKKKKKKKKKKKKKKKKKKKKKKKKKKKKKKKKKKKKKKKKKKKKKKKKKKKKKKKKKKKKKF7<77FF\tNM:i:28\tMD:Z:6G0A9C7C9C6C4T2C0C7C9C0C2C0C3C0C5C9C3C0C2C2C6C2C8C3C2C5C1\tXM:Z:.................h.......x.........h......h.......hh.......h.........hx..hh...hh.....h.........h...hh..h..x......h..h........h...h..x.....h.\tXR:Z:CT\tXG:Z:CT\n",
            "SRR5836473.41_41_length=140\t147\tchr11\t40076703\t0\t139M\t=\t40076664\t-178\tTGGTAAGAGAGTTATTTTTATTATATTGATTTTGTTAATTTATGAATATGGGAGATTTTTTTATTTTTTGAGATTTTTTTTAATTTTTTTTTTTAGAGATTTGAAGTTTTTATTATATAGATTTTTTATTTTTTTAGTG\tKKKKKAAFFFKKKKKKKKKKKKKFFKKKKKKKKKKFAFKKKKKKKKKKKKKKKKKKKKKKKKKKKKKKFKKKKKKKKKKKKFKKKKKKKKKKKKKKKKKKKKKKKKKKKKKKKKKKKKKKKKKKKKKKKKKKKKKKKKK\tNM:i:31\tMD:Z:3C4T2C0C7C9C0C2C0C3C0C5C9C3C0C2C2C6C2C8C3C2C5C8C4C3A4C3C1C2C6T0\tXM:Z:...h.......hh.......h.........hx..hh...hh.....h.........h...hh..h..x......h..h........h...h..x.....h........h....h........h...h.h..h.......\tXR:Z:GA\tXG:Z:CT\n",
            "SRR5836473.231_231_length=140\t83\tchr11\t48401999\t0\t140M\t=\t48401992\t-147\tACAAATTACTCCTTCTAATTCATTAAAAAATTAAATTAAAATTATAATAAAAATTACATTAAATCTATAAATTACTTTTAACAAAATAACCATTTTTACAATATTAATCCTACCAATCCATAAACACAAAAAAACTTTCC\tKKKKKKKKF<KKKKKKKKKFKKKKKKKKKKFKKKKKKKKKKKKKKKKKKKKKKKKKKKKKKKKKKKKKKKKKKKKKKKKKKKKKKKKKKKKKKKKKKKKKKKKKKKKKKKKKKKKKKKKKKKKFKKKKKKKKKKKKKKKK\tNM:i:34\tMD:Z:0G2G3G13G2G2G4G1G2G0G6G2G0G0G0G3G4G5G2G3G5G0G3G3G13G2G5G9G1G2T1G0G1G1T6\tXM:Z:h..x...h.............z..h..h....h.h..hh......h..hhhh...h....h.....x..h...h.....hh...h...h.............h..h.....x.........h.h....hh.h........\tXR:Z:CT\tXG:Z:GA\n",
            "SRR5836473.231_231_length=140\t163\tchr11\t48401992\t0\t139M\t=\t48401999\t147\tTAAATTTACAAATTACTCCTTCTAATTCATTAAAAAATTAAATTAAAATTATAATAAAAATTACATTAAATCTATAAATTACTTTTAACAAAATAACCATTTTTACAATATTAATCCTACCAATCCATAAACACAAAAA\tFFKFKKKKKKKKKKKKKKKKKKKKKKKKKKKKKKKKKKKKKKKKKKKKKKKKKKKKKKKKKKKKKKKAKFFKKKKKKKKKKKKKKKKFKAF<FF<FKKKKKKKKKKFKKKK<FFKAFF<FKF<FK7AF7A,7<AAF<KF\tNM:i:35\tMD:Z:1G3A1G2G3G13G2G2G4G1G2G0G6G2G0G0G0G3G4G5G2G3G5G0G3G3G13G2G5G9G1G2T1G0G1G0\tXM:Z:.h.....h..x...h.............z..h..h....h.h..hh......h..hhhh...h....h.....x..h...h.....hh...h...h.............h..h.....x.........h.h....hh.h\tXR:Z:GA\tXG:Z:GA\n",
            "SRR5836473.1421_1421_length=140\t99\tchr11\t30560802\t0\t140M\t=\t30560952\t289\tTGTTGAGGGGTATTTGGGTTTTTTTTAGTTTTCGGTTATTATAAATAAGGTTGTTATGAATATAGTGTAGTATGTGTTTTTTTTATTGGTTGGAATATTTTTTGGATATATGTTTAGATGAGGTATTGTGGGATTTTTTG\tKKKKKKKKFKFKKKKKKKFKKKKKFKKKKKAK,FAKKKKKKKKKKKKKKKKKKKKKKKKKKKKKKKKKKKKKKKFKKKKKKKKKKKKKKKKKKAKKKKKKKKKKKKKKKKKKKKKKKKKKKKKAKKKKAFFK<AFKKKKK\tNM:i:30\tMD:Z:10C2C6C3C0C2C2C0T2C9C4C2C6C6G2A6C3C3C0C8C2C2C10C0C0C3A9C5C0C1C2\tXM:Z:..........h..x......h...hx..h..x...h.........h....x..h......h................h...h...xz........h..h..x..........hhx.............z.....hh.x..\tXR:Z:CT\tXG:Z:CT\n",
            "SRR5836473.1421_1421_length=140\t147\tchr11\t30560952\t0\t139M\t=\t30560802\t-289\tGTTTAATTTTTTGAAGAATTGTTAGATTGATTTTTAGAGTGGTTGTAAAAGTTTGTAATTTTATTAATAATGGAGGAGTGTTTTTTTTTTTTTATATTTTTTTTAGTATTTGTTGTTATTTGAATTTTTGATTTTAGTT\t<<<<<<KF<KKKKKFFFKKAA<KAFKFKKKKKKKKKFFFFFFKKKFFAFAAKKKKFKKKKKKKKKKKKKKKKKKKKFKKKKKKKKKKKKKKKKFKKKKKKKKKKKKKKKKKKKKKKKKKKKKFKKKKKKKFKKKKKKFF\tNM:i:41\tMD:Z:2C0C6C3G3C2C0C3C6C0C12C3C3C3C0C0C1C0C2C14C0C1C3C1C0C1C1G0C0C1C0G0C0C2C2C2C3C1C0C12C5C0\tXM:Z:..hh......x.......x..hx...x......hx................h...h...hhh.hh..h..............hh.h...h.hh.x..hh.z.hx..h..x..x...h.hx............h.....h\tXR:Z:GA\tXG:Z:CT\n",
            "SRR5836473.2061_2061_length=140\t99\tchr11\t73270947\t0\t139M\t=\t73270962\t154\tATAAGAGATAGTTATATTAGGGTTTTGTTAGTAAAATTTTGTTGGTATTTGTAGTAGTGTTTGGGTTTGGTGGTTGTTTATGGGATGGATTTATGGGTGGGGTAGTTTTTGGATGGTTTTTTTTTTTATTTTAGTTTTG\tKKKKKKKKKKKFKKKKKKKKKKFKKKKKKKKKKKKKKFKKKKKKKKKKKKKKKKFKKFKKKKKKKKKKKKKKKKKKKKKKKKKKKKKKFFKKKKKKKFKKKK7AFAFKKKKKF7FKKKKKKFKFAKKKKKKKKF7FFKF\tNM:i:31\tMD:Z:1C6C2C5C5C0C3C2C5C3C3C2A2C1A4A1C1A27C0C10C3C1C9C2C0C2C0C2C1C2C1C2\tXM:Z:.h......x..h.....x.....hx...x..h.....h...x...h.....h........h.............................hh..........x...h.x.........h..hh..hh..h.x..h.x..\tXR:Z:CT\tXG:Z:CT\n",
            "SRR5836473.2061_2061_length=140\t147\tchr11\t73270962\t0\t139M\t=\t73270947\t-154\tATTAGGGTTTTGTTAGTAAAATTTTGTTGGTATTTGTAGTAGTGTTTGGGTTTGGTGGTTGTTTATGGGATGGATTTATGGGTGGGGTAGTTTTTGGATGGTTTTTTTTTTTATTTTAGTTTTGAATTTTGTTTTTGTA\tA7<AAAAA77AKKKFKKKFKKKKAKF<KKKFKKFKKFKAAKKKKFKAKKKKKKKFKKKKKKKKKKKKKFKKKKKKKKKKKKKKKKKKKKKKKKKKKKKKKKKKKKKKKKKKKKKKKKKKKKKKKKKKKKKKKKKKKKKK\tNM:i:31\tMD:Z:2C5C0C3C2C5C3C3C2A2C1A4A1C1A27C0C10C3C1C9C2C0C2C0C2C1C2C1C4C5C1C4\tXM:Z:..x.....hx...x..h.....h...x...h.....h........h.............................hh..........x...h.x.........h..hh..hh..h.x..h.x....h.....h.x....\tXR:Z:GA\tXG:Z:CT\n",
            "SRR5836473.3331_3331_length=140\t99\tchr11\t43350802\t40\t140M\t=\t43350876\t214\tTTTTAATGTAAGTTGTATAAGGAGTATAATTAGGTTTAGGTGATGTTGAAAATAATATAATTTTATTTATAAATATTATTATTATTATGATAAAGGGAAAGGTGATTATTTTTAAAAGATTATGATGGTTTGTTGGTAAT\tKKKKKKKKKKKKKKKKKKKKKKKKKKKKKKKKKKKKKKKKKKKKKKKKKKKKKKKKKKKKKKKKKKKKKKKKKKKKKKKKKKKKKKKKKKKKKKKKKKKKKKKKKKKKKKKKKKKKKKKKKKKKKKFKFFKKKKKKKKKF\tNM:i:29\tMD:Z:0C5C1C6C0T0C7G0C3C3C1C23C2C1C0C6C2C1C0C1C23C0C3C0C0C7C7C0C6C3\tXM:Z:h.....z.h......h.h........h...x...h.x.......................h..h.hh......h..h.hh.h.......................hh...hhh.......h.......hx......h...\tXR:Z:CT\tXG:Z:CT\n",
            "SRR5836473.3331_3331_length=140\t147\tchr11\t43350876\t40\t140M\t=\t43350802\t-214\tATTATTATTATTATGATAAAGGGAAAGGTGATTATTTTTAAAAGATTATGATGGTTTGTTGGTAATGTTATTGTTATACGTAGTATGTTTTGGTGTTATTTGGATTTTGTATTTTTTATAGTTTTTTTATTTTGTTAATT\tKFKKKKK<KKKKKFKAKFKKKKKKKKKKKKKKKKKKKKKKKKKKKKKKKFFKKKKKKKKKKKKKKKKKKKKKKKKKKKKKKFKKKKKKKKKKKKKKKKKKKKKKKKKKKKKKKKKKKKKKKKKKKKKKKKKKKKKKKKKK\tNM:i:34\tMD:Z:2C1C0C1C23C0C3C0C0C7C7C0C6C4C2C2C6C2C3C0C7C2C0C3C0C1C1C4C0C11C1C0C4C3C0\tXM:Z:..h.hh.h.......................hh...hhh.......h.......hx......h....h..x..h....Z.x..h...hh.......h..xz...hh.z.h....hh...........h.hh....h...h\tXR:Z:GA\tXG:Z:CT\n"
          ]
        }
      ],
      "source": [
        "! samtools view SRR5836473_1_bismark_bt2_pe.bam | head"
      ]
    },
    {
      "cell_type": "code",
      "execution_count": null,
      "metadata": {
        "colab": {
          "base_uri": "https://localhost:8080/"
        },
        "id": "P1dyhziI8bB0",
        "outputId": "d4e3d7ce-9737-4d94-d5ac-7845200e5cad"
      },
      "outputs": [
        {
          "name": "stdout",
          "output_type": "stream",
          "text": [
            "SRR5836475.1_1_length=140\t83\tchr11\t27560911\t0\t139M\t=\t27560897\t-153\tTTACAAAAAATTTAAAACAAATAAAATAAAAACAAAATAAACCTTTAATAACCTTAAAAAAAATAACTACCCCTCTTTTATTTTAAAAAACCAATTCTTTAAAATACAATAAACACATTCAACTATTCCTTATCCCATA\tFKKAKAKKKKKKKKKKKKKKKKKKFKKKKKKKKKFAKKKKKKKKKKKKKKKKKKKKKKKKKKKKKKKKKKKKKKKKKKKKKKKKKKKKKKKKKKKKKKKKKKKKKKKKKKKKKKKKKKKKKKKKKKKKKKKKKKKKKKK\tNM:i:39\tMD:Z:0G1G3G7G0G8G0G1G2G0G3G0G1G0G0G5G0G1G5G0G0G0G0G1T3G2G10G1C5G1G12G0G1G1G2G1G3G14G6G0\tXM:Z:..h...h.......hh........hh.h..hh...hh.hhh.....hh.h.....hhhhh.....h..x..........h.......h.h............hh.h.z..h.h...z..............h......h\tXR:Z:CT\tXG:Z:GA\n",
            "SRR5836475.1_1_length=140\t163\tchr11\t27560897\t0\t140M\t=\t27560911\t153\tCCTTTAATATCAATTTACAAAAAATTTAAAACAAATAAAATAAAAACAAAATAAACCTTTAATAACCTTAAAAAAAATAACTACCCCTCTTTTATTTTAAAAAACCAATTCTTTAAAATACAATAAACACATTCAACTAT\tFFKKKKKKKKKKKKKKKKKKKKKKKKKKKKKKKKKKKKKKKKKKKKKKKKKKKKKKKKKKKKKKKKKKKKKKKKKKKFKKKKKKKKKKKFKKKKKKKKKKKKAKKKKFKKKFFKKKKKFKKAAKKKAFAAFKKKF<AKKK\tNM:i:41\tMD:Z:2C2G5G0G1G1G3G7G0G8G0G1G2G0G3G0G1G0G0G5G0G1G5G0G0G0G0G1T3G2G10G1C5G1G12G0G1G1G2G1G3G9\tXM:Z:.....h.....zx...h...h.......hh........hh.h..hh...hh.hhh.....hh.h.....hhhhh.....h..x..........h.......h.h............hh.h.z..h.h...z.........\tXR:Z:GA\tXG:Z:GA\n",
            "SRR5836475.121_121_length=140\t99\tchr11\t40076651\t0\t140M\t=\t40076665\t154\tAGAATTGAGTTGGAATTTTTTTGGGGATTGTATTGAATTTGTAGATTGTTTTTGGTAAGAGAATTATTTTTATTATATTGATTTTGTTAATTTATGAATATGGGAGATTTTTTTATTTTTTGAGATTTTTTTTAATTTTT\tKKKKFKKKKAAKKKKKKKKKKKKKKKKKKKKKKKKKKKKKKFKKKFKKKKKKKKKKKKKKKKKKKKKKKKKKKKKKKKKKKKKKKKKKKKKKKKKKKKKKKKKKKKKKKFKKKKKKKKKKKKKKKKKKKKKKKKKKFFKF\tNM:i:26\tMD:Z:19G0A9C7C9C6C4T1G0C0C7C9C0C2C0C3C0C5C9C3C0C2C2C6C2C8C1\tXM:Z:..............................h.......x.........h......h.......hh.......h.........hx..hh...hh.....h.........h...hh..h..x......h..h........h.\tXR:Z:CT\tXG:Z:CT\n",
            "SRR5836475.121_121_length=140\t147\tchr11\t40076665\t0\t140M\t=\t40076651\t-154\tATTTTTTTGGGGATTGTATTGAATTTGTAGATTGTTTTTGGTAAGAGAATTATTTTTATTATATTGATTTTGTTAATTTATGAATATGGGAGATTTTTTTATTTTTTGAGATTTTTTTTAATTTTTTTTTTTAGAGATTT\t7KFKAAK<,FAA7A<,KKKAA<7<FFFFFFAA7AAFKKKKFFKKKKKFKKKKKKKKKFKKKKFKKKFKKKKKKKKKKKKKKKKKKKKKKKKKKKKKKKKKKKKKKKKKKKKKKKKKKKKKKKKKKKKKKKKKKKKKKKKK\tNM:i:29\tMD:Z:5G0A9C7C9C6C4T1G0C0C7C9C0C2C0C3C0C5C9C3C0C2C2C6C2C8C3C2C5C2\tXM:Z:................h.......x.........h......h.......hh.......h.........hx..hh...hh.....h.........h...hh..h..x......h..h........h...h..x.....h..\tXR:Z:GA\tXG:Z:CT\n",
            "SRR5836475.141_141_length=140\t99\tchr11\t56070543\t15\t140M\t=\t56070604\t200\tGTTTGTTGTAGATTGTTTTTATTATGTTTAGTTTTGGGTTTTGAATTTTTGATTTTTTTAAAATTTTTATTATGAATGGGTGTTGGATTTTGTTAAATGTTTTTTTTGTATTTAACGAGATGATTATGTGGTTTTTGTTT\tKFFKKKKKKKKKKKKKKKKKKKFKFKKKKKKKKKKKKKKKKKKKKKKKKKKKKKKKKKKKKKKKKKKKKKKKKKKKKKKKFFFKKKKKKKKKKKKKKKKKKKKKKKKKKKKKKKKKKKKKKKKKKKKKFKKFKFKKKKKK\tNM:i:21\tMD:Z:5C9C6C8G6C0C7C0C4C3C0C4C6C17C4C5C5C2C2C12C13C1\tXM:Z:.....x.........h......h...............hh.......hx....h...hh....h......h.................h....h.....h.....x..h..h...Z........h.............h.\tXR:Z:CT\tXG:Z:CT\n",
            "SRR5836475.141_141_length=140\t147\tchr11\t56070604\t15\t139M\t=\t56070543\t-200\tAATTTTTATTATGAATGGGTGTTGGATTTTGTTAAATGTTTTTTTTGTATTTAACGAGATGATTATGTGGTTTTTGTTTTTGAGTTTGTTTATATAATGGATTATATTGATGGATTTTCGTATATTAAATTATTTTCTT\t<FAAAFKFAKKKKKFFFF<KAA7<,FKFKKKKKFFKKKKFFFFAKFFKFAAFKKKKKKFKKKFFKKKKFKKKAKKKKFFKKKKFAKFKKKKKKKKFFKKFK<AFKKKKKKKKKKKFFFFFFKKKKKKKKKKKKKKKFF,\tNM:i:19\tMD:Z:2C6C17C4C5C5C2C2C12C13C26C24C0C2C0C0C0T0G0C0\tXM:Z:..h......h.................h....h.....h.....x..h..h...Z........h.............h..........................h.............Z..........hh..hhx..h\tXR:Z:GA\tXG:Z:CT\n",
            "SRR5836475.2801_2801_length=140\t83\tchr11\t26344345\t8\t115M1D22M\t=\t26344320\t-163\tTTTATAATTAAATTACCTCACTCAAAATAATACCCTCCAAATCCATCCATTTACCTAAAAATTTCATAAATTCATTTTTTTTAATAACTAAATAATACTCCATTATATACATATACACATTTTCTATATCCATTCCT\tKKKFFKKKKFKKKKFFKKKKKKKKKKKKKKKFKKKKKFKKKKKKKKKFFKKKKFKKKKKKKKKKKKKKKKKKKKKKKKKKKKKKKKKKKKKKKKKKKKKKKKKKKKKKKKKKKKKKKKKKKKKKKKKKKKKKKKKKK\tNM:i:24\tMD:Z:3G1G3G0G0G12G0G2G2G7G0G11G4G0G27G2G1G2G9G1G2A2G2^C10G11\tXM:Z:...h.h...hhh............xh..h..h.......xh...........h....hh...........................h..x.h..h.........h.h.....h............x...........\tXR:Z:CT\tXG:Z:GA\n",
            "SRR5836475.2801_2801_length=140\t163\tchr11\t26344320\t8\t139M\t=\t26344345\t163\tAATAAATACATATCATATAAATTCTTTTATAATTAAATTACCTCACTCAAAATAATACCCTCAAAATCCATCCATTTACCTAAAAATTTCATAAATTCATTTTTTTTAATAACTAAATAATACTCCATTATATACATAT\tFKKKKKKKKFK<<FKFFKKKKKKKKFKKKKKKKKKKKKKKAKK<A,FFFKFKKKKKKKKKKK7FFFKKKKKKKAKKKK,FK<FKFKF,,F<AAF7,,F,AFKKKA7A7<,FKA7,,,<7FKAFAFAFAA<,AKK7FFAF\tNM:i:31\tMD:Z:1G1G1G7T0G1G1G1G7G1G3G0G0G12G0G2G2G5C1G0G11G4G0G27G2G1G2G9G1G2A2G1\tXM:Z:.x.h.h........h.h.h.h.......h.h...hhh............xh..h..h.......xh...........h....hh...........................h..x.h..h.........h.h.....h.\tXR:Z:GA\tXG:Z:GA\n",
            "SRR5836475.3001_3001_length=140\t99\tchr11\t4393068\t3\t5M1I12M2I119M\t=\t4393122\t194\tTATATAATATATATATATGGTGTATTGGTTAGTTTTGTGTTAATTTGATATAGTTGGAGTTATTATAGAGAAAGGAGTTTTAGTTGAGGAAATGTTTTTATGAGATTTAGTTGTAAGGTATTTTTTTAATTAGTGATTA\tKKKKKKKKKKKKKKKKKKKKKKKKKKKKKKKKKKKKKKKKKKKKKKKKKKKKKKKKKKKFKFKKKKKKKKKKKKKKKFKKKKKKKKKKKKKKKKKKKKKKKKFKFKKKKKKKKKKKKKFKKKKKKKKKKKKKKKKKFKK\tNM:i:29\tMD:Z:0C7C3C3C4C3C11C2C4C1C2C9C1C11C2C13C0C1C0C7C0C2C7C5C1C10C1\tXM:Z:h........h...h...u......x...h...........h..h....h.x..x.........h.x...........h..x.............hh.hh.......hx..x.......h.....h.h..........h.\tXR:Z:CT\tXG:Z:CT\n",
            "SRR5836475.3001_3001_length=140\t147\tchr11\t4393122\t3\t140M\t=\t4393068\t-194\tAGTTATTATAGAGAAAGGAGTTTTAGTTGAGGAAATGTTTTTATGAGATTTAGTTGTAAGGTATTTTTTTAATTAGTGATTAAGGGGGGAGGTTTTTTTGTGGGTGGGATTATTTTTGGGTTGGTAGTTTTGGTTTTATA\tKKKFF<7KKKKKKKKKKKKKKFKKKKKKKKKKKKKKKKKKKKKKKKKKAAAKKKKKKKKKKKKKKKKKKKKKKKKKKKKKFKKKKKKKKKKKKKKKKKKKKKKKKKKKKKKKKKKKKKKKKKKKKKKKKKKKKKKKKKKK\tNM:i:28\tMD:Z:6C1C11C2C13C0C1C0C7C0C2C7C5C1C10C12C0C0C0C10T0G0C0C2C1C4C7C4G6\tXM:Z:......h.x...........h..x.............hh.hh.......hx..x.......h.....h.h..........h............hhhh............hh..h.x....x.......h...........\tXR:Z:GA\tXG:Z:CT\n"
          ]
        }
      ],
      "source": [
        "! samtools view SRR5836475_1_bismark_bt2_pe.bam | head"
      ]
    },
    {
      "cell_type": "code",
      "execution_count": null,
      "metadata": {
        "colab": {
          "base_uri": "https://localhost:8080/"
        },
        "id": "ximsADi78gZg",
        "outputId": "d6169274-93c1-4c3f-d6a5-a4d49f89cf96"
      },
      "outputs": [
        {
          "name": "stdout",
          "output_type": "stream",
          "text": [
            "SRR3824222.171_171_length=140\t83\tchr11\t57255358\t3\t140M\t=\t57255170\t-328\tATTTACACAATAAAATACTACTCAACTATTAAAAAAAATAAATTTATAAAATTCTTAAACAAATAAATAAACCTAAAAAACATCATCCTAAGTAAAATAACCCAATCACAAAAAAACTCACATAATATATACTCACTAAT\tKKKKKKKKKKKKKKKKKKKAFF,FF<FA,FA,KKKKKKKKKKKKKKKKKKKKKKKKKKKKKKKKF7,KKKKKKKKKKKKKKKKKKKF<<<F7,KKKKKKKKFKKKKKKKKKKKKKFKKKKKKKKKKKKKKFKKKKKKKKK\tNM:i:29\tMD:Z:11G0G1G9G10G3G7G6C2G0G5G0G2G0G4T0G1G0G0G9G3G1G0G15G0G5G2C5G8G2\tXM:Z:...........hh.h.........x..........h...h.......h.........hh.....hh..hh.....h.hhh.........x.H.h.hh...............hh.....z........h........x..\tXR:Z:CT\tXG:Z:GA\n",
            "SRR3824222.171_171_length=140\t163\tchr11\t57255170\t3\t139M\t=\t57255358\t328\tAAGAAAGGAACATAATACTACCGAAAAATCCAACAATACCTCTCCTAAACATATATCCAAAAAATATTCCAACCGATAAAAAAAACACATACTCAACTATATTCATAACAACCTTATTTATAATAACCAAAATCTAAAA\tFFFFKKFKKKKKKKKKKKKKKKKFKKKKKKKKKKKKKKKKFKKKKKKKKKKAKKKKKKKKKKKKKKKKKKKKKKK<<FKKAKKKKKKKFKKKFKKKKKKKFKKKKKKKKKKKKKF<F<AFKKKFKKKKFK7FAFFKKKK\tNM:i:30\tMD:Z:0G1A2T0T1G5G7A0G1G0G5G13G1G10G5G9G3G2G0G0G5G9G6G2G8G5G3G2G2G0G2\tXM:Z:x......Hh.....h........x.hh.....x.............x.h..........x.....h........Zx...h..hhh.....h.........h......h..x........h.....h...x.....xh..\tXR:Z:GA\tXG:Z:GA\n",
            "SRR3824222.311_311_length=140\t83\tchr11\t103450159\t0\t50M1D90M\t=\t103450096\t-204\tAAAATTTAATAAAAATAAAACCACAAAATACCCAAACTTATAAAACACAAAAAAACATTTCTAAAAAAAAAACTCATAACTCTAAATACCTCCAAAAAAAAACTAAAAAAAACACACACTAACAACTTAACAACACACCT\tKKKKKKKKKAKKKFAAKKFFFF<AKKKAA<KF,,KAKKKFAAKKF7,KKKKFA<AKKKKKKKKKKKKKKKKKKKKKKKKKKKKKKKKFKKKKKKKKKKKKKKKKKKKKKKKKKKKKKKKKKKKKKKKKKKKKKKFKKKKK\tNM:i:28\tMD:Z:1G1G6G5G2G6C14G0G0G6^T0G3G9G1G0G10G0T3G1G1G10G6G1G1G1G9G2G3G11\tXM:Z:.h.h......h.....h..h.....................hhh......h...h.........h.hh..........h....x.h.h..........h......h.h.h.h.........h..x...h...........\tXR:Z:CT\tXG:Z:GA\n",
            "SRR3824222.311_311_length=140\t163\tchr11\t103450096\t0\t113M1D27M\t=\t103450159\t204\tCAACACTCTTCTCAATAATACCTTAATCAAAAAAAAAATAAAAAATAAAATTAAAAACTTTTTAAAATTTAATAAAAATAAAACCACAAAATACCCAAACTTATAAAACACAAAAAAACATTTCTAAAAAAAAAACTCAT\tKKKKKKKKKKKKKKKKKKKKKKKKKKKKKKKKKKKKKKKKKKKKKKKKKKKKKKKKKKKKKKKKFKKKKKKKFKKKKKFKKFKAFKKKKKKKKKKKKKKKF<FK<KKKKKKKKKKKKKKKA<,A,,<AKKF<A7<<<AK7\tNM:i:26\tMD:Z:16G7G0G4G0G2G0G6G2A0G8G8G1G6G5G2G6C14G0G0G6^T0G3G9G1G0G9\tXM:Z:................h.......hh....hh..hh......h...h........h........h.h......h.....h..h.....................hhh......h...h.........h.hh.........\tXR:Z:GA\tXG:Z:GA\n",
            "SRR3824222.1271_1271_length=140\t99\tchr11\t12139514\t0\t140M\t=\t12139579\t204\tTTATTTTTTGGTTTTGATGTTTTTTTGTATTGGGGTATATAAAGTTTGTAAGATTAAGAGGTTTTTTTTTTTAATGATGGTCGATTAGGCTATTTTTTGTTATATATGTAGTTAGAGATATGAGTTTTGGAGGTATTGGT\tKKKKKKKKKKKKKKKKKKKKKKKKKKKKKKKKKKKFKKKKKKKKKKKKKKKKKKKKKKKKKKKKKKKKKKKKKKKKKKKKKKKKKKKKKKKKKKKKKKKKKKKKKKKKKKKKKKKKKKKKKKKKAFKKKKFKKAFKKKKF\tNM:i:42\tMD:Z:0C0C1C2C0C3C0C0C2G0C0A2C0C0C0C4C5C12C4C0C6C0C1C1C2C0C0C8C0T2A5C2C2C2C2C5C2C6C1C3C1C3G9\tXM:Z:hh.h..hx...hhx...h...hhhx....x.....h............h....hh......hh.h.h..hhh........x........Hh..h..x..h..h.....x..h......h.z...h.x.............\tXR:Z:CT\tXG:Z:CT\n",
            "SRR3824222.1271_1271_length=140\t147\tchr11\t12139579\t0\t139M\t=\t12139514\t-204\tTTTTTTTAATGATGGTCGATTAGGCTATTTTTTGTTATATATGTAGTTAGAGATATGAGTTTTGGAGGTATTGGTTAGTTTATATTGTTGTTTCATTTATAGGGTTGTAGATTTTTTTAGTTTTTTAGGTATTCCTCTC\tA7,AK<<AKKKFKAFFKFKKKFFFKKKKKKKKKFAFKKAFFFKKKKKAKKKKKKKKKKKKKKKKKKKKKKKKKKKKKKKKKKKKKKKKKKKFKKKKKKKKKKKKKKKKKKKKKKKKKKFKKKKKKKKKKKKKKKKKKKK\tNM:i:42\tMD:Z:1C2C0C0C8C0T2A5C2C2C2C2C5C2C6C1C3C1C3G14C11C2C0C7C2C3C0C0C0C2C2C1C0C2G3G0C1T0T0C0T0C0T0\tXM:Z:.h..hhh........x........Hh..h..x..h..h.....x..h......h.z...h.x..................h...........hH.hh.......x..x...hhhh..x..h.hh.......h...h.h.\tXR:Z:GA\tXG:Z:CT\n",
            "SRR3824222.5081_5081_length=140\t99\tchr11\t22485726\t0\t140M\t=\t22485741\t154\tAAAATAATGTATGATTTTTTTAGTTTTGGGTTATTAATTGTAATTGAGGTTGTATTTTTATTAATGGTTTTTTATGGTTTTTTATAGTGTTAAGTTTTAGTTGTTTTGCGTGATTTTTTTATATTTTTAAAATTAGTATT\tKKKFFA<FKFFKFFKKKKKKKKKKK,FFKKKKKKKKKKFFKKK,7FKKFFKKKKKKKKKFKKKFKFKFFA7FKKKKKAKFAKKAKK,<FFFKAAFFKKKAKKFAFKKKKF7AFAAKKKKKAKFKK7FKKFF,<AA7AK<A\tNM:i:53\tMD:Z:4C1C2C4C0C0C0C2C3C0C4C0C0T1C5C2C5C2C1C0C2C1C0C5C0C2C0C4C0C1C1C1C4C0C3C0C1C2C2C4T4C0C0C0C2C2G0C0C2C4C0C4C0C0\tXM:Z:....h....h....hhhh..x...hx....hh..h.....h..x.....x..h.hh..h.hh.....hh..hh....hh.h.h.x....hh...hh.x..x..h.........hhhh..h...hh..h....hx....hh\tXR:Z:CT\tXG:Z:CT\n",
            "SRR3824222.5081_5081_length=140\t147\tchr11\t22485741\t0\t139M\t=\t22485726\t-154\tTTTTTTAGTTTTGTGTTATTAATTGTAATTGAGGTTGTATTTTTATTAATGGTTTTTTATGGTTTTTTATAGTGTTAAGTTTTAGTTGTTTTGCGTGATTTTTTTATATTTTTAAAATTAGTATTATTTGGATGACTTT\t<7,KAFF7<FA,<,KAKAFFAKK<<A7<,F<A,<F7,KFAKKKAFKFKKKKFKKKKKFFF7FAFFKAKKKKKKKKK,KFKFFFAKKKKKKKKKKKKKKKKFKKKKFKKKKFKKKKKKKKKF<KKFKFKKKKKKKKKKKK\tNM:i:55\tMD:Z:0C0C0C2C3C0C2G1C0C0T1C5C2C5C2C1C0C2C1C0C5C0C2C0C4C0C1C1C1C4C0C3C0C1C2C2C4T4C0C0C0C2C2G0C0C2C4C0C4C0C1C0C3G4C0C1\tXM:Z:hhh..x...hx....hh..h.....h..x.....x..h.hh..h.hh.....hh..hh....hh.h.h.x....hh...hh.x..x..h.........hhhh..h...hh..h....hx....hh.hx.......Hhh.\tXR:Z:GA\tXG:Z:CT\n",
            "SRR3824222.5241_5241_length=140\t83\tchr11\t16526254\t3\t140M\t=\t16526231\t-163\tAAAATCCTCCATCATCATCATAAAAAATAACTTTAAATCCATACCTTACTTTTCTAATATAATAATATATCCAAAACTTACTATAATAAAAAAATTTAATTCTAATAATACCAAATAACCTTAATTTCTATTACTTCTAT\tFF7FFKKKFKKKKKKFKKKKKKKKKKKKKKKKKKKKKKKKKKKKKKKKKKKKKKKKKKKKKKKKKKKKKKKKKKKKKKKKKKKKKKKKKKKKKKKKKKKKKKKKKKKKKKKKKKKKKKKKKKKKKKKKKKKKKKKKKKKK\tNM:i:35\tMD:Z:3G17G4G1G6G6G0T11G0G1G1G2G0G1G6G0G4G4G2G0G0G1G1G3G0G4G2G2G1A2G7G0G5G2G5G1\tXM:Z:...h.................h....h.h......h......h............xh.h.h..hh.h......xh....h....h..hhh.h.h...hh....x..h..h....h.......hh.....x..h.....x.\tXR:Z:CT\tXG:Z:GA\n",
            "SRR3824222.5241_5241_length=140\t163\tchr11\t16526231\t3\t139M\t=\t16526254\t163\tATACTTTCCTATATTTCCTACTTAAAATCCTCCATCATCATCATAAAAAATAACTTTAAATCCATACCTTACTTTTCTAATATAATAATATATCCAAAACTTACTATAATAAAAAAATTTAATTCTAATAATACCAAAT\tKKKKKKKKKKKKKKKKKKKKKKKKKKKKKKKKKKKKKKKKKKKKKKKKKKKKKKKKKKKKKKKKKKKKKKKKKKKKKKKKKKKKKKKKKKFKKKKKKKKKKKKKKKKFKKAFKKKKFKAKKKFKKFKFFAAK<FFA<AK\tNM:i:35\tMD:Z:0G1G0T6G8T6G17G4G1G6G6G0T11G0G1G1G2G0G1G6G0G4G4G2G0G0G1G1G3G0G4G2G2G1A2G1\tXM:Z:x.h.......x...............h.................h....h.h......h......h............xh.h.h..hh.h......xh....h....h..hhh.h.h...hh....x..h..h....h.\tXR:Z:GA\tXG:Z:GA\n"
          ]
        }
      ],
      "source": [
        "! samtools view SRR3824222_1_bismark_bt2_pe.bam | head"
      ]
    },
    {
      "cell_type": "code",
      "execution_count": null,
      "metadata": {
        "colab": {
          "base_uri": "https://localhost:8080/"
        },
        "id": "SrGGCxZQ2Ao3",
        "outputId": "98bac7b5-4650-460d-e5cc-3d632185ae48"
      },
      "outputs": [
        {
          "name": "stdout",
          "output_type": "stream",
          "text": [
            "[bam_sort_core] merging from 4 files and 1 in-memory blocks...\n"
          ]
        }
      ],
      "source": [
        "! samtools sort SRR5836473_1_bismark_bt2_pe.bam -o sorted_8cell.bam"
      ]
    },
    {
      "cell_type": "code",
      "execution_count": null,
      "metadata": {
        "id": "GErvoOM-3Axj"
      },
      "outputs": [],
      "source": [
        "! samtools index  sorted_8cell.bam"
      ]
    },
    {
      "cell_type": "code",
      "execution_count": null,
      "metadata": {
        "colab": {
          "base_uri": "https://localhost:8080/"
        },
        "id": "FRnsbShJ9Uhh",
        "outputId": "f254e1f5-7081-439a-d8df-2186bd2fc739"
      },
      "outputs": [
        {
          "name": "stdout",
          "output_type": "stream",
          "text": [
            "[E::hts_open_format] Failed to open file \"sorted_icm.bam.tmp.0000.bam\" : File exists\n",
            "samtools sort: failed to create \"sorted_icm.bam.tmp.0000.bam\": File exists\n",
            "[E::hts_open_format] Failed to open file \"sorted_icm.bam.tmp.0000-001.bam\" : File exists\n",
            "samtools sort: failed to create \"sorted_icm.bam.tmp.0000-001.bam\": File exists\n",
            "[E::hts_open_format] Failed to open file \"sorted_icm.bam.tmp.0001.bam\" : File exists\n",
            "samtools sort: failed to create \"sorted_icm.bam.tmp.0001.bam\": File exists\n",
            "[E::hts_open_format] Failed to open file \"sorted_icm.bam.tmp.0002.bam\" : File exists\n",
            "samtools sort: failed to create \"sorted_icm.bam.tmp.0002.bam\": File exists\n",
            "[E::hts_open_format] Failed to open file \"sorted_icm.bam.tmp.0003.bam\" : File exists\n",
            "samtools sort: failed to create \"sorted_icm.bam.tmp.0003.bam\": File exists\n",
            "[bam_sort_core] merging from 5 files and 1 in-memory blocks...\n"
          ]
        }
      ],
      "source": [
        "! samtools sort SRR5836475_1_bismark_bt2_pe.bam -o sorted_icm.bam\n",
        "! samtools index  sorted_icm.bam"
      ]
    },
    {
      "cell_type": "code",
      "execution_count": null,
      "metadata": {
        "colab": {
          "base_uri": "https://localhost:8080/"
        },
        "id": "JdyKEkg3-Lmo",
        "outputId": "4df87e71-5a92-47fc-ebaf-eaaff78a0059"
      },
      "outputs": [
        {
          "name": "stdout",
          "output_type": "stream",
          "text": [
            "[bam_sort_core] merging from 9 files and 1 in-memory blocks...\n"
          ]
        }
      ],
      "source": [
        "! samtools sort SRR3824222_1_bismark_bt2_pe.bam -o sorted_epiblast.bam\n",
        "! samtools index  sorted_epiblast.bam"
      ]
    },
    {
      "cell_type": "markdown",
      "metadata": {
        "id": "Lw--6KavBoXp"
      },
      "source": [
        "Сколько ридов закартировалось на регион 58717111-58917111 в образце 8-cell?"
      ]
    },
    {
      "cell_type": "code",
      "execution_count": null,
      "metadata": {
        "colab": {
          "base_uri": "https://localhost:8080/"
        },
        "id": "b-ZhJMlax75S",
        "outputId": "0c138be0-1861-46a7-c109-2b2959d73b1e"
      },
      "outputs": [
        {
          "name": "stdout",
          "output_type": "stream",
          "text": [
            "551\n"
          ]
        }
      ],
      "source": [
        "! samtools view sorted_8cell.bam chr11:11347700-11367700 | cut -f1 | sort -u | wc -l"
      ]
    },
    {
      "cell_type": "code",
      "execution_count": null,
      "metadata": {
        "colab": {
          "base_uri": "https://localhost:8080/"
        },
        "id": "wv_dQzPB4-sI",
        "outputId": "5f782d18-7963-4d67-eecf-8c709644399b"
      },
      "outputs": [
        {
          "name": "stdout",
          "output_type": "stream",
          "text": [
            "194\n"
          ]
        }
      ],
      "source": [
        "! samtools view sorted_8cell.bam chr11:40185800-40195800 | cut -f1 | sort -u | wc -l"
      ]
    },
    {
      "cell_type": "code",
      "execution_count": null,
      "metadata": {
        "colab": {
          "base_uri": "https://localhost:8080/"
        },
        "id": "Pa19aQlQ8Pnl",
        "outputId": "e56ca2b4-d45f-40c4-8975-f7fe3f8568d5"
      },
      "outputs": [
        {
          "name": "stdout",
          "output_type": "stream",
          "text": [
            "797\n",
            "274\n"
          ]
        }
      ],
      "source": [
        "! samtools view sorted_icm.bam chr11:11347700-11367700 | cut -f1 | sort -u | wc -l\n",
        "! samtools view sorted_icm.bam chr11:40185800-40195800 | cut -f1 | sort -u | wc -l"
      ]
    },
    {
      "cell_type": "code",
      "execution_count": null,
      "metadata": {
        "colab": {
          "base_uri": "https://localhost:8080/"
        },
        "id": "FvxL0MkE_o5I",
        "outputId": "3b07f508-cfa8-4896-e4fd-37c255f3f262"
      },
      "outputs": [
        {
          "name": "stdout",
          "output_type": "stream",
          "text": [
            "1344\n",
            "565\n"
          ]
        }
      ],
      "source": [
        "! samtools view sorted_epiblast.bam chr11:11347700-11367700 | cut -f1 | sort -u | wc -l\n",
        "! samtools view sorted_epiblast.bam chr11:40185800-40195800 | cut -f1 | sort -u | wc -l"
      ]
    },
    {
      "cell_type": "code",
      "execution_count": null,
      "metadata": {
        "colab": {
          "base_uri": "https://localhost:8080/",
          "height": 143
        },
        "id": "TeJCNuZVBHXz",
        "outputId": "c3e10eef-a2f6-441d-c023-ed4ce21704ab"
      },
      "outputs": [
        {
          "data": {
            "text/html": [
              "\n",
              "  <div id=\"df-796c0188-c2d9-4efd-bdc5-621c75fd11bd\" class=\"colab-df-container\">\n",
              "    <div>\n",
              "<style scoped>\n",
              "    .dataframe tbody tr th:only-of-type {\n",
              "        vertical-align: middle;\n",
              "    }\n",
              "\n",
              "    .dataframe tbody tr th {\n",
              "        vertical-align: top;\n",
              "    }\n",
              "\n",
              "    .dataframe thead th {\n",
              "        text-align: right;\n",
              "    }\n",
              "</style>\n",
              "<table border=\"1\" class=\"dataframe\">\n",
              "  <thead>\n",
              "    <tr style=\"text-align: right;\">\n",
              "      <th></th>\n",
              "      <th>Образцы</th>\n",
              "      <th>chr11:11347700-11367700</th>\n",
              "      <th>chr11:40185800-40195800</th>\n",
              "    </tr>\n",
              "  </thead>\n",
              "  <tbody>\n",
              "    <tr>\n",
              "      <th>0</th>\n",
              "      <td>8 Cell</td>\n",
              "      <td>551</td>\n",
              "      <td>194</td>\n",
              "    </tr>\n",
              "    <tr>\n",
              "      <th>1</th>\n",
              "      <td>ICM</td>\n",
              "      <td>797</td>\n",
              "      <td>274</td>\n",
              "    </tr>\n",
              "    <tr>\n",
              "      <th>2</th>\n",
              "      <td>Epiblast</td>\n",
              "      <td>1344</td>\n",
              "      <td>565</td>\n",
              "    </tr>\n",
              "  </tbody>\n",
              "</table>\n",
              "</div>\n",
              "    <div class=\"colab-df-buttons\">\n",
              "\n",
              "  <div class=\"colab-df-container\">\n",
              "    <button class=\"colab-df-convert\" onclick=\"convertToInteractive('df-796c0188-c2d9-4efd-bdc5-621c75fd11bd')\"\n",
              "            title=\"Convert this dataframe to an interactive table.\"\n",
              "            style=\"display:none;\">\n",
              "\n",
              "  <svg xmlns=\"http://www.w3.org/2000/svg\" height=\"24px\" viewBox=\"0 -960 960 960\">\n",
              "    <path d=\"M120-120v-720h720v720H120Zm60-500h600v-160H180v160Zm220 220h160v-160H400v160Zm0 220h160v-160H400v160ZM180-400h160v-160H180v160Zm440 0h160v-160H620v160ZM180-180h160v-160H180v160Zm440 0h160v-160H620v160Z\"/>\n",
              "  </svg>\n",
              "    </button>\n",
              "\n",
              "  <style>\n",
              "    .colab-df-container {\n",
              "      display:flex;\n",
              "      gap: 12px;\n",
              "    }\n",
              "\n",
              "    .colab-df-convert {\n",
              "      background-color: #E8F0FE;\n",
              "      border: none;\n",
              "      border-radius: 50%;\n",
              "      cursor: pointer;\n",
              "      display: none;\n",
              "      fill: #1967D2;\n",
              "      height: 32px;\n",
              "      padding: 0 0 0 0;\n",
              "      width: 32px;\n",
              "    }\n",
              "\n",
              "    .colab-df-convert:hover {\n",
              "      background-color: #E2EBFA;\n",
              "      box-shadow: 0px 1px 2px rgba(60, 64, 67, 0.3), 0px 1px 3px 1px rgba(60, 64, 67, 0.15);\n",
              "      fill: #174EA6;\n",
              "    }\n",
              "\n",
              "    .colab-df-buttons div {\n",
              "      margin-bottom: 4px;\n",
              "    }\n",
              "\n",
              "    [theme=dark] .colab-df-convert {\n",
              "      background-color: #3B4455;\n",
              "      fill: #D2E3FC;\n",
              "    }\n",
              "\n",
              "    [theme=dark] .colab-df-convert:hover {\n",
              "      background-color: #434B5C;\n",
              "      box-shadow: 0px 1px 3px 1px rgba(0, 0, 0, 0.15);\n",
              "      filter: drop-shadow(0px 1px 2px rgba(0, 0, 0, 0.3));\n",
              "      fill: #FFFFFF;\n",
              "    }\n",
              "  </style>\n",
              "\n",
              "    <script>\n",
              "      const buttonEl =\n",
              "        document.querySelector('#df-796c0188-c2d9-4efd-bdc5-621c75fd11bd button.colab-df-convert');\n",
              "      buttonEl.style.display =\n",
              "        google.colab.kernel.accessAllowed ? 'block' : 'none';\n",
              "\n",
              "      async function convertToInteractive(key) {\n",
              "        const element = document.querySelector('#df-796c0188-c2d9-4efd-bdc5-621c75fd11bd');\n",
              "        const dataTable =\n",
              "          await google.colab.kernel.invokeFunction('convertToInteractive',\n",
              "                                                    [key], {});\n",
              "        if (!dataTable) return;\n",
              "\n",
              "        const docLinkHtml = 'Like what you see? Visit the ' +\n",
              "          '<a target=\"_blank\" href=https://colab.research.google.com/notebooks/data_table.ipynb>data table notebook</a>'\n",
              "          + ' to learn more about interactive tables.';\n",
              "        element.innerHTML = '';\n",
              "        dataTable['output_type'] = 'display_data';\n",
              "        await google.colab.output.renderOutput(dataTable, element);\n",
              "        const docLink = document.createElement('div');\n",
              "        docLink.innerHTML = docLinkHtml;\n",
              "        element.appendChild(docLink);\n",
              "      }\n",
              "    </script>\n",
              "  </div>\n",
              "\n",
              "\n",
              "<div id=\"df-2938618b-03a6-4544-a890-156a94a5f667\">\n",
              "  <button class=\"colab-df-quickchart\" onclick=\"quickchart('df-2938618b-03a6-4544-a890-156a94a5f667')\"\n",
              "            title=\"Suggest charts\"\n",
              "            style=\"display:none;\">\n",
              "\n",
              "<svg xmlns=\"http://www.w3.org/2000/svg\" height=\"24px\"viewBox=\"0 0 24 24\"\n",
              "     width=\"24px\">\n",
              "    <g>\n",
              "        <path d=\"M19 3H5c-1.1 0-2 .9-2 2v14c0 1.1.9 2 2 2h14c1.1 0 2-.9 2-2V5c0-1.1-.9-2-2-2zM9 17H7v-7h2v7zm4 0h-2V7h2v10zm4 0h-2v-4h2v4z\"/>\n",
              "    </g>\n",
              "</svg>\n",
              "  </button>\n",
              "\n",
              "<style>\n",
              "  .colab-df-quickchart {\n",
              "      --bg-color: #E8F0FE;\n",
              "      --fill-color: #1967D2;\n",
              "      --hover-bg-color: #E2EBFA;\n",
              "      --hover-fill-color: #174EA6;\n",
              "      --disabled-fill-color: #AAA;\n",
              "      --disabled-bg-color: #DDD;\n",
              "  }\n",
              "\n",
              "  [theme=dark] .colab-df-quickchart {\n",
              "      --bg-color: #3B4455;\n",
              "      --fill-color: #D2E3FC;\n",
              "      --hover-bg-color: #434B5C;\n",
              "      --hover-fill-color: #FFFFFF;\n",
              "      --disabled-bg-color: #3B4455;\n",
              "      --disabled-fill-color: #666;\n",
              "  }\n",
              "\n",
              "  .colab-df-quickchart {\n",
              "    background-color: var(--bg-color);\n",
              "    border: none;\n",
              "    border-radius: 50%;\n",
              "    cursor: pointer;\n",
              "    display: none;\n",
              "    fill: var(--fill-color);\n",
              "    height: 32px;\n",
              "    padding: 0;\n",
              "    width: 32px;\n",
              "  }\n",
              "\n",
              "  .colab-df-quickchart:hover {\n",
              "    background-color: var(--hover-bg-color);\n",
              "    box-shadow: 0 1px 2px rgba(60, 64, 67, 0.3), 0 1px 3px 1px rgba(60, 64, 67, 0.15);\n",
              "    fill: var(--button-hover-fill-color);\n",
              "  }\n",
              "\n",
              "  .colab-df-quickchart-complete:disabled,\n",
              "  .colab-df-quickchart-complete:disabled:hover {\n",
              "    background-color: var(--disabled-bg-color);\n",
              "    fill: var(--disabled-fill-color);\n",
              "    box-shadow: none;\n",
              "  }\n",
              "\n",
              "  .colab-df-spinner {\n",
              "    border: 2px solid var(--fill-color);\n",
              "    border-color: transparent;\n",
              "    border-bottom-color: var(--fill-color);\n",
              "    animation:\n",
              "      spin 1s steps(1) infinite;\n",
              "  }\n",
              "\n",
              "  @keyframes spin {\n",
              "    0% {\n",
              "      border-color: transparent;\n",
              "      border-bottom-color: var(--fill-color);\n",
              "      border-left-color: var(--fill-color);\n",
              "    }\n",
              "    20% {\n",
              "      border-color: transparent;\n",
              "      border-left-color: var(--fill-color);\n",
              "      border-top-color: var(--fill-color);\n",
              "    }\n",
              "    30% {\n",
              "      border-color: transparent;\n",
              "      border-left-color: var(--fill-color);\n",
              "      border-top-color: var(--fill-color);\n",
              "      border-right-color: var(--fill-color);\n",
              "    }\n",
              "    40% {\n",
              "      border-color: transparent;\n",
              "      border-right-color: var(--fill-color);\n",
              "      border-top-color: var(--fill-color);\n",
              "    }\n",
              "    60% {\n",
              "      border-color: transparent;\n",
              "      border-right-color: var(--fill-color);\n",
              "    }\n",
              "    80% {\n",
              "      border-color: transparent;\n",
              "      border-right-color: var(--fill-color);\n",
              "      border-bottom-color: var(--fill-color);\n",
              "    }\n",
              "    90% {\n",
              "      border-color: transparent;\n",
              "      border-bottom-color: var(--fill-color);\n",
              "    }\n",
              "  }\n",
              "</style>\n",
              "\n",
              "  <script>\n",
              "    async function quickchart(key) {\n",
              "      const quickchartButtonEl =\n",
              "        document.querySelector('#' + key + ' button');\n",
              "      quickchartButtonEl.disabled = true;  // To prevent multiple clicks.\n",
              "      quickchartButtonEl.classList.add('colab-df-spinner');\n",
              "      try {\n",
              "        const charts = await google.colab.kernel.invokeFunction(\n",
              "            'suggestCharts', [key], {});\n",
              "      } catch (error) {\n",
              "        console.error('Error during call to suggestCharts:', error);\n",
              "      }\n",
              "      quickchartButtonEl.classList.remove('colab-df-spinner');\n",
              "      quickchartButtonEl.classList.add('colab-df-quickchart-complete');\n",
              "    }\n",
              "    (() => {\n",
              "      let quickchartButtonEl =\n",
              "        document.querySelector('#df-2938618b-03a6-4544-a890-156a94a5f667 button');\n",
              "      quickchartButtonEl.style.display =\n",
              "        google.colab.kernel.accessAllowed ? 'block' : 'none';\n",
              "    })();\n",
              "  </script>\n",
              "</div>\n",
              "    </div>\n",
              "  </div>\n"
            ],
            "text/plain": [
              "    Образцы  chr11:11347700-11367700  chr11:40185800-40195800\n",
              "0    8 Cell                      551                      194\n",
              "1       ICM                      797                      274\n",
              "2  Epiblast                     1344                      565"
            ]
          },
          "execution_count": 78,
          "metadata": {},
          "output_type": "execute_result"
        }
      ],
      "source": [
        "import pandas as pd\n",
        "df = pd.DataFrame({ 'Образцы': ['8 Cell', 'ICM', 'Epiblast'],\n",
        "                   'chr11:11347700-11367700': [551, 797, 1344],\n",
        "                    'chr11:40185800-40195800': [194, 274, 565]})\n",
        "df"
      ]
    },
    {
      "cell_type": "markdown",
      "metadata": {
        "id": "CliRCSUQTmV-"
      },
      "source": [
        "Дедупликация"
      ]
    },
    {
      "cell_type": "code",
      "execution_count": null,
      "metadata": {
        "colab": {
          "base_uri": "https://localhost:8080/"
        },
        "id": "ShW-Fhzq19kE",
        "outputId": "03f65afb-c43f-41b7-d439-f15b0b19d29c"
      },
      "outputs": [
        {
          "name": "stdout",
          "output_type": "stream",
          "text": [
            "Output filename was given as: s_8_cell\n",
            "Processing paired-end Bismark output file(s) (SAM format):\n",
            "SRR5836473_1_bismark_bt2_pe.bam\n",
            "\n",
            "\n",
            "If there are several alignments to a single position in the genome the first alignment will be chosen. Since the input files are not in any way sorted this is a near-enough random selection of reads.\n",
            "\n",
            "Checking file >>SRR5836473_1_bismark_bt2_pe.bam<< for signs of file truncation...\n",
            "\n",
            "\n",
            "\n",
            "Now testing Bismark result file SRR5836473_1_bismark_bt2_pe.bam for positional sorting (which would be bad...)\t...passed!\n",
            "Output file is: s_8_cell.deduplicated.bam\n",
            "\n",
            "skipping header line:\t@HD\tVN:1.0\tSO:unsorted\n",
            "skipping header line:\t@SQ\tSN:chr11\tLN:121973369\n",
            "skipping header line:\t@PG\tID:Bismark\tVN:v0.24.2\tCL:\"bismark --genome_folder /mnt/cache-1/for_minor/mm39_11/ -q --non_directional -parallel 10 -1 SRR3824222_1.fq,SRR5836473_1.fq,SRR5836473_1.fq -2 SRR3824222_2.fq,SRR5836473_2.fq,SRR5836473_2.fq\"\n",
            "skipping header line:\t@PG\tID:samtools\tPN:samtools\tPP:Bismark\tVN:1.19.2\tCL:/usr/local/bin/samtools view -h --threads 1 SRR5836473_1_bismark_bt2_pe.bam\n",
            "\n",
            "Total number of alignments analysed in SRR5836473_1_bismark_bt2_pe.bam:\t2858170\n",
            "Total number duplicated alignments removed:\t522512 (18.28%)\n",
            "Duplicated alignments were found at:\t230677 different position(s)\n",
            "\n",
            "Total count of deduplicated leftover sequences: 2335658 (81.72% of total)\n",
            "\n"
          ]
        }
      ],
      "source": [
        "! deduplicate_bismark  --bam  --paired  -o s_8_cell  SRR5836473_1_bismark_bt2_pe.bam"
      ]
    },
    {
      "cell_type": "code",
      "execution_count": null,
      "metadata": {
        "colab": {
          "base_uri": "https://localhost:8080/"
        },
        "id": "AK7gyG3oB4Gp",
        "outputId": "bdad8ad3-fbe9-4765-f922-cecfc1f0efa1"
      },
      "outputs": [
        {
          "name": "stdout",
          "output_type": "stream",
          "text": [
            "Output filename was given as: icm_cell\n",
            "Processing paired-end Bismark output file(s) (SAM format):\n",
            "SRR5836475_1_bismark_bt2_pe.bam\n",
            "\n",
            "\n",
            "If there are several alignments to a single position in the genome the first alignment will be chosen. Since the input files are not in any way sorted this is a near-enough random selection of reads.\n",
            "\n",
            "Checking file >>SRR5836475_1_bismark_bt2_pe.bam<< for signs of file truncation...\n",
            "\n",
            "\n",
            "\n",
            "Now testing Bismark result file SRR5836475_1_bismark_bt2_pe.bam for positional sorting (which would be bad...)\t...passed!\n",
            "Output file is: icm_cell.deduplicated.bam\n",
            "\n",
            "skipping header line:\t@HD\tVN:1.0\tSO:unsorted\n",
            "skipping header line:\t@SQ\tSN:chr11\tLN:121973369\n",
            "skipping header line:\t@PG\tID:Bismark\tVN:v0.24.2\tCL:\"bismark --genome_folder /mnt/cache-1/for_minor/mm39_11/ -q --non_directional -parallel 10 -1 SRR5836475_1.fq -2 SRR5836475_2.fq\"\n",
            "skipping header line:\t@PG\tID:samtools\tPN:samtools\tPP:Bismark\tVN:1.19.2\tCL:/usr/local/bin/samtools view -h --threads 1 SRR5836475_1_bismark_bt2_pe.bam\n",
            "\n",
            "Total number of alignments analysed in SRR5836475_1_bismark_bt2_pe.bam:\t4170098\n",
            "Total number duplicated alignments removed:\t378125 (9.07%)\n",
            "Duplicated alignments were found at:\t229940 different position(s)\n",
            "\n",
            "Total count of deduplicated leftover sequences: 3791973 (90.93% of total)\n",
            "\n"
          ]
        }
      ],
      "source": [
        "! deduplicate_bismark  --bam  --paired  -o icm_cell  SRR5836475_1_bismark_bt2_pe.bam"
      ]
    },
    {
      "cell_type": "code",
      "execution_count": null,
      "metadata": {
        "colab": {
          "base_uri": "https://localhost:8080/"
        },
        "id": "eJpkDeI5B4vs",
        "outputId": "502dbbd1-61f5-42f9-ed84-2f5e9939b13f"
      },
      "outputs": [
        {
          "name": "stdout",
          "output_type": "stream",
          "text": [
            "Output filename was given as: epiblast_cell\n",
            "Processing paired-end Bismark output file(s) (SAM format):\n",
            "SRR3824222_1_bismark_bt2_pe.bam\n",
            "\n",
            "\n",
            "If there are several alignments to a single position in the genome the first alignment will be chosen. Since the input files are not in any way sorted this is a near-enough random selection of reads.\n",
            "\n",
            "Checking file >>SRR3824222_1_bismark_bt2_pe.bam<< for signs of file truncation...\n",
            "\n",
            "\n",
            "\n",
            "Now testing Bismark result file SRR3824222_1_bismark_bt2_pe.bam for positional sorting (which would be bad...)\t...passed!\n",
            "Output file is: epiblast_cell.deduplicated.bam\n",
            "\n",
            "skipping header line:\t@HD\tVN:1.0\tSO:unsorted\n",
            "skipping header line:\t@SQ\tSN:chr11\tLN:121973369\n",
            "skipping header line:\t@PG\tID:Bismark\tVN:v0.24.2\tCL:\"bismark --genome_folder /mnt/cache-1/for_minor/mm39_11/ -q --non_directional -parallel 10 -1 SRR3824222_1.fq,SRR5836473_1.fq,SRR5836473_1.fq -2 SRR3824222_2.fq,SRR5836473_2.fq,SRR5836473_2.fq\"\n",
            "skipping header line:\t@PG\tID:samtools\tPN:samtools\tPP:Bismark\tVN:1.19.2\tCL:/usr/local/bin/samtools view -h --threads 1 SRR3824222_1_bismark_bt2_pe.bam\n",
            "\n",
            "Total number of alignments analysed in SRR3824222_1_bismark_bt2_pe.bam:\t7051731\n",
            "Total number duplicated alignments removed:\t205287 (2.91%)\n",
            "Duplicated alignments were found at:\t164998 different position(s)\n",
            "\n",
            "Total count of deduplicated leftover sequences: 6846444 (97.09% of total)\n",
            "\n"
          ]
        }
      ],
      "source": [
        "! deduplicate_bismark  --bam  --paired  -o epiblast_cell  SRR3824222_1_bismark_bt2_pe.bam"
      ]
    },
    {
      "cell_type": "code",
      "execution_count": null,
      "metadata": {
        "colab": {
          "base_uri": "https://localhost:8080/"
        },
        "id": "OkrrqUQPXCCI",
        "outputId": "d8eb39b5-35a0-4299-fffd-c8a0c795c18b"
      },
      "outputs": [
        {
          "name": "stdout",
          "output_type": "stream",
          "text": [
            "checksum.md5\t\t\t\tsorted_epiblast.bam.bai\n",
            "condacolab_install.log\t\t\tsorted_icm.bam\n",
            "epiblast_cell.deduplicated.bam\t\tsorted_icm.bam.bai\n",
            "epiblast_cell.deduplication_report.txt\tsorted_icm.bam.tmp.0000-001.bam\n",
            "FastQC\t\t\t\t\tsorted_icm.bam.tmp.0000.bam\n",
            "fastqc_v0.11.9.zip\t\t\tsorted_icm.bam.tmp.0001.bam\n",
            "fastqc_v0.11.9.zip.1\t\t\tsorted_icm.bam.tmp.0002.bam\n",
            "fastqc_v0.11.9.zip.2\t\t\tsorted_icm.bam.tmp.0003.bam\n",
            "icm_cell.deduplicated.bam\t\tSRR3824222_1_bismark_bt2_pe.bam\n",
            "icm_cell.deduplication_report.txt\tSRR5836473_1_bismark_bt2_pe.bam\n",
            "s_8_cell.deduplicated.bam\t\tSRR5836473_1.fastq.gz\n",
            "s_8_cell.deduplication_report.txt\tSRR5836473_1.fastq.gz.1\n",
            "sample_data\t\t\t\tSRR5836473_1.fastq.gz.2\n",
            "sorted_8cell.bam\t\t\tSRR5836473_2.fastq.gz\n",
            "sorted_8cell.bam.bai\t\t\tSRR5836473_2.fastq.gz.1\n",
            "sorted_epiblast.bam\t\t\tSRR5836475_1_bismark_bt2_pe.bam\n"
          ]
        }
      ],
      "source": [
        "! ls"
      ]
    },
    {
      "cell_type": "markdown",
      "metadata": {
        "id": "969PlQMGwBO3"
      },
      "source": [
        "11-ю хромосому мыши можно скачать с UCSC (сборка mm39)"
      ]
    },
    {
      "cell_type": "code",
      "execution_count": null,
      "metadata": {
        "colab": {
          "base_uri": "https://localhost:8080/"
        },
        "id": "4NZ1s3i5bUUq",
        "outputId": "04efa33e-8bc4-4827-d52d-8777fb5b4774"
      },
      "outputs": [
        {
          "name": "stdout",
          "output_type": "stream",
          "text": [
            "unzip:  cannot find or open mouse_chr.zip, mouse_chr.zip.zip or mouse_chr.zip.ZIP.\n"
          ]
        }
      ],
      "source": [
        "# ! unzip mouse_chr.zip"
      ]
    },
    {
      "cell_type": "markdown",
      "metadata": {
        "id": "sf_yqXE71QjG"
      },
      "source": [
        "Время работы: ±30 мин"
      ]
    },
    {
      "cell_type": "code",
      "execution_count": null,
      "metadata": {
        "colab": {
          "base_uri": "https://localhost:8080/"
        },
        "id": "buKTYu3PBuA3",
        "outputId": "c955c043-7922-4a4e-8448-ee1bf10b006a"
      },
      "outputs": [
        {
          "name": "stdout",
          "output_type": "stream",
          "text": [
            "head: cannot open 's_8_cell.deduplicated.bedGraph' for reading: No such file or directory\n"
          ]
        }
      ],
      "source": [
        "# ! head s_8_cell.deduplicated.bedGraph"
      ]
    },
    {
      "cell_type": "markdown",
      "source": [
        "Добавил папку с файлом вручную"
      ],
      "metadata": {
        "id": "O9KCU99PgQtZ"
      }
    },
    {
      "cell_type": "markdown",
      "metadata": {
        "id": "LKBD3cwo1wLx"
      },
      "source": [
        "Коллинг метилирования"
      ]
    },
    {
      "cell_type": "code",
      "execution_count": null,
      "metadata": {
        "colab": {
          "base_uri": "https://localhost:8080/"
        },
        "id": "4c5BEvKpDw5K",
        "outputId": "433c81d6-e3bb-45e6-d4fb-30b3f0077dab"
      },
      "outputs": [
        {
          "name": "stdout",
          "output_type": "stream",
          "text": [
            "\n",
            " *** Bismark methylation extractor version v0.24.2 ***\n",
            "\n",
            "Trying to determine the type of mapping from the SAM header line of file s_8_cell.deduplicated.bam\n",
            "Treating file(s) as paired-end data (as extracted from @PG line)\n",
            "\n",
            "Setting option '--no_overlap' since this is (normally) the right thing to do for paired-end data\n",
            "\n",
            "\n",
            "Setting core usage to single-threaded (default). Consider using --multicore <int> to speed up the extraction process.\n",
            "\n",
            "Summarising Bismark methylation extractor parameters:\n",
            "===============================================================\n",
            "Bismark paired-end SAM format specified (default)\n",
            "Number of cores to be used: 1\n",
            "Output will be written to the current directory ('/content')\n",
            "\n",
            "\n",
            "Summarising bedGraph parameters:\n",
            "===============================================================\n",
            "Generating additional output in bedGraph and coverage format\n",
            "bedGraph format:\t<Chromosome> <Start Position> <End Position> <Methylation Percentage>\n",
            "coverage format:\t<Chromosome> <Start Position> <End Position> <Methylation Percentage> <count methylated> <count non-methylated>\n",
            "\n",
            "Using a cutoff of 1 read(s) to report cytosine positions\n",
            "Reporting and sorting cytosine methylation information in CpG context only (default)\n",
            "The bedGraph UNIX sort command will use the following memory setting:\t'2G'. Temporary directory used for sorting is the output directory\n",
            "\n",
            "\n",
            "Summarising genome-wide cytosine methylation report parameters:\n",
            "===============================================================\n",
            "Generating comprehensive genome-wide cytosine report\n",
            "(output format: <Chromosome> <Position> <Strand> <count methylated> <count non-methylated>  <C-context>  <trinucleotide context> )\n",
            "Reporting cytosine methylation in CpG context only (default)\n",
            "Using 1-based genomic coordinates (default)\n",
            "Genome folder was specified as ./mouse_chr/\n",
            "\n",
            "Checking file >>s_8_cell.deduplicated.bam<< for signs of file truncation...\n",
            "\n",
            "\n",
            "Now testing Bismark result file >s_8_cell.deduplicated.bam< for positional sorting (which would be bad...)\t...passed!\n",
            "Writing result file containing methylation information for C in CpG context from the original top strand to CpG_OT_s_8_cell.deduplicated.txt.gz\n",
            "Writing result file containing methylation information for C in CpG context from the complementary to original top strand to CpG_CTOT_s_8_cell.deduplicated.txt.gz\n",
            "Writing result file containing methylation information for C in CpG context from the complementary to original bottom strand to CpG_CTOB_s_8_cell.deduplicated.txt.gz\n",
            "Writing result file containing methylation information for C in CpG context from the original bottom strand to CpG_OB_s_8_cell.deduplicated.txt.gz\n",
            "\n",
            "Writing result file containing methylation information for C in CHG context from the original top strand to CHG_OT_s_8_cell.deduplicated.txt.gz\n",
            "Writing result file containing methylation information for C in CHG context from the complementary to original top strand to CHG_CTOT_s_8_cell.deduplicated.txt.gz\n",
            "Writing result file containing methylation information for C in CHG context from the complementary to original bottom strand to CHG_CTOB_s_8_cell.deduplicated.txt.gz\n",
            "Writing result file containing methylation information for C in CHG context from the original bottom strand to CHG_OB_s_8_cell.deduplicated.txt.gz\n",
            "\n",
            "Writing result file containing methylation information for C in CHH context from the original top strand to CHH_OT_s_8_cell.deduplicated.txt.gz\n",
            "Writing result file containing methylation information for C in CHH context from the complementary to original top strand to CHH_CTOT_s_8_cell.deduplicated.txt.gz\n",
            "Writing result file containing methylation information for C in CHH context from the complementary to original bottom strand to CHH_CTOB_s_8_cell.deduplicated.txt.gz\n",
            "Writing result file containing methylation information for C in CHH context from the original bottom strand to CHH_OB_s_8_cell.deduplicated.txt.gz\n",
            "\n",
            "Now reading in Bismark result file s_8_cell.deduplicated.bam\n",
            "skipping SAM header line:\t@HD\tVN:1.0\tSO:unsorted\n",
            "skipping SAM header line:\t@SQ\tSN:chr11\tLN:121973369\n",
            "skipping SAM header line:\t@PG\tID:Bismark\tVN:v0.24.2\tCL:\"bismark --genome_folder /mnt/cache-1/for_minor/mm39_11/ -q --non_directional -parallel 10 -1 SRR3824222_1.fq,SRR5836473_1.fq,SRR5836473_1.fq -2 SRR3824222_2.fq,SRR5836473_2.fq,SRR5836473_2.fq\"\n",
            "skipping SAM header line:\t@PG\tID:samtools\tPN:samtools\tPP:Bismark\tVN:1.19.2\tCL:/usr/local/bin/samtools view -h --threads 1 SRR5836473_1_bismark_bt2_pe.bam\n",
            "skipping SAM header line:\t@PG\tID:samtools.1\tPN:samtools\tPP:samtools\tVN:1.19.2\tCL:/usr/local/bin/samtools view -bS --threads 1 -\n",
            "skipping SAM header line:\t@PG\tID:samtools.2\tPN:samtools\tPP:samtools.1\tVN:1.19.2\tCL:/usr/local/bin/samtools view -h s_8_cell.deduplicated.bam\n",
            "Processed lines: 500000\n",
            "Processed lines: 1000000\n",
            "Processed lines: 1500000\n",
            "Processed lines: 2000000\n",
            "\n",
            "Processed 2335658 lines in total\n",
            "Total number of methylation call strings processed: 4671316\n",
            "\n",
            "Final Cytosine Methylation Report\n",
            "=================================\n",
            "Total number of C's analysed:\t104748620\n",
            "\n",
            "Total methylated C's in CpG context:\t2103916\n",
            "Total methylated C's in CHG context:\t270195\n",
            "Total methylated C's in CHH context:\t1236285\n",
            "\n",
            "Total C to T conversions in CpG context:\t2729982\n",
            "Total C to T conversions in CHG context:\t22951565\n",
            "Total C to T conversions in CHH context:\t75456677\n",
            "\n",
            "C methylated in CpG context:\t43.5%\n",
            "C methylated in CHG context:\t1.2%\n",
            "C methylated in CHH context:\t1.6%\n",
            "\n",
            "\n",
            "Determining maximum read lengths for M-Bias plots\n",
            "Maximum read length of Read 1: 140\n",
            "Maximum read length of Read 2: 140\n",
            "\n",
            "Perl module GD::Graph::lines is not installed, skipping drawing M-bias plots (only writing out M-bias plot table)\n",
            "Determining maximum read lengths for M-Bias plots\n",
            "Maximum read length of Read 1: 140\n",
            "Maximum read length of Read 2: 140\n",
            "\n",
            "Perl module GD::Graph::lines is not installed, skipping drawing M-bias plots (only writing out M-bias plot table)\n",
            "Deleting unused files ...\n",
            "\n",
            "CpG_OT_s_8_cell.deduplicated.txt.gz contains data ->\tkept\n",
            "CpG_CTOT_s_8_cell.deduplicated.txt.gz contains data ->\tkept\n",
            "CpG_CTOB_s_8_cell.deduplicated.txt.gz contains data ->\tkept\n",
            "CpG_OB_s_8_cell.deduplicated.txt.gz contains data ->\tkept\n",
            "CHG_OT_s_8_cell.deduplicated.txt.gz contains data ->\tkept\n",
            "CHG_CTOT_s_8_cell.deduplicated.txt.gz contains data ->\tkept\n",
            "CHG_CTOB_s_8_cell.deduplicated.txt.gz contains data ->\tkept\n",
            "CHG_OB_s_8_cell.deduplicated.txt.gz contains data ->\tkept\n",
            "CHH_OT_s_8_cell.deduplicated.txt.gz contains data ->\tkept\n",
            "CHH_CTOT_s_8_cell.deduplicated.txt.gz contains data ->\tkept\n",
            "CHH_CTOB_s_8_cell.deduplicated.txt.gz contains data ->\tkept\n",
            "CHH_OB_s_8_cell.deduplicated.txt.gz contains data ->\tkept\n",
            "\n",
            "\n",
            "Using these input files: CpG_OT_s_8_cell.deduplicated.txt.gz CpG_CTOT_s_8_cell.deduplicated.txt.gz CpG_CTOB_s_8_cell.deduplicated.txt.gz CpG_OB_s_8_cell.deduplicated.txt.gz CHG_OT_s_8_cell.deduplicated.txt.gz CHG_CTOT_s_8_cell.deduplicated.txt.gz CHG_CTOB_s_8_cell.deduplicated.txt.gz CHG_OB_s_8_cell.deduplicated.txt.gz CHH_OT_s_8_cell.deduplicated.txt.gz CHH_CTOT_s_8_cell.deduplicated.txt.gz CHH_CTOB_s_8_cell.deduplicated.txt.gz CHH_OB_s_8_cell.deduplicated.txt.gz\n",
            "\n",
            "Summary of parameters for bismark2bedGraph conversion:\n",
            "======================================================\n",
            "bedGraph output:\t\ts_8_cell.deduplicated.bedGraph.gz\n",
            "output directory:\t\t><\n",
            "remove whitespaces:\t\tno\n",
            "CX context:\t\t\tno (CpG context only, default)\n",
            "No-header selected:\t\tno\n",
            "Sorting method:\t\t\tUnix sort-based (smaller memory footprint, but slower)\n",
            "Sort buffer size:\t\t2G\n",
            "Coverage threshold:\t\t1\n",
            "=============================================================================\n",
            "Methylation information will now be written into a bedGraph and coverage file\n",
            "=============================================================================\n",
            "\n",
            "Using the following files as Input:\n",
            "/content/CpG_OT_s_8_cell.deduplicated.txt.gz\t/content/CpG_CTOT_s_8_cell.deduplicated.txt.gz\t/content/CpG_CTOB_s_8_cell.deduplicated.txt.gz\t/content/CpG_OB_s_8_cell.deduplicated.txt.gz\n",
            "\n",
            "Writing bedGraph to file: s_8_cell.deduplicated.bedGraph.gz\n",
            "Also writing out a coverage file including counts methylated and unmethylated residues to file: s_8_cell.deduplicated.bismark.cov.gz\n",
            "\n",
            "Now writing methylation information for file >>CpG_OT_s_8_cell.deduplicated.txt.gz<< to individual files for each chromosome\n",
            "Finished writing out individual chromosome files for CpG_OT_s_8_cell.deduplicated.txt.gz\n",
            "Now writing methylation information for file >>CpG_CTOT_s_8_cell.deduplicated.txt.gz<< to individual files for each chromosome\n",
            "Finished writing out individual chromosome files for CpG_CTOT_s_8_cell.deduplicated.txt.gz\n",
            "Now writing methylation information for file >>CpG_CTOB_s_8_cell.deduplicated.txt.gz<< to individual files for each chromosome\n",
            "Finished writing out individual chromosome files for CpG_CTOB_s_8_cell.deduplicated.txt.gz\n",
            "Now writing methylation information for file >>CpG_OB_s_8_cell.deduplicated.txt.gz<< to individual files for each chromosome\n",
            "Finished writing out individual chromosome files for CpG_OB_s_8_cell.deduplicated.txt.gz\n",
            "\n",
            "Collecting temporary chromosome file information... Processing the following input file(s):\n",
            "CpG_OT_s_8_cell.deduplicated.txt.gz.chrchr11.methXtractor.temp\n",
            "\n",
            "Sorting input file CpG_OT_s_8_cell.deduplicated.txt.gz.chrchr11.methXtractor.temp by positions (using -S of 2G)\n",
            "Successfully deleted the temporary input file CpG_OT_s_8_cell.deduplicated.txt.gz.chrchr11.methXtractor.temp\n",
            "\n",
            "Finished BedGraph conversion ...\n",
            "\n",
            "Summary of parameters for genome-wide cytosine report:\n",
            "==============================================================================\n",
            "Coverage infile:\t\t\t\ts_8_cell.deduplicated.bismark.cov.gz\n",
            "Output directory:\t\t\t\t><\n",
            "Parent directory:\t\t\t\t>/content/<\n",
            "Genome directory:\t\t\t\t>/content/mouse_chr/<\n",
            "Coverage threshold\t\t\t\t0 (all positions will be reported, default)\n",
            "CX context:\t\t\t\t\tno (CpG context only, default)\n",
            "Genome coordinates used:\t\t\t1-based (default)\n",
            "GZIP compression:\t\t\t\tyes\n",
            "Split by chromosome:\t\t\t\tno\n",
            "\n",
            "\n",
            "Now reading in and storing sequence information of the genome specified in: /content/mouse_chr/\n",
            "\n",
            "chr chr11 (121973369 bp)\n",
            "\n",
            "Stored sequence information of 1 chromosomes/scaffolds in total\n",
            "\n",
            "==============================================================================\n",
            "Methylation information will now be written into a genome-wide cytosine report\n",
            "==============================================================================\n",
            "\n",
            "Adding context-specific methylation summaries\n",
            "\n",
            ">>> Writing genome-wide cytosine report to: s_8_cell.deduplicated.CpG_report.txt.gz <<<\n",
            "\n",
            ">>> Writing all cytosine context summary file to: s_8_cell.deduplicated.cytosine_context_summary.txt <<<\n",
            "\n",
            "Storing all covered cytosine positions for chromosome: chr11\n",
            "Writing cytosine report for last chromosome chr11 (stored 1737533 different covered positions)\n",
            "Finished writing out cytosine report for covered chromosomes (processed 1 chromosomes/scaffolds in total)\n",
            "\n",
            "Now processing chromosomes that were not covered by any methylation calls in the coverage file...\n",
            "All chromosomes in the genome were covered by at least some reads. coverage2cytosine processing complete.\n",
            "\n",
            "\n",
            "\n",
            "Finished generating genome-wide cytosine report\n",
            "\n"
          ]
        }
      ],
      "source": [
        "! bismark_methylation_extractor --gzip --bedGraph --cytosine_report --genome_folder ./mouse_chr s_8_cell.deduplicated.bam"
      ]
    },
    {
      "cell_type": "code",
      "execution_count": null,
      "metadata": {
        "colab": {
          "base_uri": "https://localhost:8080/"
        },
        "id": "bSMmzCEmO4Y3",
        "outputId": "57f76c39-aab9-46de-f0a1-95bc59995293"
      },
      "outputs": [
        {
          "name": "stdout",
          "output_type": "stream",
          "text": [
            "\n",
            " *** Bismark methylation extractor version v0.24.2 ***\n",
            "\n",
            "Trying to determine the type of mapping from the SAM header line of file icm_cell.deduplicated.bam\n",
            "Treating file(s) as paired-end data (as extracted from @PG line)\n",
            "\n",
            "Setting option '--no_overlap' since this is (normally) the right thing to do for paired-end data\n",
            "\n",
            "\n",
            "Setting core usage to single-threaded (default). Consider using --multicore <int> to speed up the extraction process.\n",
            "\n",
            "Summarising Bismark methylation extractor parameters:\n",
            "===============================================================\n",
            "Bismark paired-end SAM format specified (default)\n",
            "Number of cores to be used: 1\n",
            "Output will be written to the current directory ('/content')\n",
            "\n",
            "\n",
            "Summarising bedGraph parameters:\n",
            "===============================================================\n",
            "Generating additional output in bedGraph and coverage format\n",
            "bedGraph format:\t<Chromosome> <Start Position> <End Position> <Methylation Percentage>\n",
            "coverage format:\t<Chromosome> <Start Position> <End Position> <Methylation Percentage> <count methylated> <count non-methylated>\n",
            "\n",
            "Using a cutoff of 1 read(s) to report cytosine positions\n",
            "Reporting and sorting cytosine methylation information in CpG context only (default)\n",
            "The bedGraph UNIX sort command will use the following memory setting:\t'2G'. Temporary directory used for sorting is the output directory\n",
            "\n",
            "\n",
            "Summarising genome-wide cytosine methylation report parameters:\n",
            "===============================================================\n",
            "Generating comprehensive genome-wide cytosine report\n",
            "(output format: <Chromosome> <Position> <Strand> <count methylated> <count non-methylated>  <C-context>  <trinucleotide context> )\n",
            "Reporting cytosine methylation in CpG context only (default)\n",
            "Using 1-based genomic coordinates (default)\n",
            "Genome folder was specified as ./mouse_chr/\n",
            "\n",
            "Checking file >>icm_cell.deduplicated.bam<< for signs of file truncation...\n",
            "\n",
            "\n",
            "Now testing Bismark result file >icm_cell.deduplicated.bam< for positional sorting (which would be bad...)\t...passed!\n",
            "Writing result file containing methylation information for C in CpG context from the original top strand to CpG_OT_icm_cell.deduplicated.txt.gz\n",
            "Writing result file containing methylation information for C in CpG context from the complementary to original top strand to CpG_CTOT_icm_cell.deduplicated.txt.gz\n",
            "Writing result file containing methylation information for C in CpG context from the complementary to original bottom strand to CpG_CTOB_icm_cell.deduplicated.txt.gz\n",
            "Writing result file containing methylation information for C in CpG context from the original bottom strand to CpG_OB_icm_cell.deduplicated.txt.gz\n",
            "\n",
            "Writing result file containing methylation information for C in CHG context from the original top strand to CHG_OT_icm_cell.deduplicated.txt.gz\n",
            "Writing result file containing methylation information for C in CHG context from the complementary to original top strand to CHG_CTOT_icm_cell.deduplicated.txt.gz\n",
            "Writing result file containing methylation information for C in CHG context from the complementary to original bottom strand to CHG_CTOB_icm_cell.deduplicated.txt.gz\n",
            "Writing result file containing methylation information for C in CHG context from the original bottom strand to CHG_OB_icm_cell.deduplicated.txt.gz\n",
            "\n",
            "Writing result file containing methylation information for C in CHH context from the original top strand to CHH_OT_icm_cell.deduplicated.txt.gz\n",
            "Writing result file containing methylation information for C in CHH context from the complementary to original top strand to CHH_CTOT_icm_cell.deduplicated.txt.gz\n",
            "Writing result file containing methylation information for C in CHH context from the complementary to original bottom strand to CHH_CTOB_icm_cell.deduplicated.txt.gz\n",
            "Writing result file containing methylation information for C in CHH context from the original bottom strand to CHH_OB_icm_cell.deduplicated.txt.gz\n",
            "\n",
            "Now reading in Bismark result file icm_cell.deduplicated.bam\n",
            "skipping SAM header line:\t@HD\tVN:1.0\tSO:unsorted\n",
            "skipping SAM header line:\t@SQ\tSN:chr11\tLN:121973369\n",
            "skipping SAM header line:\t@PG\tID:Bismark\tVN:v0.24.2\tCL:\"bismark --genome_folder /mnt/cache-1/for_minor/mm39_11/ -q --non_directional -parallel 10 -1 SRR5836475_1.fq -2 SRR5836475_2.fq\"\n",
            "skipping SAM header line:\t@PG\tID:samtools\tPN:samtools\tPP:Bismark\tVN:1.19.2\tCL:/usr/local/bin/samtools view -h --threads 1 SRR5836475_1_bismark_bt2_pe.bam\n",
            "skipping SAM header line:\t@PG\tID:samtools.1\tPN:samtools\tPP:samtools\tVN:1.19.2\tCL:/usr/local/bin/samtools view -bS --threads 1 -\n",
            "skipping SAM header line:\t@PG\tID:samtools.2\tPN:samtools\tPP:samtools.1\tVN:1.19.2\tCL:/usr/local/bin/samtools view -h icm_cell.deduplicated.bam\n",
            "Processed lines: 500000\n",
            "Processed lines: 1000000\n",
            "Processed lines: 1500000\n",
            "Processed lines: 2000000\n",
            "Processed lines: 2500000\n",
            "Processed lines: 3000000\n",
            "Processed lines: 3500000\n",
            "\n",
            "Processed 3791973 lines in total\n",
            "Total number of methylation call strings processed: 7583946\n",
            "\n",
            "Final Cytosine Methylation Report\n",
            "=================================\n",
            "Total number of C's analysed:\t177777254\n",
            "\n",
            "Total methylated C's in CpG context:\t1915876\n",
            "Total methylated C's in CHG context:\t298499\n",
            "Total methylated C's in CHH context:\t1434775\n",
            "\n",
            "Total C to T conversions in CpG context:\t6256205\n",
            "Total C to T conversions in CHG context:\t39157632\n",
            "Total C to T conversions in CHH context:\t128714267\n",
            "\n",
            "C methylated in CpG context:\t23.4%\n",
            "C methylated in CHG context:\t0.8%\n",
            "C methylated in CHH context:\t1.1%\n",
            "\n",
            "\n",
            "Determining maximum read lengths for M-Bias plots\n",
            "Maximum read length of Read 1: 140\n",
            "Maximum read length of Read 2: 140\n",
            "\n",
            "Perl module GD::Graph::lines is not installed, skipping drawing M-bias plots (only writing out M-bias plot table)\n",
            "Determining maximum read lengths for M-Bias plots\n",
            "Maximum read length of Read 1: 140\n",
            "Maximum read length of Read 2: 140\n",
            "\n",
            "Perl module GD::Graph::lines is not installed, skipping drawing M-bias plots (only writing out M-bias plot table)\n",
            "Deleting unused files ...\n",
            "\n",
            "CpG_OT_icm_cell.deduplicated.txt.gz contains data ->\tkept\n",
            "CpG_CTOT_icm_cell.deduplicated.txt.gz contains data ->\tkept\n",
            "CpG_CTOB_icm_cell.deduplicated.txt.gz contains data ->\tkept\n",
            "CpG_OB_icm_cell.deduplicated.txt.gz contains data ->\tkept\n",
            "CHG_OT_icm_cell.deduplicated.txt.gz contains data ->\tkept\n",
            "CHG_CTOT_icm_cell.deduplicated.txt.gz contains data ->\tkept\n",
            "CHG_CTOB_icm_cell.deduplicated.txt.gz contains data ->\tkept\n",
            "CHG_OB_icm_cell.deduplicated.txt.gz contains data ->\tkept\n",
            "CHH_OT_icm_cell.deduplicated.txt.gz contains data ->\tkept\n",
            "CHH_CTOT_icm_cell.deduplicated.txt.gz contains data ->\tkept\n",
            "CHH_CTOB_icm_cell.deduplicated.txt.gz contains data ->\tkept\n",
            "CHH_OB_icm_cell.deduplicated.txt.gz contains data ->\tkept\n",
            "\n",
            "\n",
            "Using these input files: CpG_OT_icm_cell.deduplicated.txt.gz CpG_CTOT_icm_cell.deduplicated.txt.gz CpG_CTOB_icm_cell.deduplicated.txt.gz CpG_OB_icm_cell.deduplicated.txt.gz CHG_OT_icm_cell.deduplicated.txt.gz CHG_CTOT_icm_cell.deduplicated.txt.gz CHG_CTOB_icm_cell.deduplicated.txt.gz CHG_OB_icm_cell.deduplicated.txt.gz CHH_OT_icm_cell.deduplicated.txt.gz CHH_CTOT_icm_cell.deduplicated.txt.gz CHH_CTOB_icm_cell.deduplicated.txt.gz CHH_OB_icm_cell.deduplicated.txt.gz\n",
            "\n",
            "Summary of parameters for bismark2bedGraph conversion:\n",
            "======================================================\n",
            "bedGraph output:\t\ticm_cell.deduplicated.bedGraph.gz\n",
            "output directory:\t\t><\n",
            "remove whitespaces:\t\tno\n",
            "CX context:\t\t\tno (CpG context only, default)\n",
            "No-header selected:\t\tno\n",
            "Sorting method:\t\t\tUnix sort-based (smaller memory footprint, but slower)\n",
            "Sort buffer size:\t\t2G\n",
            "Coverage threshold:\t\t1\n",
            "=============================================================================\n",
            "Methylation information will now be written into a bedGraph and coverage file\n",
            "=============================================================================\n",
            "\n",
            "Using the following files as Input:\n",
            "/content/CpG_OT_icm_cell.deduplicated.txt.gz\t/content/CpG_CTOT_icm_cell.deduplicated.txt.gz\t/content/CpG_CTOB_icm_cell.deduplicated.txt.gz\t/content/CpG_OB_icm_cell.deduplicated.txt.gz\n",
            "\n",
            "Writing bedGraph to file: icm_cell.deduplicated.bedGraph.gz\n",
            "Also writing out a coverage file including counts methylated and unmethylated residues to file: icm_cell.deduplicated.bismark.cov.gz\n",
            "\n",
            "Now writing methylation information for file >>CpG_OT_icm_cell.deduplicated.txt.gz<< to individual files for each chromosome\n",
            "Finished writing out individual chromosome files for CpG_OT_icm_cell.deduplicated.txt.gz\n",
            "Now writing methylation information for file >>CpG_CTOT_icm_cell.deduplicated.txt.gz<< to individual files for each chromosome\n",
            "Finished writing out individual chromosome files for CpG_CTOT_icm_cell.deduplicated.txt.gz\n",
            "Now writing methylation information for file >>CpG_CTOB_icm_cell.deduplicated.txt.gz<< to individual files for each chromosome\n",
            "Finished writing out individual chromosome files for CpG_CTOB_icm_cell.deduplicated.txt.gz\n",
            "Now writing methylation information for file >>CpG_OB_icm_cell.deduplicated.txt.gz<< to individual files for each chromosome\n",
            "Finished writing out individual chromosome files for CpG_OB_icm_cell.deduplicated.txt.gz\n",
            "\n",
            "Collecting temporary chromosome file information... Processing the following input file(s):\n",
            "CpG_OT_icm_cell.deduplicated.txt.gz.chrchr11.methXtractor.temp\n",
            "\n",
            "Sorting input file CpG_OT_icm_cell.deduplicated.txt.gz.chrchr11.methXtractor.temp by positions (using -S of 2G)\n",
            "Successfully deleted the temporary input file CpG_OT_icm_cell.deduplicated.txt.gz.chrchr11.methXtractor.temp\n",
            "\n",
            "Finished BedGraph conversion ...\n",
            "\n",
            "Summary of parameters for genome-wide cytosine report:\n",
            "==============================================================================\n",
            "Coverage infile:\t\t\t\ticm_cell.deduplicated.bismark.cov.gz\n",
            "Output directory:\t\t\t\t><\n",
            "Parent directory:\t\t\t\t>/content/<\n",
            "Genome directory:\t\t\t\t>/content/mouse_chr/<\n",
            "Coverage threshold\t\t\t\t0 (all positions will be reported, default)\n",
            "CX context:\t\t\t\t\tno (CpG context only, default)\n",
            "Genome coordinates used:\t\t\t1-based (default)\n",
            "GZIP compression:\t\t\t\tyes\n",
            "Split by chromosome:\t\t\t\tno\n",
            "\n",
            "\n",
            "Now reading in and storing sequence information of the genome specified in: /content/mouse_chr/\n",
            "\n",
            "chr chr11 (121973369 bp)\n",
            "\n",
            "Stored sequence information of 1 chromosomes/scaffolds in total\n",
            "\n",
            "==============================================================================\n",
            "Methylation information will now be written into a genome-wide cytosine report\n",
            "==============================================================================\n",
            "\n",
            "Adding context-specific methylation summaries\n",
            "\n",
            ">>> Writing genome-wide cytosine report to: icm_cell.deduplicated.CpG_report.txt.gz <<<\n",
            "\n",
            ">>> Writing all cytosine context summary file to: icm_cell.deduplicated.cytosine_context_summary.txt <<<\n",
            "\n",
            "Storing all covered cytosine positions for chromosome: chr11\n",
            "Writing cytosine report for last chromosome chr11 (stored 2054296 different covered positions)\n",
            "Finished writing out cytosine report for covered chromosomes (processed 1 chromosomes/scaffolds in total)\n",
            "\n",
            "Now processing chromosomes that were not covered by any methylation calls in the coverage file...\n",
            "All chromosomes in the genome were covered by at least some reads. coverage2cytosine processing complete.\n",
            "\n",
            "\n",
            "\n",
            "Finished generating genome-wide cytosine report\n",
            "\n"
          ]
        }
      ],
      "source": [
        "! bismark_methylation_extractor --gzip --bedGraph --cytosine_report --genome_folder ./mouse_chr icm_cell.deduplicated.bam"
      ]
    },
    {
      "cell_type": "code",
      "execution_count": null,
      "metadata": {
        "colab": {
          "base_uri": "https://localhost:8080/"
        },
        "id": "noxWppgvO_Nv",
        "outputId": "a4c59fcd-960a-40b0-cd50-104129031eae"
      },
      "outputs": [
        {
          "name": "stdout",
          "output_type": "stream",
          "text": [
            "\n",
            " *** Bismark methylation extractor version v0.24.2 ***\n",
            "\n",
            "Trying to determine the type of mapping from the SAM header line of file epiblast_cell.deduplicated.bam\n",
            "Treating file(s) as paired-end data (as extracted from @PG line)\n",
            "\n",
            "Setting option '--no_overlap' since this is (normally) the right thing to do for paired-end data\n",
            "\n",
            "\n",
            "Setting core usage to single-threaded (default). Consider using --multicore <int> to speed up the extraction process.\n",
            "\n",
            "Summarising Bismark methylation extractor parameters:\n",
            "===============================================================\n",
            "Bismark paired-end SAM format specified (default)\n",
            "Number of cores to be used: 1\n",
            "Output will be written to the current directory ('/content')\n",
            "\n",
            "\n",
            "Summarising bedGraph parameters:\n",
            "===============================================================\n",
            "Generating additional output in bedGraph and coverage format\n",
            "bedGraph format:\t<Chromosome> <Start Position> <End Position> <Methylation Percentage>\n",
            "coverage format:\t<Chromosome> <Start Position> <End Position> <Methylation Percentage> <count methylated> <count non-methylated>\n",
            "\n",
            "Using a cutoff of 1 read(s) to report cytosine positions\n",
            "Reporting and sorting cytosine methylation information in CpG context only (default)\n",
            "The bedGraph UNIX sort command will use the following memory setting:\t'2G'. Temporary directory used for sorting is the output directory\n",
            "\n",
            "\n",
            "Summarising genome-wide cytosine methylation report parameters:\n",
            "===============================================================\n",
            "Generating comprehensive genome-wide cytosine report\n",
            "(output format: <Chromosome> <Position> <Strand> <count methylated> <count non-methylated>  <C-context>  <trinucleotide context> )\n",
            "Reporting cytosine methylation in CpG context only (default)\n",
            "Using 1-based genomic coordinates (default)\n",
            "Genome folder was specified as ./mouse_chr/\n",
            "\n",
            "Checking file >>epiblast_cell.deduplicated.bam<< for signs of file truncation...\n",
            "\n",
            "\n",
            "Now testing Bismark result file >epiblast_cell.deduplicated.bam< for positional sorting (which would be bad...)\t...passed!\n",
            "Writing result file containing methylation information for C in CpG context from the original top strand to CpG_OT_epiblast_cell.deduplicated.txt.gz\n",
            "Writing result file containing methylation information for C in CpG context from the complementary to original top strand to CpG_CTOT_epiblast_cell.deduplicated.txt.gz\n",
            "Writing result file containing methylation information for C in CpG context from the complementary to original bottom strand to CpG_CTOB_epiblast_cell.deduplicated.txt.gz\n",
            "Writing result file containing methylation information for C in CpG context from the original bottom strand to CpG_OB_epiblast_cell.deduplicated.txt.gz\n",
            "\n",
            "Writing result file containing methylation information for C in CHG context from the original top strand to CHG_OT_epiblast_cell.deduplicated.txt.gz\n",
            "Writing result file containing methylation information for C in CHG context from the complementary to original top strand to CHG_CTOT_epiblast_cell.deduplicated.txt.gz\n",
            "Writing result file containing methylation information for C in CHG context from the complementary to original bottom strand to CHG_CTOB_epiblast_cell.deduplicated.txt.gz\n",
            "Writing result file containing methylation information for C in CHG context from the original bottom strand to CHG_OB_epiblast_cell.deduplicated.txt.gz\n",
            "\n",
            "Writing result file containing methylation information for C in CHH context from the original top strand to CHH_OT_epiblast_cell.deduplicated.txt.gz\n",
            "Writing result file containing methylation information for C in CHH context from the complementary to original top strand to CHH_CTOT_epiblast_cell.deduplicated.txt.gz\n",
            "Writing result file containing methylation information for C in CHH context from the complementary to original bottom strand to CHH_CTOB_epiblast_cell.deduplicated.txt.gz\n",
            "Writing result file containing methylation information for C in CHH context from the original bottom strand to CHH_OB_epiblast_cell.deduplicated.txt.gz\n",
            "\n",
            "Now reading in Bismark result file epiblast_cell.deduplicated.bam\n",
            "skipping SAM header line:\t@HD\tVN:1.0\tSO:unsorted\n",
            "skipping SAM header line:\t@SQ\tSN:chr11\tLN:121973369\n",
            "skipping SAM header line:\t@PG\tID:Bismark\tVN:v0.24.2\tCL:\"bismark --genome_folder /mnt/cache-1/for_minor/mm39_11/ -q --non_directional -parallel 10 -1 SRR3824222_1.fq,SRR5836473_1.fq,SRR5836473_1.fq -2 SRR3824222_2.fq,SRR5836473_2.fq,SRR5836473_2.fq\"\n",
            "skipping SAM header line:\t@PG\tID:samtools\tPN:samtools\tPP:Bismark\tVN:1.19.2\tCL:/usr/local/bin/samtools view -h --threads 1 SRR3824222_1_bismark_bt2_pe.bam\n",
            "skipping SAM header line:\t@PG\tID:samtools.1\tPN:samtools\tPP:samtools\tVN:1.19.2\tCL:/usr/local/bin/samtools view -bS --threads 1 -\n",
            "skipping SAM header line:\t@PG\tID:samtools.2\tPN:samtools\tPP:samtools.1\tVN:1.19.2\tCL:/usr/local/bin/samtools view -h epiblast_cell.deduplicated.bam\n",
            "Processed lines: 500000\n",
            "Processed lines: 1000000\n",
            "Processed lines: 1500000\n",
            "Processed lines: 2000000\n",
            "Processed lines: 2500000\n",
            "Processed lines: 3000000\n",
            "Processed lines: 3500000\n",
            "Processed lines: 4000000\n",
            "Processed lines: 4500000\n",
            "Processed lines: 5000000\n",
            "Processed lines: 5500000\n",
            "Processed lines: 6000000\n",
            "Processed lines: 6500000\n",
            "\n",
            "Processed 6846444 lines in total\n",
            "Total number of methylation call strings processed: 13692888\n",
            "\n",
            "Final Cytosine Methylation Report\n",
            "=================================\n",
            "Total number of C's analysed:\t331429490\n",
            "\n",
            "Total methylated C's in CpG context:\t11550199\n",
            "Total methylated C's in CHG context:\t1574513\n",
            "Total methylated C's in CHH context:\t4133143\n",
            "\n",
            "Total C to T conversions in CpG context:\t3463972\n",
            "Total C to T conversions in CHG context:\t71924830\n",
            "Total C to T conversions in CHH context:\t238782833\n",
            "\n",
            "C methylated in CpG context:\t76.9%\n",
            "C methylated in CHG context:\t2.1%\n",
            "C methylated in CHH context:\t1.7%\n",
            "\n",
            "\n",
            "Determining maximum read lengths for M-Bias plots\n",
            "Maximum read length of Read 1: 140\n",
            "Maximum read length of Read 2: 140\n",
            "\n",
            "Perl module GD::Graph::lines is not installed, skipping drawing M-bias plots (only writing out M-bias plot table)\n",
            "Determining maximum read lengths for M-Bias plots\n",
            "Maximum read length of Read 1: 140\n",
            "Maximum read length of Read 2: 140\n",
            "\n",
            "Perl module GD::Graph::lines is not installed, skipping drawing M-bias plots (only writing out M-bias plot table)\n",
            "Deleting unused files ...\n",
            "\n",
            "CpG_OT_epiblast_cell.deduplicated.txt.gz contains data ->\tkept\n",
            "CpG_CTOT_epiblast_cell.deduplicated.txt.gz contains data ->\tkept\n",
            "CpG_CTOB_epiblast_cell.deduplicated.txt.gz contains data ->\tkept\n",
            "CpG_OB_epiblast_cell.deduplicated.txt.gz contains data ->\tkept\n",
            "CHG_OT_epiblast_cell.deduplicated.txt.gz contains data ->\tkept\n",
            "CHG_CTOT_epiblast_cell.deduplicated.txt.gz contains data ->\tkept\n",
            "CHG_CTOB_epiblast_cell.deduplicated.txt.gz contains data ->\tkept\n",
            "CHG_OB_epiblast_cell.deduplicated.txt.gz contains data ->\tkept\n",
            "CHH_OT_epiblast_cell.deduplicated.txt.gz contains data ->\tkept\n",
            "CHH_CTOT_epiblast_cell.deduplicated.txt.gz contains data ->\tkept\n",
            "CHH_CTOB_epiblast_cell.deduplicated.txt.gz contains data ->\tkept\n",
            "CHH_OB_epiblast_cell.deduplicated.txt.gz contains data ->\tkept\n",
            "\n",
            "\n",
            "Using these input files: CpG_OT_epiblast_cell.deduplicated.txt.gz CpG_CTOT_epiblast_cell.deduplicated.txt.gz CpG_CTOB_epiblast_cell.deduplicated.txt.gz CpG_OB_epiblast_cell.deduplicated.txt.gz CHG_OT_epiblast_cell.deduplicated.txt.gz CHG_CTOT_epiblast_cell.deduplicated.txt.gz CHG_CTOB_epiblast_cell.deduplicated.txt.gz CHG_OB_epiblast_cell.deduplicated.txt.gz CHH_OT_epiblast_cell.deduplicated.txt.gz CHH_CTOT_epiblast_cell.deduplicated.txt.gz CHH_CTOB_epiblast_cell.deduplicated.txt.gz CHH_OB_epiblast_cell.deduplicated.txt.gz\n",
            "\n",
            "Summary of parameters for bismark2bedGraph conversion:\n",
            "======================================================\n",
            "bedGraph output:\t\tepiblast_cell.deduplicated.bedGraph.gz\n",
            "output directory:\t\t><\n",
            "remove whitespaces:\t\tno\n",
            "CX context:\t\t\tno (CpG context only, default)\n",
            "No-header selected:\t\tno\n",
            "Sorting method:\t\t\tUnix sort-based (smaller memory footprint, but slower)\n",
            "Sort buffer size:\t\t2G\n",
            "Coverage threshold:\t\t1\n",
            "=============================================================================\n",
            "Methylation information will now be written into a bedGraph and coverage file\n",
            "=============================================================================\n",
            "\n",
            "Using the following files as Input:\n",
            "/content/CpG_OT_epiblast_cell.deduplicated.txt.gz\t/content/CpG_CTOT_epiblast_cell.deduplicated.txt.gz\t/content/CpG_CTOB_epiblast_cell.deduplicated.txt.gz\t/content/CpG_OB_epiblast_cell.deduplicated.txt.gz\n",
            "\n",
            "Writing bedGraph to file: epiblast_cell.deduplicated.bedGraph.gz\n",
            "Also writing out a coverage file including counts methylated and unmethylated residues to file: epiblast_cell.deduplicated.bismark.cov.gz\n",
            "\n",
            "Now writing methylation information for file >>CpG_OT_epiblast_cell.deduplicated.txt.gz<< to individual files for each chromosome\n",
            "Finished writing out individual chromosome files for CpG_OT_epiblast_cell.deduplicated.txt.gz\n",
            "Now writing methylation information for file >>CpG_CTOT_epiblast_cell.deduplicated.txt.gz<< to individual files for each chromosome\n",
            "Finished writing out individual chromosome files for CpG_CTOT_epiblast_cell.deduplicated.txt.gz\n",
            "Now writing methylation information for file >>CpG_CTOB_epiblast_cell.deduplicated.txt.gz<< to individual files for each chromosome\n",
            "Finished writing out individual chromosome files for CpG_CTOB_epiblast_cell.deduplicated.txt.gz\n",
            "Now writing methylation information for file >>CpG_OB_epiblast_cell.deduplicated.txt.gz<< to individual files for each chromosome\n",
            "Finished writing out individual chromosome files for CpG_OB_epiblast_cell.deduplicated.txt.gz\n",
            "\n",
            "Collecting temporary chromosome file information... Processing the following input file(s):\n",
            "CpG_OT_epiblast_cell.deduplicated.txt.gz.chrchr11.methXtractor.temp\n",
            "\n",
            "Sorting input file CpG_OT_epiblast_cell.deduplicated.txt.gz.chrchr11.methXtractor.temp by positions (using -S of 2G)\n",
            "Successfully deleted the temporary input file CpG_OT_epiblast_cell.deduplicated.txt.gz.chrchr11.methXtractor.temp\n",
            "\n",
            "Finished BedGraph conversion ...\n",
            "\n",
            "Summary of parameters for genome-wide cytosine report:\n",
            "==============================================================================\n",
            "Coverage infile:\t\t\t\tepiblast_cell.deduplicated.bismark.cov.gz\n",
            "Output directory:\t\t\t\t><\n",
            "Parent directory:\t\t\t\t>/content/<\n",
            "Genome directory:\t\t\t\t>/content/mouse_chr/<\n",
            "Coverage threshold\t\t\t\t0 (all positions will be reported, default)\n",
            "CX context:\t\t\t\t\tno (CpG context only, default)\n",
            "Genome coordinates used:\t\t\t1-based (default)\n",
            "GZIP compression:\t\t\t\tyes\n",
            "Split by chromosome:\t\t\t\tno\n",
            "\n",
            "\n",
            "Now reading in and storing sequence information of the genome specified in: /content/mouse_chr/\n",
            "\n",
            "chr chr11 (121973369 bp)\n",
            "\n",
            "Stored sequence information of 1 chromosomes/scaffolds in total\n",
            "\n",
            "==============================================================================\n",
            "Methylation information will now be written into a genome-wide cytosine report\n",
            "==============================================================================\n",
            "\n",
            "Adding context-specific methylation summaries\n",
            "\n",
            ">>> Writing genome-wide cytosine report to: epiblast_cell.deduplicated.CpG_report.txt.gz <<<\n",
            "\n",
            ">>> Writing all cytosine context summary file to: epiblast_cell.deduplicated.cytosine_context_summary.txt <<<\n",
            "\n",
            "Storing all covered cytosine positions for chromosome: chr11\n",
            "Writing cytosine report for last chromosome chr11 (stored 2250540 different covered positions)\n",
            "Finished writing out cytosine report for covered chromosomes (processed 1 chromosomes/scaffolds in total)\n",
            "\n",
            "Now processing chromosomes that were not covered by any methylation calls in the coverage file...\n",
            "All chromosomes in the genome were covered by at least some reads. coverage2cytosine processing complete.\n",
            "\n",
            "\n",
            "\n",
            "Finished generating genome-wide cytosine report\n",
            "\n"
          ]
        }
      ],
      "source": [
        "! bismark_methylation_extractor --gzip --bedGraph --cytosine_report --genome_folder ./mouse_chr epiblast_cell.deduplicated.bam"
      ]
    },
    {
      "cell_type": "code",
      "execution_count": null,
      "metadata": {
        "colab": {
          "base_uri": "https://localhost:8080/"
        },
        "id": "iNwzMUeAkQ4f",
        "outputId": "b0e66947-36a0-474d-f0fe-9303ab41c5b2"
      },
      "outputs": [
        {
          "name": "stdout",
          "output_type": "stream",
          "text": [
            "total 14G\n",
            "-rw-r--r-- 1 root root   198 Feb 10 15:29 checksum.md5\n",
            "-rw-r--r-- 1 root root   13K Feb 10 20:42 CHG_CTOB_epiblast_cell.deduplicated.txt.gz\n",
            "-rw-r--r-- 1 root root  9.4K Feb 10 19:23 CHG_CTOB_icm_cell.deduplicated.txt.gz\n",
            "-rw-r--r-- 1 root root  7.7K Feb 10 18:39 CHG_CTOB_s_8_cell.deduplicated.txt.gz\n",
            "-rw-r--r-- 1 root root   14K Feb 10 20:42 CHG_CTOT_epiblast_cell.deduplicated.txt.gz\n",
            "-rw-r--r-- 1 root root   10K Feb 10 19:23 CHG_CTOT_icm_cell.deduplicated.txt.gz\n",
            "-rw-r--r-- 1 root root  8.2K Feb 10 18:39 CHG_CTOT_s_8_cell.deduplicated.txt.gz\n",
            "-rw-r--r-- 1 root root  157M Feb 10 20:42 CHG_OB_epiblast_cell.deduplicated.txt.gz\n",
            "-rw-r--r-- 1 root root   84M Feb 10 19:23 CHG_OB_icm_cell.deduplicated.txt.gz\n",
            "-rw-r--r-- 1 root root   51M Feb 10 18:39 CHG_OB_s_8_cell.deduplicated.txt.gz\n",
            "-rw-r--r-- 1 root root  157M Feb 10 20:42 CHG_OT_epiblast_cell.deduplicated.txt.gz\n",
            "-rw-r--r-- 1 root root   85M Feb 10 19:23 CHG_OT_icm_cell.deduplicated.txt.gz\n",
            "-rw-r--r-- 1 root root   51M Feb 10 18:39 CHG_OT_s_8_cell.deduplicated.txt.gz\n",
            "-rw-r--r-- 1 root root  1.9M Feb 10 20:42 CHH_CTOB_epiblast_cell.deduplicated.txt.gz\n",
            "-rw-r--r-- 1 root root  1.6M Feb 10 19:23 CHH_CTOB_icm_cell.deduplicated.txt.gz\n",
            "-rw-r--r-- 1 root root  1.1M Feb 10 18:39 CHH_CTOB_s_8_cell.deduplicated.txt.gz\n",
            "-rw-r--r-- 1 root root  1.7M Feb 10 20:42 CHH_CTOT_epiblast_cell.deduplicated.txt.gz\n",
            "-rw-r--r-- 1 root root  1.4M Feb 10 19:23 CHH_CTOT_icm_cell.deduplicated.txt.gz\n",
            "-rw-r--r-- 1 root root 1014K Feb 10 18:39 CHH_CTOT_s_8_cell.deduplicated.txt.gz\n",
            "-rw-r--r-- 1 root root  419M Feb 10 20:42 CHH_OB_epiblast_cell.deduplicated.txt.gz\n",
            "-rw-r--r-- 1 root root  223M Feb 10 19:23 CHH_OB_icm_cell.deduplicated.txt.gz\n",
            "-rw-r--r-- 1 root root  133M Feb 10 18:39 CHH_OB_s_8_cell.deduplicated.txt.gz\n",
            "-rw-r--r-- 1 root root  419M Feb 10 20:42 CHH_OT_epiblast_cell.deduplicated.txt.gz\n",
            "-rw-r--r-- 1 root root  223M Feb 10 19:23 CHH_OT_icm_cell.deduplicated.txt.gz\n",
            "-rw-r--r-- 1 root root  133M Feb 10 18:39 CHH_OT_s_8_cell.deduplicated.txt.gz\n",
            "-rw-r--r-- 1 root root   23K Feb 10 15:13 condacolab_install.log\n",
            "-rw-r--r-- 1 root root  7.5K Feb 10 20:42 CpG_CTOB_epiblast_cell.deduplicated.txt.gz\n",
            "-rw-r--r-- 1 root root  4.7K Feb 10 19:23 CpG_CTOB_icm_cell.deduplicated.txt.gz\n",
            "-rw-r--r-- 1 root root  4.2K Feb 10 18:39 CpG_CTOB_s_8_cell.deduplicated.txt.gz\n",
            "-rw-r--r-- 1 root root  8.0K Feb 10 20:42 CpG_CTOT_epiblast_cell.deduplicated.txt.gz\n",
            "-rw-r--r-- 1 root root  4.6K Feb 10 19:23 CpG_CTOT_icm_cell.deduplicated.txt.gz\n",
            "-rw-r--r-- 1 root root  3.8K Feb 10 18:39 CpG_CTOT_s_8_cell.deduplicated.txt.gz\n",
            "-rw-r--r-- 1 root root   49M Feb 10 20:42 CpG_OB_epiblast_cell.deduplicated.txt.gz\n",
            "-rw-r--r-- 1 root root   28M Feb 10 19:23 CpG_OB_icm_cell.deduplicated.txt.gz\n",
            "-rw-r--r-- 1 root root   17M Feb 10 18:39 CpG_OB_s_8_cell.deduplicated.txt.gz\n",
            "-rw-r--r-- 1 root root   49M Feb 10 20:42 CpG_OT_epiblast_cell.deduplicated.txt.gz\n",
            "-rw-r--r-- 1 root root   28M Feb 10 19:23 CpG_OT_icm_cell.deduplicated.txt.gz\n",
            "-rw-r--r-- 1 root root   17M Feb 10 18:39 CpG_OT_s_8_cell.deduplicated.txt.gz\n",
            "-rw-r--r-- 1 root root  1.9G Feb 10 17:32 epiblast_cell.deduplicated.bam\n",
            "-rw-r--r-- 1 root root   14M Feb 10 20:44 epiblast_cell.deduplicated.bedGraph.gz\n",
            "-rw-r--r-- 1 root root   14M Feb 10 20:44 epiblast_cell.deduplicated.bismark.cov.gz\n",
            "-rw-r--r-- 1 root root   11M Feb 10 20:48 epiblast_cell.deduplicated.CpG_report.txt.gz\n",
            "-rw-r--r-- 1 root root  1.7K Feb 10 20:48 epiblast_cell.deduplicated.cytosine_context_summary.txt\n",
            "-rw-r--r-- 1 root root   24K Feb 10 20:42 epiblast_cell.deduplicated.M-bias.txt\n",
            "-rw-r--r-- 1 root root   850 Feb 10 20:42 epiblast_cell.deduplicated_splitting_report.txt\n",
            "-rw-r--r-- 1 root root   282 Feb 10 17:32 epiblast_cell.deduplication_report.txt\n",
            "drwxr-xr-x 8 root root  4.0K Feb 10 15:04 FastQC\n",
            "-rw-r--r-- 1 root root  9.8M Jan 15  2020 fastqc_v0.11.9.zip\n",
            "-rw-r--r-- 1 root root  9.8M Jan 15  2020 fastqc_v0.11.9.zip.1\n",
            "-rw-r--r-- 1 root root  9.8M Jan 15  2020 fastqc_v0.11.9.zip.2\n",
            "-rw-r--r-- 1 root root  1.1G Feb 10 17:26 icm_cell.deduplicated.bam\n",
            "-rw-r--r-- 1 root root   12M Feb 10 19:25 icm_cell.deduplicated.bedGraph.gz\n",
            "-rw-r--r-- 1 root root   12M Feb 10 19:25 icm_cell.deduplicated.bismark.cov.gz\n",
            "-rw-r--r-- 1 root root   11M Feb 10 19:29 icm_cell.deduplicated.CpG_report.txt.gz\n",
            "-rw-r--r-- 1 root root  1.6K Feb 10 19:29 icm_cell.deduplicated.cytosine_context_summary.txt\n",
            "-rw-r--r-- 1 root root   23K Feb 10 19:23 icm_cell.deduplicated.M-bias.txt\n",
            "-rw-r--r-- 1 root root   842 Feb 10 19:23 icm_cell.deduplicated_splitting_report.txt\n",
            "-rw-r--r-- 1 root root   282 Feb 10 17:26 icm_cell.deduplication_report.txt\n",
            "drwxr-xr-x 2 root root  4.0K Feb 10 18:14 mouse_chr\n",
            "-rw-r--r-- 1 root root  620M Feb 10 16:43 s_8_cell.deduplicated.bam\n",
            "-rw-r--r-- 1 root root  9.8M Feb 10 18:40 s_8_cell.deduplicated.bedGraph.gz\n",
            "-rw-r--r-- 1 root root  9.4M Feb 10 18:40 s_8_cell.deduplicated.bismark.cov.gz\n",
            "-rw-r--r-- 1 root root  9.9M Feb 10 18:43 s_8_cell.deduplicated.CpG_report.txt.gz\n",
            "-rw-r--r-- 1 root root  1.6K Feb 10 18:43 s_8_cell.deduplicated.cytosine_context_summary.txt\n",
            "-rw-r--r-- 1 root root   22K Feb 10 18:39 s_8_cell.deduplicated.M-bias.txt\n",
            "-rw-r--r-- 1 root root   841 Feb 10 18:39 s_8_cell.deduplicated_splitting_report.txt\n",
            "-rw-r--r-- 1 root root   283 Feb 10 16:43 s_8_cell.deduplication_report.txt\n",
            "drwxr-xr-x 1 root root  4.0K Feb  8 14:21 sample_data\n",
            "-rw-r--r-- 1 root root  528M Feb 10 16:25 sorted_8cell.bam\n",
            "-rw-r--r-- 1 root root  203K Feb 10 16:26 sorted_8cell.bam.bai\n",
            "-rw-r--r-- 1 root root  1.3G Feb 10 17:10 sorted_epiblast.bam\n",
            "-rw-r--r-- 1 root root  349K Feb 10 17:10 sorted_epiblast.bam.bai\n",
            "-rw-r--r-- 1 root root  777M Feb 10 17:13 sorted_icm.bam\n",
            "-rw-r--r-- 1 root root  341K Feb 10 17:13 sorted_icm.bam.bai\n",
            "-rw-r--r-- 1 root root  156M Feb 10 17:05 sorted_icm.bam.tmp.0000-001.bam\n",
            "-rw-r--r-- 1 root root  175M Feb 10 17:02 sorted_icm.bam.tmp.0000.bam\n",
            "-rw-r--r-- 1 root root  168M Feb 10 17:02 sorted_icm.bam.tmp.0001.bam\n",
            "-rw-r--r-- 1 root root  175M Feb 10 17:03 sorted_icm.bam.tmp.0002.bam\n",
            "-rw-r--r-- 1 root root  168M Feb 10 17:03 sorted_icm.bam.tmp.0003.bam\n",
            "-rw-r--r-- 1 root root  1.9G Feb 10 16:02 SRR3824222_1_bismark_bt2_pe.bam\n",
            "-rw-r--r-- 1 root root  769M Feb 10 16:03 SRR5836473_1_bismark_bt2_pe.bam\n",
            "-rw-r--r-- 1 root root  245M Feb 10 15:13 SRR5836473_1.fastq.gz\n",
            "-rw-r--r-- 1 root root   16M Feb 10 16:01 SRR5836473_1.fastq.gz.1\n",
            "-rw-r--r-- 1 root root   21M Feb 10 16:02 SRR5836473_1.fastq.gz.2\n",
            "-rw-r--r-- 1 root root  896K Feb 10 15:13 SRR5836473_2.fastq.gz\n",
            "-rw-r--r-- 1 root root  3.1M Feb 10 16:01 SRR5836473_2.fastq.gz.1\n",
            "-rw-r--r-- 1 root root  1.2G Feb 10 16:22 SRR5836475_1_bismark_bt2_pe.bam\n"
          ]
        }
      ],
      "source": [
        "! ls -lh"
      ]
    },
    {
      "cell_type": "markdown",
      "metadata": {
        "id": "1yuRuud-mMK-"
      },
      "source": []
    },
    {
      "cell_type": "code",
      "execution_count": null,
      "metadata": {
        "colab": {
          "base_uri": "https://localhost:8080/"
        },
        "id": "6RQ7FwM-UsSi",
        "outputId": "35da1d1c-f80a-4f1d-b3ae-ded382fd3ce0"
      },
      "outputs": [
        {
          "name": "stdout",
          "output_type": "stream",
          "text": [
            "\n",
            "Writing Bismark HTML report to >> SRR5836473_1_bismark_bt2_PE_report.html <<\n",
            "\n",
            "==============================================================================================================\n",
            "Using the following alignment report:\t\t> SRR5836473_1_bismark_bt2_PE_report.txt <\n",
            "Processing alignment report SRR5836473_1_bismark_bt2_PE_report.txt ...\n",
            "Complete\n",
            "\n",
            "No deduplication report file specified, skipping this step\n",
            "No splitting report file specified, skipping this step\n",
            "Using the following M-bias report:\t\t> s_8_cell.deduplicated.M-bias.txt <\n",
            "Processing M-bias report s_8_cell.deduplicated.M-bias.txt ...\n",
            "Complete\n",
            "\n",
            "No nucleotide coverage report file specified, skipping this step\n",
            "==============================================================================================================\n",
            "\n",
            "\n"
          ]
        }
      ],
      "source": [
        "! bismark2report -alignment_report SRR5836473_1_bismark_bt2_PE_report.txt -mbias_report s_8_cell.deduplicated.M-bias.txt"
      ]
    },
    {
      "cell_type": "code",
      "execution_count": null,
      "metadata": {
        "colab": {
          "base_uri": "https://localhost:8080/"
        },
        "id": "8u_wrHEL2f9F",
        "outputId": "48c80ede-2e49-412a-f058-3cdb049d9aa2"
      },
      "outputs": [
        {
          "name": "stdout",
          "output_type": "stream",
          "text": [
            "\n",
            "Writing Bismark HTML report to >> SRR5836475_1_bismark_bt2_PE_report.html <<\n",
            "\n",
            "==============================================================================================================\n",
            "Using the following alignment report:\t\t> SRR5836475_1_bismark_bt2_PE_report.txt <\n",
            "Processing alignment report SRR5836475_1_bismark_bt2_PE_report.txt ...\n",
            "Complete\n",
            "\n",
            "No deduplication report file specified, skipping this step\n",
            "No splitting report file specified, skipping this step\n",
            "Using the following M-bias report:\t\t> icm_cell.deduplicated.M-bias.txt <\n",
            "Processing M-bias report icm_cell.deduplicated.M-bias.txt ...\n",
            "Complete\n",
            "\n",
            "No nucleotide coverage report file specified, skipping this step\n",
            "==============================================================================================================\n",
            "\n",
            "\n"
          ]
        }
      ],
      "source": [
        "! bismark2report -alignment_report SRR5836475_1_bismark_bt2_PE_report.txt -mbias_report icm_cell.deduplicated.M-bias.txt"
      ]
    },
    {
      "cell_type": "code",
      "execution_count": null,
      "metadata": {
        "colab": {
          "base_uri": "https://localhost:8080/"
        },
        "id": "bF6MOpWW2qc2",
        "outputId": "70ef9976-ae82-4da7-90f4-4ee2eb679ca8"
      },
      "outputs": [
        {
          "name": "stdout",
          "output_type": "stream",
          "text": [
            "\n",
            "Writing Bismark HTML report to >> SRR3824222_1_bismark_bt2_PE_report.html <<\n",
            "\n",
            "==============================================================================================================\n",
            "Using the following alignment report:\t\t> SRR3824222_1_bismark_bt2_PE_report.txt <\n",
            "Processing alignment report SRR3824222_1_bismark_bt2_PE_report.txt ...\n",
            "Complete\n",
            "\n",
            "No deduplication report file specified, skipping this step\n",
            "No splitting report file specified, skipping this step\n",
            "Using the following M-bias report:\t\t> epiblast_cell.deduplicated.M-bias.txt <\n",
            "Processing M-bias report epiblast_cell.deduplicated.M-bias.txt ...\n",
            "Complete\n",
            "\n",
            "No nucleotide coverage report file specified, skipping this step\n",
            "==============================================================================================================\n",
            "\n",
            "\n"
          ]
        }
      ],
      "source": [
        "! bismark2report -alignment_report SRR3824222_1_bismark_bt2_PE_report.txt -mbias_report epiblast_cell.deduplicated.M-bias.txt"
      ]
    },
    {
      "cell_type": "code",
      "execution_count": null,
      "metadata": {
        "id": "5qtv-9jI4C4R"
      },
      "outputs": [],
      "source": [
        "! gzip -d s_8_cell.deduplicated.bedGraph.gz"
      ]
    },
    {
      "cell_type": "code",
      "execution_count": null,
      "metadata": {
        "colab": {
          "base_uri": "https://localhost:8080/"
        },
        "id": "tI5AUYTPliqA",
        "outputId": "3730094a-947a-4e55-8569-a08a3f56a2a1"
      },
      "outputs": [
        {
          "name": "stdout",
          "output_type": "stream",
          "text": [
            "track type=bedGraph\n",
            "chr11\t3050030\t3050031\t50\n",
            "chr11\t3050047\t3050048\t66.6666666666667\n",
            "chr11\t3050048\t3050049\t50\n",
            "chr11\t3050223\t3050224\t87.5\n",
            "chr11\t3050224\t3050225\t53.3333333333333\n",
            "chr11\t3050285\t3050286\t66.6666666666667\n",
            "chr11\t3050286\t3050287\t33.3333333333333\n",
            "chr11\t3050309\t3050310\t62.5\n",
            "chr11\t3050310\t3050311\t50\n"
          ]
        }
      ],
      "source": [
        "! head s_8_cell.deduplicated.bedGraph"
      ]
    },
    {
      "cell_type": "code",
      "execution_count": null,
      "metadata": {
        "colab": {
          "base_uri": "https://localhost:8080/"
        },
        "id": "Io6TTpKS4OJt",
        "outputId": "0c06bb04-d8ed-4ddb-a6ab-bf7482e28017"
      },
      "outputs": [
        {
          "name": "stdout",
          "output_type": "stream",
          "text": [
            "track type=bedGraph\n",
            "chr11\t3050030\t3050031\t33.3333333333333\n",
            "chr11\t3050031\t3050032\t50\n",
            "chr11\t3050047\t3050048\t50\n",
            "chr11\t3050048\t3050049\t57.1428571428571\n",
            "chr11\t3050223\t3050224\t36.3636363636364\n",
            "chr11\t3050224\t3050225\t22.7272727272727\n",
            "chr11\t3050285\t3050286\t25\n",
            "chr11\t3050286\t3050287\t28.5714285714286\n",
            "chr11\t3050309\t3050310\t22.2222222222222\n"
          ]
        }
      ],
      "source": [
        "! gzip -d icm_cell.deduplicated.bedGraph.gz\n",
        "! head icm_cell.deduplicated.bedGraph"
      ]
    },
    {
      "cell_type": "code",
      "execution_count": null,
      "metadata": {
        "colab": {
          "base_uri": "https://localhost:8080/"
        },
        "id": "DAn5M1rP4WDk",
        "outputId": "36328289-942d-49e0-f7d2-687b1e87ca87"
      },
      "outputs": [
        {
          "name": "stdout",
          "output_type": "stream",
          "text": [
            "track type=bedGraph\n",
            "chr11\t3050030\t3050031\t75\n",
            "chr11\t3050031\t3050032\t100\n",
            "chr11\t3050047\t3050048\t100\n",
            "chr11\t3050048\t3050049\t100\n",
            "chr11\t3050223\t3050224\t96.875\n",
            "chr11\t3050224\t3050225\t93.75\n",
            "chr11\t3050285\t3050286\t93.3333333333333\n",
            "chr11\t3050286\t3050287\t90\n",
            "chr11\t3050309\t3050310\t96.7741935483871\n"
          ]
        }
      ],
      "source": [
        "! gzip -d epiblast_cell.deduplicated.bedGraph.gz\n",
        "! head epiblast_cell.deduplicated.bedGraph"
      ]
    },
    {
      "cell_type": "code",
      "execution_count": null,
      "metadata": {
        "id": "eWLyRpDo6xTn"
      },
      "outputs": [],
      "source": [
        "import pandas as pd\n",
        "import seaborn as sns\n",
        "import matplotlib.pyplot as plt"
      ]
    },
    {
      "cell_type": "code",
      "execution_count": null,
      "metadata": {
        "colab": {
          "base_uri": "https://localhost:8080/",
          "height": 206
        },
        "id": "EzaU9JEb6tjj",
        "outputId": "b4dfcb8e-352d-4b43-d792-be9d7420f7bf"
      },
      "outputs": [
        {
          "data": {
            "text/html": [
              "\n",
              "  <div id=\"df-091c4bf9-3150-4baa-bd3c-8082a29e67ac\" class=\"colab-df-container\">\n",
              "    <div>\n",
              "<style scoped>\n",
              "    .dataframe tbody tr th:only-of-type {\n",
              "        vertical-align: middle;\n",
              "    }\n",
              "\n",
              "    .dataframe tbody tr th {\n",
              "        vertical-align: top;\n",
              "    }\n",
              "\n",
              "    .dataframe thead th {\n",
              "        text-align: right;\n",
              "    }\n",
              "</style>\n",
              "<table border=\"1\" class=\"dataframe\">\n",
              "  <thead>\n",
              "    <tr style=\"text-align: right;\">\n",
              "      <th></th>\n",
              "      <th>0</th>\n",
              "      <th>1</th>\n",
              "      <th>2</th>\n",
              "      <th>3</th>\n",
              "    </tr>\n",
              "  </thead>\n",
              "  <tbody>\n",
              "    <tr>\n",
              "      <th>0</th>\n",
              "      <td>chr11</td>\n",
              "      <td>3050030</td>\n",
              "      <td>3050031</td>\n",
              "      <td>50.000000</td>\n",
              "    </tr>\n",
              "    <tr>\n",
              "      <th>1</th>\n",
              "      <td>chr11</td>\n",
              "      <td>3050047</td>\n",
              "      <td>3050048</td>\n",
              "      <td>66.666667</td>\n",
              "    </tr>\n",
              "    <tr>\n",
              "      <th>2</th>\n",
              "      <td>chr11</td>\n",
              "      <td>3050048</td>\n",
              "      <td>3050049</td>\n",
              "      <td>50.000000</td>\n",
              "    </tr>\n",
              "    <tr>\n",
              "      <th>3</th>\n",
              "      <td>chr11</td>\n",
              "      <td>3050223</td>\n",
              "      <td>3050224</td>\n",
              "      <td>87.500000</td>\n",
              "    </tr>\n",
              "    <tr>\n",
              "      <th>4</th>\n",
              "      <td>chr11</td>\n",
              "      <td>3050224</td>\n",
              "      <td>3050225</td>\n",
              "      <td>53.333333</td>\n",
              "    </tr>\n",
              "  </tbody>\n",
              "</table>\n",
              "</div>\n",
              "    <div class=\"colab-df-buttons\">\n",
              "\n",
              "  <div class=\"colab-df-container\">\n",
              "    <button class=\"colab-df-convert\" onclick=\"convertToInteractive('df-091c4bf9-3150-4baa-bd3c-8082a29e67ac')\"\n",
              "            title=\"Convert this dataframe to an interactive table.\"\n",
              "            style=\"display:none;\">\n",
              "\n",
              "  <svg xmlns=\"http://www.w3.org/2000/svg\" height=\"24px\" viewBox=\"0 -960 960 960\">\n",
              "    <path d=\"M120-120v-720h720v720H120Zm60-500h600v-160H180v160Zm220 220h160v-160H400v160Zm0 220h160v-160H400v160ZM180-400h160v-160H180v160Zm440 0h160v-160H620v160ZM180-180h160v-160H180v160Zm440 0h160v-160H620v160Z\"/>\n",
              "  </svg>\n",
              "    </button>\n",
              "\n",
              "  <style>\n",
              "    .colab-df-container {\n",
              "      display:flex;\n",
              "      gap: 12px;\n",
              "    }\n",
              "\n",
              "    .colab-df-convert {\n",
              "      background-color: #E8F0FE;\n",
              "      border: none;\n",
              "      border-radius: 50%;\n",
              "      cursor: pointer;\n",
              "      display: none;\n",
              "      fill: #1967D2;\n",
              "      height: 32px;\n",
              "      padding: 0 0 0 0;\n",
              "      width: 32px;\n",
              "    }\n",
              "\n",
              "    .colab-df-convert:hover {\n",
              "      background-color: #E2EBFA;\n",
              "      box-shadow: 0px 1px 2px rgba(60, 64, 67, 0.3), 0px 1px 3px 1px rgba(60, 64, 67, 0.15);\n",
              "      fill: #174EA6;\n",
              "    }\n",
              "\n",
              "    .colab-df-buttons div {\n",
              "      margin-bottom: 4px;\n",
              "    }\n",
              "\n",
              "    [theme=dark] .colab-df-convert {\n",
              "      background-color: #3B4455;\n",
              "      fill: #D2E3FC;\n",
              "    }\n",
              "\n",
              "    [theme=dark] .colab-df-convert:hover {\n",
              "      background-color: #434B5C;\n",
              "      box-shadow: 0px 1px 3px 1px rgba(0, 0, 0, 0.15);\n",
              "      filter: drop-shadow(0px 1px 2px rgba(0, 0, 0, 0.3));\n",
              "      fill: #FFFFFF;\n",
              "    }\n",
              "  </style>\n",
              "\n",
              "    <script>\n",
              "      const buttonEl =\n",
              "        document.querySelector('#df-091c4bf9-3150-4baa-bd3c-8082a29e67ac button.colab-df-convert');\n",
              "      buttonEl.style.display =\n",
              "        google.colab.kernel.accessAllowed ? 'block' : 'none';\n",
              "\n",
              "      async function convertToInteractive(key) {\n",
              "        const element = document.querySelector('#df-091c4bf9-3150-4baa-bd3c-8082a29e67ac');\n",
              "        const dataTable =\n",
              "          await google.colab.kernel.invokeFunction('convertToInteractive',\n",
              "                                                    [key], {});\n",
              "        if (!dataTable) return;\n",
              "\n",
              "        const docLinkHtml = 'Like what you see? Visit the ' +\n",
              "          '<a target=\"_blank\" href=https://colab.research.google.com/notebooks/data_table.ipynb>data table notebook</a>'\n",
              "          + ' to learn more about interactive tables.';\n",
              "        element.innerHTML = '';\n",
              "        dataTable['output_type'] = 'display_data';\n",
              "        await google.colab.output.renderOutput(dataTable, element);\n",
              "        const docLink = document.createElement('div');\n",
              "        docLink.innerHTML = docLinkHtml;\n",
              "        element.appendChild(docLink);\n",
              "      }\n",
              "    </script>\n",
              "  </div>\n",
              "\n",
              "\n",
              "<div id=\"df-9ccf1d84-4268-4b65-a63a-14100eaec2d1\">\n",
              "  <button class=\"colab-df-quickchart\" onclick=\"quickchart('df-9ccf1d84-4268-4b65-a63a-14100eaec2d1')\"\n",
              "            title=\"Suggest charts\"\n",
              "            style=\"display:none;\">\n",
              "\n",
              "<svg xmlns=\"http://www.w3.org/2000/svg\" height=\"24px\"viewBox=\"0 0 24 24\"\n",
              "     width=\"24px\">\n",
              "    <g>\n",
              "        <path d=\"M19 3H5c-1.1 0-2 .9-2 2v14c0 1.1.9 2 2 2h14c1.1 0 2-.9 2-2V5c0-1.1-.9-2-2-2zM9 17H7v-7h2v7zm4 0h-2V7h2v10zm4 0h-2v-4h2v4z\"/>\n",
              "    </g>\n",
              "</svg>\n",
              "  </button>\n",
              "\n",
              "<style>\n",
              "  .colab-df-quickchart {\n",
              "      --bg-color: #E8F0FE;\n",
              "      --fill-color: #1967D2;\n",
              "      --hover-bg-color: #E2EBFA;\n",
              "      --hover-fill-color: #174EA6;\n",
              "      --disabled-fill-color: #AAA;\n",
              "      --disabled-bg-color: #DDD;\n",
              "  }\n",
              "\n",
              "  [theme=dark] .colab-df-quickchart {\n",
              "      --bg-color: #3B4455;\n",
              "      --fill-color: #D2E3FC;\n",
              "      --hover-bg-color: #434B5C;\n",
              "      --hover-fill-color: #FFFFFF;\n",
              "      --disabled-bg-color: #3B4455;\n",
              "      --disabled-fill-color: #666;\n",
              "  }\n",
              "\n",
              "  .colab-df-quickchart {\n",
              "    background-color: var(--bg-color);\n",
              "    border: none;\n",
              "    border-radius: 50%;\n",
              "    cursor: pointer;\n",
              "    display: none;\n",
              "    fill: var(--fill-color);\n",
              "    height: 32px;\n",
              "    padding: 0;\n",
              "    width: 32px;\n",
              "  }\n",
              "\n",
              "  .colab-df-quickchart:hover {\n",
              "    background-color: var(--hover-bg-color);\n",
              "    box-shadow: 0 1px 2px rgba(60, 64, 67, 0.3), 0 1px 3px 1px rgba(60, 64, 67, 0.15);\n",
              "    fill: var(--button-hover-fill-color);\n",
              "  }\n",
              "\n",
              "  .colab-df-quickchart-complete:disabled,\n",
              "  .colab-df-quickchart-complete:disabled:hover {\n",
              "    background-color: var(--disabled-bg-color);\n",
              "    fill: var(--disabled-fill-color);\n",
              "    box-shadow: none;\n",
              "  }\n",
              "\n",
              "  .colab-df-spinner {\n",
              "    border: 2px solid var(--fill-color);\n",
              "    border-color: transparent;\n",
              "    border-bottom-color: var(--fill-color);\n",
              "    animation:\n",
              "      spin 1s steps(1) infinite;\n",
              "  }\n",
              "\n",
              "  @keyframes spin {\n",
              "    0% {\n",
              "      border-color: transparent;\n",
              "      border-bottom-color: var(--fill-color);\n",
              "      border-left-color: var(--fill-color);\n",
              "    }\n",
              "    20% {\n",
              "      border-color: transparent;\n",
              "      border-left-color: var(--fill-color);\n",
              "      border-top-color: var(--fill-color);\n",
              "    }\n",
              "    30% {\n",
              "      border-color: transparent;\n",
              "      border-left-color: var(--fill-color);\n",
              "      border-top-color: var(--fill-color);\n",
              "      border-right-color: var(--fill-color);\n",
              "    }\n",
              "    40% {\n",
              "      border-color: transparent;\n",
              "      border-right-color: var(--fill-color);\n",
              "      border-top-color: var(--fill-color);\n",
              "    }\n",
              "    60% {\n",
              "      border-color: transparent;\n",
              "      border-right-color: var(--fill-color);\n",
              "    }\n",
              "    80% {\n",
              "      border-color: transparent;\n",
              "      border-right-color: var(--fill-color);\n",
              "      border-bottom-color: var(--fill-color);\n",
              "    }\n",
              "    90% {\n",
              "      border-color: transparent;\n",
              "      border-bottom-color: var(--fill-color);\n",
              "    }\n",
              "  }\n",
              "</style>\n",
              "\n",
              "  <script>\n",
              "    async function quickchart(key) {\n",
              "      const quickchartButtonEl =\n",
              "        document.querySelector('#' + key + ' button');\n",
              "      quickchartButtonEl.disabled = true;  // To prevent multiple clicks.\n",
              "      quickchartButtonEl.classList.add('colab-df-spinner');\n",
              "      try {\n",
              "        const charts = await google.colab.kernel.invokeFunction(\n",
              "            'suggestCharts', [key], {});\n",
              "      } catch (error) {\n",
              "        console.error('Error during call to suggestCharts:', error);\n",
              "      }\n",
              "      quickchartButtonEl.classList.remove('colab-df-spinner');\n",
              "      quickchartButtonEl.classList.add('colab-df-quickchart-complete');\n",
              "    }\n",
              "    (() => {\n",
              "      let quickchartButtonEl =\n",
              "        document.querySelector('#df-9ccf1d84-4268-4b65-a63a-14100eaec2d1 button');\n",
              "      quickchartButtonEl.style.display =\n",
              "        google.colab.kernel.accessAllowed ? 'block' : 'none';\n",
              "    })();\n",
              "  </script>\n",
              "</div>\n",
              "    </div>\n",
              "  </div>\n"
            ],
            "text/plain": [
              "       0        1        2          3\n",
              "0  chr11  3050030  3050031  50.000000\n",
              "1  chr11  3050047  3050048  66.666667\n",
              "2  chr11  3050048  3050049  50.000000\n",
              "3  chr11  3050223  3050224  87.500000\n",
              "4  chr11  3050224  3050225  53.333333"
            ]
          },
          "execution_count": 99,
          "metadata": {},
          "output_type": "execute_result"
        }
      ],
      "source": [
        "df = pd.read_csv(\"s_8_cell.deduplicated.bedGraph\", delimiter='\\t', skiprows=1, header=None)\n",
        "df.head()"
      ]
    },
    {
      "cell_type": "code",
      "execution_count": null,
      "metadata": {
        "colab": {
          "base_uri": "https://localhost:8080/",
          "height": 547
        },
        "id": "okmXhIZ68L3_",
        "outputId": "60f7b230-7eba-4ba1-ceb5-fadf04eca214"
      },
      "outputs": [
        {
          "data": {
            "image/png": "[encoded data removed]",
            "text/plain": [
              "<Figure size 1200x600 with 1 Axes>"
            ]
          },
          "metadata": {},
          "output_type": "display_data"
        }
      ],
      "source": [
        "sns.set_style(\"darkgrid\")\n",
        "plt.figure(figsize=[12, 6])\n",
        "plt.title(\"Распределение метилирования 8cell\", fontsize=15)\n",
        "plt.hist(df[3], bins=100, density=True)\n",
        "plt.show()"
      ]
    },
    {
      "cell_type": "code",
      "execution_count": null,
      "metadata": {
        "colab": {
          "base_uri": "https://localhost:8080/",
          "height": 206
        },
        "id": "j7Pcas9P7ee_",
        "outputId": "9e93c5f4-b458-445a-e33f-bf7ea7d3d942"
      },
      "outputs": [
        {
          "data": {
            "text/html": [
              "\n",
              "  <div id=\"df-c7d882e8-078c-4c10-83c6-b2a8e3ef70c7\" class=\"colab-df-container\">\n",
              "    <div>\n",
              "<style scoped>\n",
              "    .dataframe tbody tr th:only-of-type {\n",
              "        vertical-align: middle;\n",
              "    }\n",
              "\n",
              "    .dataframe tbody tr th {\n",
              "        vertical-align: top;\n",
              "    }\n",
              "\n",
              "    .dataframe thead th {\n",
              "        text-align: right;\n",
              "    }\n",
              "</style>\n",
              "<table border=\"1\" class=\"dataframe\">\n",
              "  <thead>\n",
              "    <tr style=\"text-align: right;\">\n",
              "      <th></th>\n",
              "      <th>0</th>\n",
              "      <th>1</th>\n",
              "      <th>2</th>\n",
              "      <th>3</th>\n",
              "    </tr>\n",
              "  </thead>\n",
              "  <tbody>\n",
              "    <tr>\n",
              "      <th>0</th>\n",
              "      <td>chr11</td>\n",
              "      <td>3050030</td>\n",
              "      <td>3050031</td>\n",
              "      <td>33.333333</td>\n",
              "    </tr>\n",
              "    <tr>\n",
              "      <th>1</th>\n",
              "      <td>chr11</td>\n",
              "      <td>3050031</td>\n",
              "      <td>3050032</td>\n",
              "      <td>50.000000</td>\n",
              "    </tr>\n",
              "    <tr>\n",
              "      <th>2</th>\n",
              "      <td>chr11</td>\n",
              "      <td>3050047</td>\n",
              "      <td>3050048</td>\n",
              "      <td>50.000000</td>\n",
              "    </tr>\n",
              "    <tr>\n",
              "      <th>3</th>\n",
              "      <td>chr11</td>\n",
              "      <td>3050048</td>\n",
              "      <td>3050049</td>\n",
              "      <td>57.142857</td>\n",
              "    </tr>\n",
              "    <tr>\n",
              "      <th>4</th>\n",
              "      <td>chr11</td>\n",
              "      <td>3050223</td>\n",
              "      <td>3050224</td>\n",
              "      <td>36.363636</td>\n",
              "    </tr>\n",
              "  </tbody>\n",
              "</table>\n",
              "</div>\n",
              "    <div class=\"colab-df-buttons\">\n",
              "\n",
              "  <div class=\"colab-df-container\">\n",
              "    <button class=\"colab-df-convert\" onclick=\"convertToInteractive('df-c7d882e8-078c-4c10-83c6-b2a8e3ef70c7')\"\n",
              "            title=\"Convert this dataframe to an interactive table.\"\n",
              "            style=\"display:none;\">\n",
              "\n",
              "  <svg xmlns=\"http://www.w3.org/2000/svg\" height=\"24px\" viewBox=\"0 -960 960 960\">\n",
              "    <path d=\"M120-120v-720h720v720H120Zm60-500h600v-160H180v160Zm220 220h160v-160H400v160Zm0 220h160v-160H400v160ZM180-400h160v-160H180v160Zm440 0h160v-160H620v160ZM180-180h160v-160H180v160Zm440 0h160v-160H620v160Z\"/>\n",
              "  </svg>\n",
              "    </button>\n",
              "\n",
              "  <style>\n",
              "    .colab-df-container {\n",
              "      display:flex;\n",
              "      gap: 12px;\n",
              "    }\n",
              "\n",
              "    .colab-df-convert {\n",
              "      background-color: #E8F0FE;\n",
              "      border: none;\n",
              "      border-radius: 50%;\n",
              "      cursor: pointer;\n",
              "      display: none;\n",
              "      fill: #1967D2;\n",
              "      height: 32px;\n",
              "      padding: 0 0 0 0;\n",
              "      width: 32px;\n",
              "    }\n",
              "\n",
              "    .colab-df-convert:hover {\n",
              "      background-color: #E2EBFA;\n",
              "      box-shadow: 0px 1px 2px rgba(60, 64, 67, 0.3), 0px 1px 3px 1px rgba(60, 64, 67, 0.15);\n",
              "      fill: #174EA6;\n",
              "    }\n",
              "\n",
              "    .colab-df-buttons div {\n",
              "      margin-bottom: 4px;\n",
              "    }\n",
              "\n",
              "    [theme=dark] .colab-df-convert {\n",
              "      background-color: #3B4455;\n",
              "      fill: #D2E3FC;\n",
              "    }\n",
              "\n",
              "    [theme=dark] .colab-df-convert:hover {\n",
              "      background-color: #434B5C;\n",
              "      box-shadow: 0px 1px 3px 1px rgba(0, 0, 0, 0.15);\n",
              "      filter: drop-shadow(0px 1px 2px rgba(0, 0, 0, 0.3));\n",
              "      fill: #FFFFFF;\n",
              "    }\n",
              "  </style>\n",
              "\n",
              "    <script>\n",
              "      const buttonEl =\n",
              "        document.querySelector('#df-c7d882e8-078c-4c10-83c6-b2a8e3ef70c7 button.colab-df-convert');\n",
              "      buttonEl.style.display =\n",
              "        google.colab.kernel.accessAllowed ? 'block' : 'none';\n",
              "\n",
              "      async function convertToInteractive(key) {\n",
              "        const element = document.querySelector('#df-c7d882e8-078c-4c10-83c6-b2a8e3ef70c7');\n",
              "        const dataTable =\n",
              "          await google.colab.kernel.invokeFunction('convertToInteractive',\n",
              "                                                    [key], {});\n",
              "        if (!dataTable) return;\n",
              "\n",
              "        const docLinkHtml = 'Like what you see? Visit the ' +\n",
              "          '<a target=\"_blank\" href=https://colab.research.google.com/notebooks/data_table.ipynb>data table notebook</a>'\n",
              "          + ' to learn more about interactive tables.';\n",
              "        element.innerHTML = '';\n",
              "        dataTable['output_type'] = 'display_data';\n",
              "        await google.colab.output.renderOutput(dataTable, element);\n",
              "        const docLink = document.createElement('div');\n",
              "        docLink.innerHTML = docLinkHtml;\n",
              "        element.appendChild(docLink);\n",
              "      }\n",
              "    </script>\n",
              "  </div>\n",
              "\n",
              "\n",
              "<div id=\"df-2ba507ac-8916-4905-8ea3-7506841558e0\">\n",
              "  <button class=\"colab-df-quickchart\" onclick=\"quickchart('df-2ba507ac-8916-4905-8ea3-7506841558e0')\"\n",
              "            title=\"Suggest charts\"\n",
              "            style=\"display:none;\">\n",
              "\n",
              "<svg xmlns=\"http://www.w3.org/2000/svg\" height=\"24px\"viewBox=\"0 0 24 24\"\n",
              "     width=\"24px\">\n",
              "    <g>\n",
              "        <path d=\"M19 3H5c-1.1 0-2 .9-2 2v14c0 1.1.9 2 2 2h14c1.1 0 2-.9 2-2V5c0-1.1-.9-2-2-2zM9 17H7v-7h2v7zm4 0h-2V7h2v10zm4 0h-2v-4h2v4z\"/>\n",
              "    </g>\n",
              "</svg>\n",
              "  </button>\n",
              "\n",
              "<style>\n",
              "  .colab-df-quickchart {\n",
              "      --bg-color: #E8F0FE;\n",
              "      --fill-color: #1967D2;\n",
              "      --hover-bg-color: #E2EBFA;\n",
              "      --hover-fill-color: #174EA6;\n",
              "      --disabled-fill-color: #AAA;\n",
              "      --disabled-bg-color: #DDD;\n",
              "  }\n",
              "\n",
              "  [theme=dark] .colab-df-quickchart {\n",
              "      --bg-color: #3B4455;\n",
              "      --fill-color: #D2E3FC;\n",
              "      --hover-bg-color: #434B5C;\n",
              "      --hover-fill-color: #FFFFFF;\n",
              "      --disabled-bg-color: #3B4455;\n",
              "      --disabled-fill-color: #666;\n",
              "  }\n",
              "\n",
              "  .colab-df-quickchart {\n",
              "    background-color: var(--bg-color);\n",
              "    border: none;\n",
              "    border-radius: 50%;\n",
              "    cursor: pointer;\n",
              "    display: none;\n",
              "    fill: var(--fill-color);\n",
              "    height: 32px;\n",
              "    padding: 0;\n",
              "    width: 32px;\n",
              "  }\n",
              "\n",
              "  .colab-df-quickchart:hover {\n",
              "    background-color: var(--hover-bg-color);\n",
              "    box-shadow: 0 1px 2px rgba(60, 64, 67, 0.3), 0 1px 3px 1px rgba(60, 64, 67, 0.15);\n",
              "    fill: var(--button-hover-fill-color);\n",
              "  }\n",
              "\n",
              "  .colab-df-quickchart-complete:disabled,\n",
              "  .colab-df-quickchart-complete:disabled:hover {\n",
              "    background-color: var(--disabled-bg-color);\n",
              "    fill: var(--disabled-fill-color);\n",
              "    box-shadow: none;\n",
              "  }\n",
              "\n",
              "  .colab-df-spinner {\n",
              "    border: 2px solid var(--fill-color);\n",
              "    border-color: transparent;\n",
              "    border-bottom-color: var(--fill-color);\n",
              "    animation:\n",
              "      spin 1s steps(1) infinite;\n",
              "  }\n",
              "\n",
              "  @keyframes spin {\n",
              "    0% {\n",
              "      border-color: transparent;\n",
              "      border-bottom-color: var(--fill-color);\n",
              "      border-left-color: var(--fill-color);\n",
              "    }\n",
              "    20% {\n",
              "      border-color: transparent;\n",
              "      border-left-color: var(--fill-color);\n",
              "      border-top-color: var(--fill-color);\n",
              "    }\n",
              "    30% {\n",
              "      border-color: transparent;\n",
              "      border-left-color: var(--fill-color);\n",
              "      border-top-color: var(--fill-color);\n",
              "      border-right-color: var(--fill-color);\n",
              "    }\n",
              "    40% {\n",
              "      border-color: transparent;\n",
              "      border-right-color: var(--fill-color);\n",
              "      border-top-color: var(--fill-color);\n",
              "    }\n",
              "    60% {\n",
              "      border-color: transparent;\n",
              "      border-right-color: var(--fill-color);\n",
              "    }\n",
              "    80% {\n",
              "      border-color: transparent;\n",
              "      border-right-color: var(--fill-color);\n",
              "      border-bottom-color: var(--fill-color);\n",
              "    }\n",
              "    90% {\n",
              "      border-color: transparent;\n",
              "      border-bottom-color: var(--fill-color);\n",
              "    }\n",
              "  }\n",
              "</style>\n",
              "\n",
              "  <script>\n",
              "    async function quickchart(key) {\n",
              "      const quickchartButtonEl =\n",
              "        document.querySelector('#' + key + ' button');\n",
              "      quickchartButtonEl.disabled = true;  // To prevent multiple clicks.\n",
              "      quickchartButtonEl.classList.add('colab-df-spinner');\n",
              "      try {\n",
              "        const charts = await google.colab.kernel.invokeFunction(\n",
              "            'suggestCharts', [key], {});\n",
              "      } catch (error) {\n",
              "        console.error('Error during call to suggestCharts:', error);\n",
              "      }\n",
              "      quickchartButtonEl.classList.remove('colab-df-spinner');\n",
              "      quickchartButtonEl.classList.add('colab-df-quickchart-complete');\n",
              "    }\n",
              "    (() => {\n",
              "      let quickchartButtonEl =\n",
              "        document.querySelector('#df-2ba507ac-8916-4905-8ea3-7506841558e0 button');\n",
              "      quickchartButtonEl.style.display =\n",
              "        google.colab.kernel.accessAllowed ? 'block' : 'none';\n",
              "    })();\n",
              "  </script>\n",
              "</div>\n",
              "    </div>\n",
              "  </div>\n"
            ],
            "text/plain": [
              "       0        1        2          3\n",
              "0  chr11  3050030  3050031  33.333333\n",
              "1  chr11  3050031  3050032  50.000000\n",
              "2  chr11  3050047  3050048  50.000000\n",
              "3  chr11  3050048  3050049  57.142857\n",
              "4  chr11  3050223  3050224  36.363636"
            ]
          },
          "execution_count": 101,
          "metadata": {},
          "output_type": "execute_result"
        }
      ],
      "source": [
        "df = pd.read_csv(\"icm_cell.deduplicated.bedGraph\", delimiter='\\t', skiprows=1, header=None)\n",
        "df.head()"
      ]
    },
    {
      "cell_type": "code",
      "execution_count": null,
      "metadata": {
        "colab": {
          "base_uri": "https://localhost:8080/",
          "height": 547
        },
        "id": "DN7B_W728QYd",
        "outputId": "f6665567-235c-42ae-8bd7-dbdbc894fc42"
      },
      "outputs": [
        {
          "data": {
            "image/png": "[encoded data removed]",
            "text/plain": [
              "<Figure size 1200x600 with 1 Axes>"
            ]
          },
          "metadata": {},
          "output_type": "display_data"
        }
      ],
      "source": [
        "sns.set_style(\"darkgrid\")\n",
        "plt.figure(figsize=[12, 6])\n",
        "plt.title(\"Распределение метилирования ICM\", fontsize=15)\n",
        "plt.hist(df[3], bins=100, density=True)\n",
        "plt.show()"
      ]
    },
    {
      "cell_type": "code",
      "execution_count": null,
      "metadata": {
        "colab": {
          "base_uri": "https://localhost:8080/",
          "height": 206
        },
        "id": "0TLtuw707sNK",
        "outputId": "68ccbce1-b94e-49ea-88a9-3142a14f931e"
      },
      "outputs": [
        {
          "data": {
            "text/html": [
              "\n",
              "  <div id=\"df-f08b5e8d-d11a-4cff-b994-a020b57d56b1\" class=\"colab-df-container\">\n",
              "    <div>\n",
              "<style scoped>\n",
              "    .dataframe tbody tr th:only-of-type {\n",
              "        vertical-align: middle;\n",
              "    }\n",
              "\n",
              "    .dataframe tbody tr th {\n",
              "        vertical-align: top;\n",
              "    }\n",
              "\n",
              "    .dataframe thead th {\n",
              "        text-align: right;\n",
              "    }\n",
              "</style>\n",
              "<table border=\"1\" class=\"dataframe\">\n",
              "  <thead>\n",
              "    <tr style=\"text-align: right;\">\n",
              "      <th></th>\n",
              "      <th>0</th>\n",
              "      <th>1</th>\n",
              "      <th>2</th>\n",
              "      <th>3</th>\n",
              "    </tr>\n",
              "  </thead>\n",
              "  <tbody>\n",
              "    <tr>\n",
              "      <th>0</th>\n",
              "      <td>chr11</td>\n",
              "      <td>3050030</td>\n",
              "      <td>3050031</td>\n",
              "      <td>75.000</td>\n",
              "    </tr>\n",
              "    <tr>\n",
              "      <th>1</th>\n",
              "      <td>chr11</td>\n",
              "      <td>3050031</td>\n",
              "      <td>3050032</td>\n",
              "      <td>100.000</td>\n",
              "    </tr>\n",
              "    <tr>\n",
              "      <th>2</th>\n",
              "      <td>chr11</td>\n",
              "      <td>3050047</td>\n",
              "      <td>3050048</td>\n",
              "      <td>100.000</td>\n",
              "    </tr>\n",
              "    <tr>\n",
              "      <th>3</th>\n",
              "      <td>chr11</td>\n",
              "      <td>3050048</td>\n",
              "      <td>3050049</td>\n",
              "      <td>100.000</td>\n",
              "    </tr>\n",
              "    <tr>\n",
              "      <th>4</th>\n",
              "      <td>chr11</td>\n",
              "      <td>3050223</td>\n",
              "      <td>3050224</td>\n",
              "      <td>96.875</td>\n",
              "    </tr>\n",
              "  </tbody>\n",
              "</table>\n",
              "</div>\n",
              "    <div class=\"colab-df-buttons\">\n",
              "\n",
              "  <div class=\"colab-df-container\">\n",
              "    <button class=\"colab-df-convert\" onclick=\"convertToInteractive('df-f08b5e8d-d11a-4cff-b994-a020b57d56b1')\"\n",
              "            title=\"Convert this dataframe to an interactive table.\"\n",
              "            style=\"display:none;\">\n",
              "\n",
              "  <svg xmlns=\"http://www.w3.org/2000/svg\" height=\"24px\" viewBox=\"0 -960 960 960\">\n",
              "    <path d=\"M120-120v-720h720v720H120Zm60-500h600v-160H180v160Zm220 220h160v-160H400v160Zm0 220h160v-160H400v160ZM180-400h160v-160H180v160Zm440 0h160v-160H620v160ZM180-180h160v-160H180v160Zm440 0h160v-160H620v160Z\"/>\n",
              "  </svg>\n",
              "    </button>\n",
              "\n",
              "  <style>\n",
              "    .colab-df-container {\n",
              "      display:flex;\n",
              "      gap: 12px;\n",
              "    }\n",
              "\n",
              "    .colab-df-convert {\n",
              "      background-color: #E8F0FE;\n",
              "      border: none;\n",
              "      border-radius: 50%;\n",
              "      cursor: pointer;\n",
              "      display: none;\n",
              "      fill: #1967D2;\n",
              "      height: 32px;\n",
              "      padding: 0 0 0 0;\n",
              "      width: 32px;\n",
              "    }\n",
              "\n",
              "    .colab-df-convert:hover {\n",
              "      background-color: #E2EBFA;\n",
              "      box-shadow: 0px 1px 2px rgba(60, 64, 67, 0.3), 0px 1px 3px 1px rgba(60, 64, 67, 0.15);\n",
              "      fill: #174EA6;\n",
              "    }\n",
              "\n",
              "    .colab-df-buttons div {\n",
              "      margin-bottom: 4px;\n",
              "    }\n",
              "\n",
              "    [theme=dark] .colab-df-convert {\n",
              "      background-color: #3B4455;\n",
              "      fill: #D2E3FC;\n",
              "    }\n",
              "\n",
              "    [theme=dark] .colab-df-convert:hover {\n",
              "      background-color: #434B5C;\n",
              "      box-shadow: 0px 1px 3px 1px rgba(0, 0, 0, 0.15);\n",
              "      filter: drop-shadow(0px 1px 2px rgba(0, 0, 0, 0.3));\n",
              "      fill: #FFFFFF;\n",
              "    }\n",
              "  </style>\n",
              "\n",
              "    <script>\n",
              "      const buttonEl =\n",
              "        document.querySelector('#df-f08b5e8d-d11a-4cff-b994-a020b57d56b1 button.colab-df-convert');\n",
              "      buttonEl.style.display =\n",
              "        google.colab.kernel.accessAllowed ? 'block' : 'none';\n",
              "\n",
              "      async function convertToInteractive(key) {\n",
              "        const element = document.querySelector('#df-f08b5e8d-d11a-4cff-b994-a020b57d56b1');\n",
              "        const dataTable =\n",
              "          await google.colab.kernel.invokeFunction('convertToInteractive',\n",
              "                                                    [key], {});\n",
              "        if (!dataTable) return;\n",
              "\n",
              "        const docLinkHtml = 'Like what you see? Visit the ' +\n",
              "          '<a target=\"_blank\" href=https://colab.research.google.com/notebooks/data_table.ipynb>data table notebook</a>'\n",
              "          + ' to learn more about interactive tables.';\n",
              "        element.innerHTML = '';\n",
              "        dataTable['output_type'] = 'display_data';\n",
              "        await google.colab.output.renderOutput(dataTable, element);\n",
              "        const docLink = document.createElement('div');\n",
              "        docLink.innerHTML = docLinkHtml;\n",
              "        element.appendChild(docLink);\n",
              "      }\n",
              "    </script>\n",
              "  </div>\n",
              "\n",
              "\n",
              "<div id=\"df-0078fda1-f15f-468a-99c7-83d5d03ab093\">\n",
              "  <button class=\"colab-df-quickchart\" onclick=\"quickchart('df-0078fda1-f15f-468a-99c7-83d5d03ab093')\"\n",
              "            title=\"Suggest charts\"\n",
              "            style=\"display:none;\">\n",
              "\n",
              "<svg xmlns=\"http://www.w3.org/2000/svg\" height=\"24px\"viewBox=\"0 0 24 24\"\n",
              "     width=\"24px\">\n",
              "    <g>\n",
              "        <path d=\"M19 3H5c-1.1 0-2 .9-2 2v14c0 1.1.9 2 2 2h14c1.1 0 2-.9 2-2V5c0-1.1-.9-2-2-2zM9 17H7v-7h2v7zm4 0h-2V7h2v10zm4 0h-2v-4h2v4z\"/>\n",
              "    </g>\n",
              "</svg>\n",
              "  </button>\n",
              "\n",
              "<style>\n",
              "  .colab-df-quickchart {\n",
              "      --bg-color: #E8F0FE;\n",
              "      --fill-color: #1967D2;\n",
              "      --hover-bg-color: #E2EBFA;\n",
              "      --hover-fill-color: #174EA6;\n",
              "      --disabled-fill-color: #AAA;\n",
              "      --disabled-bg-color: #DDD;\n",
              "  }\n",
              "\n",
              "  [theme=dark] .colab-df-quickchart {\n",
              "      --bg-color: #3B4455;\n",
              "      --fill-color: #D2E3FC;\n",
              "      --hover-bg-color: #434B5C;\n",
              "      --hover-fill-color: #FFFFFF;\n",
              "      --disabled-bg-color: #3B4455;\n",
              "      --disabled-fill-color: #666;\n",
              "  }\n",
              "\n",
              "  .colab-df-quickchart {\n",
              "    background-color: var(--bg-color);\n",
              "    border: none;\n",
              "    border-radius: 50%;\n",
              "    cursor: pointer;\n",
              "    display: none;\n",
              "    fill: var(--fill-color);\n",
              "    height: 32px;\n",
              "    padding: 0;\n",
              "    width: 32px;\n",
              "  }\n",
              "\n",
              "  .colab-df-quickchart:hover {\n",
              "    background-color: var(--hover-bg-color);\n",
              "    box-shadow: 0 1px 2px rgba(60, 64, 67, 0.3), 0 1px 3px 1px rgba(60, 64, 67, 0.15);\n",
              "    fill: var(--button-hover-fill-color);\n",
              "  }\n",
              "\n",
              "  .colab-df-quickchart-complete:disabled,\n",
              "  .colab-df-quickchart-complete:disabled:hover {\n",
              "    background-color: var(--disabled-bg-color);\n",
              "    fill: var(--disabled-fill-color);\n",
              "    box-shadow: none;\n",
              "  }\n",
              "\n",
              "  .colab-df-spinner {\n",
              "    border: 2px solid var(--fill-color);\n",
              "    border-color: transparent;\n",
              "    border-bottom-color: var(--fill-color);\n",
              "    animation:\n",
              "      spin 1s steps(1) infinite;\n",
              "  }\n",
              "\n",
              "  @keyframes spin {\n",
              "    0% {\n",
              "      border-color: transparent;\n",
              "      border-bottom-color: var(--fill-color);\n",
              "      border-left-color: var(--fill-color);\n",
              "    }\n",
              "    20% {\n",
              "      border-color: transparent;\n",
              "      border-left-color: var(--fill-color);\n",
              "      border-top-color: var(--fill-color);\n",
              "    }\n",
              "    30% {\n",
              "      border-color: transparent;\n",
              "      border-left-color: var(--fill-color);\n",
              "      border-top-color: var(--fill-color);\n",
              "      border-right-color: var(--fill-color);\n",
              "    }\n",
              "    40% {\n",
              "      border-color: transparent;\n",
              "      border-right-color: var(--fill-color);\n",
              "      border-top-color: var(--fill-color);\n",
              "    }\n",
              "    60% {\n",
              "      border-color: transparent;\n",
              "      border-right-color: var(--fill-color);\n",
              "    }\n",
              "    80% {\n",
              "      border-color: transparent;\n",
              "      border-right-color: var(--fill-color);\n",
              "      border-bottom-color: var(--fill-color);\n",
              "    }\n",
              "    90% {\n",
              "      border-color: transparent;\n",
              "      border-bottom-color: var(--fill-color);\n",
              "    }\n",
              "  }\n",
              "</style>\n",
              "\n",
              "  <script>\n",
              "    async function quickchart(key) {\n",
              "      const quickchartButtonEl =\n",
              "        document.querySelector('#' + key + ' button');\n",
              "      quickchartButtonEl.disabled = true;  // To prevent multiple clicks.\n",
              "      quickchartButtonEl.classList.add('colab-df-spinner');\n",
              "      try {\n",
              "        const charts = await google.colab.kernel.invokeFunction(\n",
              "            'suggestCharts', [key], {});\n",
              "      } catch (error) {\n",
              "        console.error('Error during call to suggestCharts:', error);\n",
              "      }\n",
              "      quickchartButtonEl.classList.remove('colab-df-spinner');\n",
              "      quickchartButtonEl.classList.add('colab-df-quickchart-complete');\n",
              "    }\n",
              "    (() => {\n",
              "      let quickchartButtonEl =\n",
              "        document.querySelector('#df-0078fda1-f15f-468a-99c7-83d5d03ab093 button');\n",
              "      quickchartButtonEl.style.display =\n",
              "        google.colab.kernel.accessAllowed ? 'block' : 'none';\n",
              "    })();\n",
              "  </script>\n",
              "</div>\n",
              "    </div>\n",
              "  </div>\n"
            ],
            "text/plain": [
              "       0        1        2        3\n",
              "0  chr11  3050030  3050031   75.000\n",
              "1  chr11  3050031  3050032  100.000\n",
              "2  chr11  3050047  3050048  100.000\n",
              "3  chr11  3050048  3050049  100.000\n",
              "4  chr11  3050223  3050224   96.875"
            ]
          },
          "execution_count": 103,
          "metadata": {},
          "output_type": "execute_result"
        }
      ],
      "source": [
        "df = pd.read_csv(\"epiblast_cell.deduplicated.bedGraph\", delimiter='\\t', skiprows=1, header=None)\n",
        "df.head()"
      ]
    },
    {
      "cell_type": "code",
      "execution_count": null,
      "metadata": {
        "colab": {
          "base_uri": "https://localhost:8080/",
          "height": 547
        },
        "id": "MhRqf-KG8cai",
        "outputId": "4104e5c2-d031-42b4-8997-3372e70bb838"
      },
      "outputs": [
        {
          "data": {
            "image/png": "[encoded data removed]",
            "text/plain": [
              "<Figure size 1200x600 with 1 Axes>"
            ]
          },
          "metadata": {},
          "output_type": "display_data"
        }
      ],
      "source": [
        "sns.set_style(\"darkgrid\")\n",
        "plt.figure(figsize=[12, 6])\n",
        "plt.title(\"Распределение метилирования Epiblast\", fontsize=15)\n",
        "plt.hist(df[3], bins=100, density=True)\n",
        "plt.show()"
      ]
    },
    {
      "cell_type": "code",
      "execution_count": null,
      "metadata": {
        "colab": {
          "base_uri": "https://localhost:8080/"
        },
        "id": "fcS724jEncto",
        "outputId": "0857638e-0683-49c1-ca57-84f84df84a97"
      },
      "outputs": [
        {
          "name": "stdout",
          "output_type": "stream",
          "text": [
            "chr11\t3050031\t3050031\t50\t1\t1\n",
            "chr11\t3050048\t3050048\t66.6666666666667\t2\t1\n",
            "chr11\t3050049\t3050049\t50\t1\t1\n",
            "chr11\t3050224\t3050224\t87.5\t7\t1\n",
            "chr11\t3050225\t3050225\t53.3333333333333\t8\t7\n",
            "chr11\t3050286\t3050286\t66.6666666666667\t6\t3\n",
            "chr11\t3050287\t3050287\t33.3333333333333\t5\t10\n",
            "chr11\t3050310\t3050310\t62.5\t5\t3\n",
            "chr11\t3050311\t3050311\t50\t7\t7\n",
            "chr11\t3050349\t3050349\t55.5555555555556\t5\t4\n"
          ]
        }
      ],
      "source": [
        "! gzip -d s_8_cell.deduplicated.bismark.cov.gz\n",
        "! head s_8_cell.deduplicated.bismark.cov"
      ]
    },
    {
      "cell_type": "code",
      "execution_count": null,
      "metadata": {
        "colab": {
          "base_uri": "https://localhost:8080/"
        },
        "id": "PQw5vBYe9LGM",
        "outputId": "0cc58d81-0610-4a96-cd94-968db9ecc77e"
      },
      "outputs": [
        {
          "name": "stdout",
          "output_type": "stream",
          "text": [
            "chr11\t3050031\t3050031\t33.3333333333333\t1\t2\n",
            "chr11\t3050032\t3050032\t50\t3\t3\n",
            "chr11\t3050048\t3050048\t50\t2\t2\n",
            "chr11\t3050049\t3050049\t57.1428571428571\t4\t3\n",
            "chr11\t3050224\t3050224\t36.3636363636364\t4\t7\n",
            "chr11\t3050225\t3050225\t22.7272727272727\t5\t17\n",
            "chr11\t3050286\t3050286\t25\t2\t6\n",
            "chr11\t3050287\t3050287\t28.5714285714286\t6\t15\n",
            "chr11\t3050310\t3050310\t22.2222222222222\t2\t7\n",
            "chr11\t3050311\t3050311\t41.1764705882353\t7\t10\n"
          ]
        }
      ],
      "source": [
        "! gzip -d icm_cell.deduplicated.bismark.cov.gz\n",
        "! head icm_cell.deduplicated.bismark.cov"
      ]
    },
    {
      "cell_type": "code",
      "execution_count": null,
      "metadata": {
        "colab": {
          "base_uri": "https://localhost:8080/"
        },
        "id": "9xEqSQAq9Ukf",
        "outputId": "a788345c-faeb-4fb5-9516-35a2234247ee"
      },
      "outputs": [
        {
          "name": "stdout",
          "output_type": "stream",
          "text": [
            "chr11\t3050031\t3050031\t75\t3\t1\n",
            "chr11\t3050032\t3050032\t100\t4\t0\n",
            "chr11\t3050048\t3050048\t100\t5\t0\n",
            "chr11\t3050049\t3050049\t100\t9\t0\n",
            "chr11\t3050224\t3050224\t96.875\t31\t1\n",
            "chr11\t3050225\t3050225\t93.75\t30\t2\n",
            "chr11\t3050286\t3050286\t93.3333333333333\t28\t2\n",
            "chr11\t3050287\t3050287\t90\t36\t4\n",
            "chr11\t3050310\t3050310\t96.7741935483871\t30\t1\n",
            "chr11\t3050311\t3050311\t97.5609756097561\t40\t1\n"
          ]
        }
      ],
      "source": [
        "! gzip -d epiblast_cell.deduplicated.bismark.cov.gz\n",
        "! head epiblast_cell.deduplicated.bismark.cov"
      ]
    },
    {
      "cell_type": "code",
      "execution_count": null,
      "metadata": {
        "colab": {
          "base_uri": "https://localhost:8080/",
          "height": 1000
        },
        "id": "b6k9REsM6NXn",
        "outputId": "badb96a6-9957-4cdc-90de-70e99026f50c"
      },
      "outputs": [
        {
          "name": "stdout",
          "output_type": "stream",
          "text": [
            "Collecting pyGenomeTracks\n",
            "  Downloading pyGenomeTracks-3.8-py2.py3-none-any.whl (113 kB)\n",
            "\u001b[2K     \u001b[90m━━━━━━━━━━━━━━━━━━━━━━━━━━━━━━━━━━━━━━━━\u001b[0m \u001b[32m113.6/113.6 kB\u001b[0m \u001b[31m3.3 MB/s\u001b[0m eta \u001b[36m0:00:00\u001b[0m\n",
            "\u001b[?25hCollecting numpy>=1.20 (from pyGenomeTracks)\n",
            "  Downloading numpy-1.26.4-cp310-cp310-manylinux_2_17_x86_64.manylinux2014_x86_64.whl.metadata (61 kB)\n",
            "\u001b[2K     \u001b[90m━━━━━━━━━━━━━━━━━━━━━━━━━━━━━━━━━━━━━━━━\u001b[0m \u001b[32m61.0/61.0 kB\u001b[0m \u001b[31m5.6 MB/s\u001b[0m eta \u001b[36m0:00:00\u001b[0m\n",
            "\u001b[?25hCollecting matplotlib<=3.6.2,>=3.1.1 (from pyGenomeTracks)\n",
            "  Downloading matplotlib-3.6.2-cp310-cp310-manylinux_2_17_x86_64.manylinux2014_x86_64.whl (11.8 MB)\n",
            "\u001b[2K     \u001b[90m━━━━━━━━━━━━━━━━━━━━━━━━━━━━━━━━━━━━━━━━\u001b[0m \u001b[32m11.8/11.8 MB\u001b[0m \u001b[31m47.0 MB/s\u001b[0m eta \u001b[36m0:00:00\u001b[0m\n",
            "\u001b[?25hCollecting intervaltree>=2.1.0 (from pyGenomeTracks)\n",
            "  Downloading intervaltree-3.1.0.tar.gz (32 kB)\n",
            "  Preparing metadata (setup.py) ... \u001b[?25l\u001b[?25hdone\n",
            "Collecting pyBigWig>=0.3.16 (from pyGenomeTracks)\n",
            "  Downloading pyBigWig-0.3.22-cp310-cp310-manylinux_2_17_x86_64.manylinux2014_x86_64.whl (209 kB)\n",
            "\u001b[2K     \u001b[90m━━━━━━━━━━━━━━━━━━━━━━━━━━━━━━━━━━━━━━━━\u001b[0m \u001b[32m209.7/209.7 kB\u001b[0m \u001b[31m16.0 MB/s\u001b[0m eta \u001b[36m0:00:00\u001b[0m\n",
            "\u001b[?25hCollecting future>=0.17.0 (from pyGenomeTracks)\n",
            "  Downloading future-0.18.3.tar.gz (840 kB)\n",
            "\u001b[2K     \u001b[90m━━━━━━━━━━━━━━━━━━━━━━━━━━━━━━━━━━━━━━━━\u001b[0m \u001b[32m840.9/840.9 kB\u001b[0m \u001b[31m33.8 MB/s\u001b[0m eta \u001b[36m0:00:00\u001b[0m\n",
            "\u001b[?25h  Preparing metadata (setup.py) ... \u001b[?25l\u001b[?25hdone\n",
            "Collecting hicmatrix>=15 (from pyGenomeTracks)\n",
            "  Downloading HiCMatrix-17.1-py3-none-any.whl.metadata (2.0 kB)\n",
            "Collecting pysam>=0.14 (from pyGenomeTracks)\n",
            "  Downloading pysam-0.22.0-cp310-cp310-manylinux_2_28_x86_64.whl.metadata (1.5 kB)\n",
            "Collecting pytest (from pyGenomeTracks)\n",
            "  Downloading pytest-8.0.0-py3-none-any.whl.metadata (7.8 kB)\n",
            "Collecting gffutils>=0.9 (from pyGenomeTracks)\n",
            "  Downloading gffutils-0.12-py3-none-any.whl.metadata (1.5 kB)\n",
            "Collecting pybedtools>=0.8.1 (from pyGenomeTracks)\n",
            "  Downloading pybedtools-0.9.1.tar.gz (12.5 MB)\n",
            "\u001b[2K     \u001b[90m━━━━━━━━━━━━━━━━━━━━━━━━━━━━━━━━━━━━━━━━\u001b[0m \u001b[32m12.5/12.5 MB\u001b[0m \u001b[31m38.7 MB/s\u001b[0m eta \u001b[36m0:00:00\u001b[0m\n",
            "\u001b[?25h  Preparing metadata (setup.py) ... \u001b[?25l\u001b[?25hdone\n",
            "Requirement already satisfied: tqdm>=4.20 in /usr/local/lib/python3.10/site-packages (from pyGenomeTracks) (4.66.1)\n",
            "Collecting bx-python>=0.8.13 (from pyGenomeTracks)\n",
            "  Downloading bx_python-0.11.0-cp310-cp310-manylinux_2_17_x86_64.manylinux2014_x86_64.whl.metadata (3.0 kB)\n",
            "Collecting pyfaidx>=0.1.3 (from pyGenomeTracks)\n",
            "  Downloading pyfaidx-0.8.1.1-py3-none-any.whl.metadata (25 kB)\n",
            "Collecting six>=1.12.0 (from gffutils>=0.9->pyGenomeTracks)\n",
            "  Downloading six-1.16.0-py2.py3-none-any.whl (11 kB)\n",
            "Collecting argh>=0.26.2 (from gffutils>=0.9->pyGenomeTracks)\n",
            "  Downloading argh-0.31.2-py3-none-any.whl.metadata (7.3 kB)\n",
            "Collecting argcomplete>=1.9.4 (from gffutils>=0.9->pyGenomeTracks)\n",
            "  Downloading argcomplete-3.2.2-py3-none-any.whl.metadata (16 kB)\n",
            "Collecting simplejson (from gffutils>=0.9->pyGenomeTracks)\n",
            "  Downloading simplejson-3.19.2-cp310-cp310-manylinux_2_5_x86_64.manylinux1_x86_64.manylinux_2_17_x86_64.manylinux2014_x86_64.whl.metadata (3.1 kB)\n",
            "Collecting scipy>=1.2 (from hicmatrix>=15->pyGenomeTracks)\n",
            "  Downloading scipy-1.12.0-cp310-cp310-manylinux_2_17_x86_64.manylinux2014_x86_64.whl.metadata (60 kB)\n",
            "\u001b[2K     \u001b[90m━━━━━━━━━━━━━━━━━━━━━━━━━━━━━━━━━━━━━━━━\u001b[0m \u001b[32m60.4/60.4 kB\u001b[0m \u001b[31m2.6 MB/s\u001b[0m eta \u001b[36m0:00:00\u001b[0m\n",
            "\u001b[?25hCollecting tables>=3.5 (from hicmatrix>=15->pyGenomeTracks)\n",
            "  Downloading tables-3.9.2-cp310-cp310-manylinux_2_17_x86_64.manylinux2014_x86_64.whl.metadata (2.3 kB)\n",
            "Collecting pandas>=0.25 (from hicmatrix>=15->pyGenomeTracks)\n",
            "  Downloading pandas-2.2.0-cp310-cp310-manylinux_2_17_x86_64.manylinux2014_x86_64.whl.metadata (19 kB)\n",
            "Collecting cooler>=0.8.9 (from hicmatrix>=15->pyGenomeTracks)\n",
            "  Downloading cooler-0.9.3-py3-none-any.whl.metadata (8.2 kB)\n",
            "Collecting sortedcontainers<3.0,>=2.0 (from intervaltree>=2.1.0->pyGenomeTracks)\n",
            "  Downloading sortedcontainers-2.4.0-py2.py3-none-any.whl (29 kB)\n",
            "Collecting contourpy>=1.0.1 (from matplotlib<=3.6.2,>=3.1.1->pyGenomeTracks)\n",
            "  Downloading contourpy-1.2.0-cp310-cp310-manylinux_2_17_x86_64.manylinux2014_x86_64.whl.metadata (5.8 kB)\n",
            "Collecting cycler>=0.10 (from matplotlib<=3.6.2,>=3.1.1->pyGenomeTracks)\n",
            "  Downloading cycler-0.12.1-py3-none-any.whl.metadata (3.8 kB)\n",
            "Collecting fonttools>=4.22.0 (from matplotlib<=3.6.2,>=3.1.1->pyGenomeTracks)\n",
            "  Downloading fonttools-4.48.1-cp310-cp310-manylinux_2_17_x86_64.manylinux2014_x86_64.whl.metadata (158 kB)\n",
            "\u001b[2K     \u001b[90m━━━━━━━━━━━━━━━━━━━━━━━━━━━━━━━━━━━━━━━━\u001b[0m \u001b[32m158.9/158.9 kB\u001b[0m \u001b[31m14.2 MB/s\u001b[0m eta \u001b[36m0:00:00\u001b[0m\n",
            "\u001b[?25hCollecting kiwisolver>=1.0.1 (from matplotlib<=3.6.2,>=3.1.1->pyGenomeTracks)\n",
            "  Downloading kiwisolver-1.4.5-cp310-cp310-manylinux_2_12_x86_64.manylinux2010_x86_64.whl.metadata (6.4 kB)\n",
            "Requirement already satisfied: packaging>=20.0 in /usr/local/lib/python3.10/site-packages (from matplotlib<=3.6.2,>=3.1.1->pyGenomeTracks) (23.2)\n",
            "Collecting pillow>=6.2.0 (from matplotlib<=3.6.2,>=3.1.1->pyGenomeTracks)\n",
            "  Downloading pillow-10.2.0-cp310-cp310-manylinux_2_28_x86_64.whl.metadata (9.7 kB)\n",
            "Collecting pyparsing>=2.2.1 (from matplotlib<=3.6.2,>=3.1.1->pyGenomeTracks)\n",
            "  Downloading pyparsing-3.1.1-py3-none-any.whl.metadata (5.1 kB)\n",
            "Collecting python-dateutil>=2.7 (from matplotlib<=3.6.2,>=3.1.1->pyGenomeTracks)\n",
            "  Downloading python_dateutil-2.8.2-py2.py3-none-any.whl (247 kB)\n",
            "\u001b[2K     \u001b[90m━━━━━━━━━━━━━━━━━━━━━━━━━━━━━━━━━━━━━━━━\u001b[0m \u001b[32m247.7/247.7 kB\u001b[0m \u001b[31m21.9 MB/s\u001b[0m eta \u001b[36m0:00:00\u001b[0m\n",
            "\u001b[?25hRequirement already satisfied: setuptools in /usr/local/lib/python3.10/site-packages (from pyfaidx>=0.1.3->pyGenomeTracks) (68.2.2)\n",
            "Collecting importlib-metadata (from pyfaidx>=0.1.3->pyGenomeTracks)\n",
            "  Downloading importlib_metadata-7.0.1-py3-none-any.whl.metadata (4.9 kB)\n",
            "Collecting iniconfig (from pytest->pyGenomeTracks)\n",
            "  Downloading iniconfig-2.0.0-py3-none-any.whl (5.9 kB)\n",
            "Requirement already satisfied: pluggy<2.0,>=1.3.0 in /usr/local/lib/python3.10/site-packages (from pytest->pyGenomeTracks) (1.3.0)\n",
            "Collecting exceptiongroup>=1.0.0rc8 (from pytest->pyGenomeTracks)\n",
            "  Downloading exceptiongroup-1.2.0-py3-none-any.whl.metadata (6.6 kB)\n",
            "Collecting tomli>=1.0.0 (from pytest->pyGenomeTracks)\n",
            "  Downloading tomli-2.0.1-py3-none-any.whl (12 kB)\n",
            "Collecting asciitree (from cooler>=0.8.9->hicmatrix>=15->pyGenomeTracks)\n",
            "  Downloading asciitree-0.3.3.tar.gz (4.0 kB)\n",
            "  Preparing metadata (setup.py) ... \u001b[?25l\u001b[?25hdone\n",
            "Collecting click>=7 (from cooler>=0.8.9->hicmatrix>=15->pyGenomeTracks)\n",
            "  Downloading click-8.1.7-py3-none-any.whl.metadata (3.0 kB)\n",
            "Collecting cytoolz (from cooler>=0.8.9->hicmatrix>=15->pyGenomeTracks)\n",
            "  Downloading cytoolz-0.12.3-cp310-cp310-manylinux_2_17_x86_64.manylinux2014_x86_64.whl.metadata (4.6 kB)\n",
            "Collecting h5py>=2.5 (from cooler>=0.8.9->hicmatrix>=15->pyGenomeTracks)\n",
            "  Downloading h5py-3.10.0-cp310-cp310-manylinux_2_17_x86_64.manylinux2014_x86_64.whl.metadata (2.5 kB)\n",
            "Collecting multiprocess (from cooler>=0.8.9->hicmatrix>=15->pyGenomeTracks)\n",
            "  Downloading multiprocess-0.70.16-py310-none-any.whl.metadata (7.2 kB)\n",
            "Collecting pyyaml (from cooler>=0.8.9->hicmatrix>=15->pyGenomeTracks)\n",
            "  Downloading PyYAML-6.0.1-cp310-cp310-manylinux_2_17_x86_64.manylinux2014_x86_64.whl.metadata (2.1 kB)\n",
            "Collecting pytz>=2020.1 (from pandas>=0.25->hicmatrix>=15->pyGenomeTracks)\n",
            "  Downloading pytz-2024.1-py2.py3-none-any.whl.metadata (22 kB)\n",
            "Collecting tzdata>=2022.7 (from pandas>=0.25->hicmatrix>=15->pyGenomeTracks)\n",
            "  Downloading tzdata-2023.4-py2.py3-none-any.whl.metadata (1.4 kB)\n",
            "Collecting numexpr>=2.6.2 (from tables>=3.5->hicmatrix>=15->pyGenomeTracks)\n",
            "  Downloading numexpr-2.9.0-cp310-cp310-manylinux_2_17_x86_64.manylinux2014_x86_64.whl.metadata (7.9 kB)\n",
            "Collecting py-cpuinfo (from tables>=3.5->hicmatrix>=15->pyGenomeTracks)\n",
            "  Downloading py_cpuinfo-9.0.0-py3-none-any.whl (22 kB)\n",
            "Collecting blosc2>=2.3.0 (from tables>=3.5->hicmatrix>=15->pyGenomeTracks)\n",
            "  Downloading blosc2-2.5.1-cp310-cp310-manylinux_2_17_x86_64.manylinux2014_x86_64.whl.metadata (9.2 kB)\n",
            "Collecting zipp>=0.5 (from importlib-metadata->pyfaidx>=0.1.3->pyGenomeTracks)\n",
            "  Downloading zipp-3.17.0-py3-none-any.whl.metadata (3.7 kB)\n",
            "Collecting ndindex>=1.4 (from blosc2>=2.3.0->tables>=3.5->hicmatrix>=15->pyGenomeTracks)\n",
            "  Downloading ndindex-1.7-py3-none-any.whl (85 kB)\n",
            "\u001b[2K     \u001b[90m━━━━━━━━━━━━━━━━━━━━━━━━━━━━━━━━━━━━━━━━\u001b[0m \u001b[32m85.7/85.7 kB\u001b[0m \u001b[31m7.2 MB/s\u001b[0m eta \u001b[36m0:00:00\u001b[0m\n",
            "\u001b[?25hCollecting msgpack (from blosc2>=2.3.0->tables>=3.5->hicmatrix>=15->pyGenomeTracks)\n",
            "  Downloading msgpack-1.0.7-cp310-cp310-manylinux_2_17_x86_64.manylinux2014_x86_64.whl.metadata (9.1 kB)\n",
            "Collecting toolz>=0.8.0 (from cytoolz->cooler>=0.8.9->hicmatrix>=15->pyGenomeTracks)\n",
            "  Downloading toolz-0.12.1-py3-none-any.whl.metadata (5.1 kB)\n",
            "Collecting dill>=0.3.8 (from multiprocess->cooler>=0.8.9->hicmatrix>=15->pyGenomeTracks)\n",
            "  Downloading dill-0.3.8-py3-none-any.whl.metadata (10 kB)\n",
            "Downloading bx_python-0.11.0-cp310-cp310-manylinux_2_17_x86_64.manylinux2014_x86_64.whl (5.6 MB)\n",
            "\u001b[2K   \u001b[90m━━━━━━━━━━━━━━━━━━━━━━━━━━━━━━━━━━━━━━━━\u001b[0m \u001b[32m5.6/5.6 MB\u001b[0m \u001b[31m60.4 MB/s\u001b[0m eta \u001b[36m0:00:00\u001b[0m\n",
            "\u001b[?25hDownloading gffutils-0.12-py3-none-any.whl (1.6 MB)\n",
            "\u001b[2K   \u001b[90m━━━━━━━━━━━━━━━━━━━━━━━━━━━━━━━━━━━━━━━━\u001b[0m \u001b[32m1.6/1.6 MB\u001b[0m \u001b[31m54.0 MB/s\u001b[0m eta \u001b[36m0:00:00\u001b[0m\n",
            "\u001b[?25hDownloading HiCMatrix-17.1-py3-none-any.whl (47 kB)\n",
            "\u001b[2K   \u001b[90m━━━━━━━━━━━━━━━━━━━━━━━━━━━━━━━━━━━━━━━━\u001b[0m \u001b[32m47.4/47.4 kB\u001b[0m \u001b[31m4.2 MB/s\u001b[0m eta \u001b[36m0:00:00\u001b[0m\n",
            "\u001b[?25hDownloading numpy-1.26.4-cp310-cp310-manylinux_2_17_x86_64.manylinux2014_x86_64.whl (18.2 MB)\n",
            "\u001b[2K   \u001b[90m━━━━━━━━━━━━━━━━━━━━━━━━━━━━━━━━━━━━━━━━\u001b[0m \u001b[32m18.2/18.2 MB\u001b[0m \u001b[31m46.3 MB/s\u001b[0m eta \u001b[36m0:00:00\u001b[0m\n",
            "\u001b[?25hDownloading pyfaidx-0.8.1.1-py3-none-any.whl (28 kB)\n",
            "Downloading pysam-0.22.0-cp310-cp310-manylinux_2_28_x86_64.whl (21.9 MB)\n",
            "\u001b[2K   \u001b[90m━━━━━━━━━━━━━━━━━━━━━━━━━━━━━━━━━━━━━━━━\u001b[0m \u001b[32m21.9/21.9 MB\u001b[0m \u001b[31m44.4 MB/s\u001b[0m eta \u001b[36m0:00:00\u001b[0m\n",
            "\u001b[?25hDownloading pytest-8.0.0-py3-none-any.whl (334 kB)\n",
            "\u001b[2K   \u001b[90m━━━━━━━━━━━━━━━━━━━━━━━━━━━━━━━━━━━━━━━━\u001b[0m \u001b[32m334.0/334.0 kB\u001b[0m \u001b[31m24.7 MB/s\u001b[0m eta \u001b[36m0:00:00\u001b[0m\n",
            "\u001b[?25hDownloading argcomplete-3.2.2-py3-none-any.whl (42 kB)\n",
            "\u001b[2K   \u001b[90m━━━━━━━━━━━━━━━━━━━━━━━━━━━━━━━━━━━━━━━━\u001b[0m \u001b[32m42.3/42.3 kB\u001b[0m \u001b[31m3.4 MB/s\u001b[0m eta \u001b[36m0:00:00\u001b[0m\n",
            "\u001b[?25hDownloading argh-0.31.2-py3-none-any.whl (44 kB)\n",
            "\u001b[2K   \u001b[90m━━━━━━━━━━━━━━━━━━━━━━━━━━━━━━━━━━━━━━━━\u001b[0m \u001b[32m44.8/44.8 kB\u001b[0m \u001b[31m4.3 MB/s\u001b[0m eta \u001b[36m0:00:00\u001b[0m\n",
            "\u001b[?25hDownloading contourpy-1.2.0-cp310-cp310-manylinux_2_17_x86_64.manylinux2014_x86_64.whl (310 kB)\n",
            "\u001b[2K   \u001b[90m━━━━━━━━━━━━━━━━━━━━━━━━━━━━━━━━━━━━━━━━\u001b[0m \u001b[32m310.7/310.7 kB\u001b[0m \u001b[31m25.6 MB/s\u001b[0m eta \u001b[36m0:00:00\u001b[0m\n",
            "\u001b[?25hDownloading cooler-0.9.3-py3-none-any.whl (103 kB)\n",
            "\u001b[2K   \u001b[90m━━━━━━━━━━━━━━━━━━━━━━━━━━━━━━━━━━━━━━━━\u001b[0m \u001b[32m103.7/103.7 kB\u001b[0m \u001b[31m10.4 MB/s\u001b[0m eta \u001b[36m0:00:00\u001b[0m\n",
            "\u001b[?25hDownloading cycler-0.12.1-py3-none-any.whl (8.3 kB)\n",
            "Downloading exceptiongroup-1.2.0-py3-none-any.whl (16 kB)\n",
            "Downloading fonttools-4.48.1-cp310-cp310-manylinux_2_17_x86_64.manylinux2014_x86_64.whl (4.6 MB)\n",
            "\u001b[2K   \u001b[90m━━━━━━━━━━━━━━━━━━━━━━━━━━━━━━━━━━━━━━━━\u001b[0m \u001b[32m4.6/4.6 MB\u001b[0m \u001b[31m86.6 MB/s\u001b[0m eta \u001b[36m0:00:00\u001b[0m\n",
            "\u001b[?25hDownloading kiwisolver-1.4.5-cp310-cp310-manylinux_2_12_x86_64.manylinux2010_x86_64.whl (1.6 MB)\n",
            "\u001b[2K   \u001b[90m━━━━━━━━━━━━━━━━━━━━━━━━━━━━━━━━━━━━━━━━\u001b[0m \u001b[32m1.6/1.6 MB\u001b[0m \u001b[31m61.8 MB/s\u001b[0m eta \u001b[36m0:00:00\u001b[0m\n",
            "\u001b[?25hDownloading pandas-2.2.0-cp310-cp310-manylinux_2_17_x86_64.manylinux2014_x86_64.whl (13.0 MB)\n",
            "\u001b[2K   \u001b[90m━━━━━━━━━━━━━━━━━━━━━━━━━━━━━━━━━━━━━━━━\u001b[0m \u001b[32m13.0/13.0 MB\u001b[0m \u001b[31m57.4 MB/s\u001b[0m eta \u001b[36m0:00:00\u001b[0m\n",
            "\u001b[?25hDownloading pillow-10.2.0-cp310-cp310-manylinux_2_28_x86_64.whl (4.5 MB)\n",
            "\u001b[2K   \u001b[90m━━━━━━━━━━━━━━━━━━━━━━━━━━━━━━━━━━━━━━━━\u001b[0m \u001b[32m4.5/4.5 MB\u001b[0m \u001b[31m56.7 MB/s\u001b[0m eta \u001b[36m0:00:00\u001b[0m\n",
            "\u001b[?25hDownloading pyparsing-3.1.1-py3-none-any.whl (103 kB)\n",
            "\u001b[2K   \u001b[90m━━━━━━━━━━━━━━━━━━━━━━━━━━━━━━━━━━━━━━━━\u001b[0m \u001b[32m103.1/103.1 kB\u001b[0m \u001b[31m10.3 MB/s\u001b[0m eta \u001b[36m0:00:00\u001b[0m\n",
            "\u001b[?25hDownloading scipy-1.12.0-cp310-cp310-manylinux_2_17_x86_64.manylinux2014_x86_64.whl (38.4 MB)\n",
            "\u001b[2K   \u001b[90m━━━━━━━━━━━━━━━━━━━━━━━━━━━━━━━━━━━━━━━━\u001b[0m \u001b[32m38.4/38.4 MB\u001b[0m \u001b[31m10.4 MB/s\u001b[0m eta \u001b[36m0:00:00\u001b[0m\n",
            "\u001b[?25hDownloading tables-3.9.2-cp310-cp310-manylinux_2_17_x86_64.manylinux2014_x86_64.whl (7.5 MB)\n",
            "\u001b[2K   \u001b[90m━━━━━━━━━━━━━━━━━━━━━━━━━━━━━━━━━━━━━━━━\u001b[0m \u001b[32m7.5/7.5 MB\u001b[0m \u001b[31m93.9 MB/s\u001b[0m eta \u001b[36m0:00:00\u001b[0m\n",
            "\u001b[?25hDownloading importlib_metadata-7.0.1-py3-none-any.whl (23 kB)\n",
            "Downloading simplejson-3.19.2-cp310-cp310-manylinux_2_5_x86_64.manylinux1_x86_64.manylinux_2_17_x86_64.manylinux2014_x86_64.whl (137 kB)\n",
            "\u001b[2K   \u001b[90m━━━━━━━━━━━━━━━━━━━━━━━━━━━━━━━━━━━━━━━━\u001b[0m \u001b[32m137.9/137.9 kB\u001b[0m \u001b[31m14.8 MB/s\u001b[0m eta \u001b[36m0:00:00\u001b[0m\n",
            "\u001b[?25hDownloading blosc2-2.5.1-cp310-cp310-manylinux_2_17_x86_64.manylinux2014_x86_64.whl (4.4 MB)\n",
            "\u001b[2K   \u001b[90m━━━━━━━━━━━━━━━━━━━━━━━━━━━━━━━━━━━━━━━━\u001b[0m \u001b[32m4.4/4.4 MB\u001b[0m \u001b[31m90.8 MB/s\u001b[0m eta \u001b[36m0:00:00\u001b[0m\n",
            "\u001b[?25hDownloading click-8.1.7-py3-none-any.whl (97 kB)\n",
            "\u001b[2K   \u001b[90m━━━━━━━━━━━━━━━━━━━━━━━━━━━━━━━━━━━━━━━━\u001b[0m \u001b[32m97.9/97.9 kB\u001b[0m \u001b[31m11.0 MB/s\u001b[0m eta \u001b[36m0:00:00\u001b[0m\n",
            "\u001b[?25hDownloading h5py-3.10.0-cp310-cp310-manylinux_2_17_x86_64.manylinux2014_x86_64.whl (4.8 MB)\n",
            "\u001b[2K   \u001b[90m━━━━━━━━━━━━━━━━━━━━━━━━━━━━━━━━━━━━━━━━\u001b[0m \u001b[32m4.8/4.8 MB\u001b[0m \u001b[31m73.2 MB/s\u001b[0m eta \u001b[36m0:00:00\u001b[0m\n",
            "\u001b[?25hDownloading numexpr-2.9.0-cp310-cp310-manylinux_2_17_x86_64.manylinux2014_x86_64.whl (375 kB)\n",
            "\u001b[2K   \u001b[90m━━━━━━━━━━━━━━━━━━━━━━━━━━━━━━━━━━━━━━━━\u001b[0m \u001b[32m375.2/375.2 kB\u001b[0m \u001b[31m29.0 MB/s\u001b[0m eta \u001b[36m0:00:00\u001b[0m\n",
            "\u001b[?25hDownloading pytz-2024.1-py2.py3-none-any.whl (505 kB)\n",
            "\u001b[2K   \u001b[90m━━━━━━━━━━━━━━━━━━━━━━━━━━━━━━━━━━━━━━━━\u001b[0m \u001b[32m505.5/505.5 kB\u001b[0m \u001b[31m37.1 MB/s\u001b[0m eta \u001b[36m0:00:00\u001b[0m\n",
            "\u001b[?25hDownloading tzdata-2023.4-py2.py3-none-any.whl (346 kB)\n",
            "\u001b[2K   \u001b[90m━━━━━━━━━━━━━━━━━━━━━━━━━━━━━━━━━━━━━━━━\u001b[0m \u001b[32m346.6/346.6 kB\u001b[0m \u001b[31m25.4 MB/s\u001b[0m eta \u001b[36m0:00:00\u001b[0m\n",
            "\u001b[?25hDownloading zipp-3.17.0-py3-none-any.whl (7.4 kB)\n",
            "Downloading cytoolz-0.12.3-cp310-cp310-manylinux_2_17_x86_64.manylinux2014_x86_64.whl (2.0 MB)\n",
            "\u001b[2K   \u001b[90m━━━━━━━━━━━━━━━━━━━━━━━━━━━━━━━━━━━━━━━━\u001b[0m \u001b[32m2.0/2.0 MB\u001b[0m \u001b[31m59.1 MB/s\u001b[0m eta \u001b[36m0:00:00\u001b[0m\n",
            "\u001b[?25hDownloading multiprocess-0.70.16-py310-none-any.whl (134 kB)\n",
            "\u001b[2K   \u001b[90m━━━━━━━━━━━━━━━━━━━━━━━━━━━━━━━━━━━━━━━━\u001b[0m \u001b[32m134.8/134.8 kB\u001b[0m \u001b[31m12.5 MB/s\u001b[0m eta \u001b[36m0:00:00\u001b[0m\n",
            "\u001b[?25hDownloading PyYAML-6.0.1-cp310-cp310-manylinux_2_17_x86_64.manylinux2014_x86_64.whl (705 kB)\n",
            "\u001b[2K   \u001b[90m━━━━━━━━━━━━━━━━━━━━━━━━━━━━━━━━━━━━━━━━\u001b[0m \u001b[32m705.5/705.5 kB\u001b[0m \u001b[31m40.3 MB/s\u001b[0m eta \u001b[36m0:00:00\u001b[0m\n",
            "\u001b[?25hDownloading dill-0.3.8-py3-none-any.whl (116 kB)\n",
            "\u001b[2K   \u001b[90m━━━━━━━━━━━━━━━━━━━━━━━━━━━━━━━━━━━━━━━━\u001b[0m \u001b[32m116.3/116.3 kB\u001b[0m \u001b[31m11.8 MB/s\u001b[0m eta \u001b[36m0:00:00\u001b[0m\n",
            "\u001b[?25hDownloading toolz-0.12.1-py3-none-any.whl (56 kB)\n",
            "\u001b[2K   \u001b[90m━━━━━━━━━━━━━━━━━━━━━━━━━━━━━━━━━━━━━━━━\u001b[0m \u001b[32m56.1/56.1 kB\u001b[0m \u001b[31m5.2 MB/s\u001b[0m eta \u001b[36m0:00:00\u001b[0m\n",
            "\u001b[?25hDownloading msgpack-1.0.7-cp310-cp310-manylinux_2_17_x86_64.manylinux2014_x86_64.whl (530 kB)\n",
            "\u001b[2K   \u001b[90m━━━━━━━━━━━━━━━━━━━━━━━━━━━━━━━━━━━━━━━━\u001b[0m \u001b[32m530.8/530.8 kB\u001b[0m \u001b[31m37.2 MB/s\u001b[0m eta \u001b[36m0:00:00\u001b[0m\n",
            "\u001b[?25hBuilding wheels for collected packages: future, intervaltree, pybedtools, asciitree\n",
            "  Building wheel for future (setup.py) ... \u001b[?25l\u001b[?25hdone\n",
            "  Created wheel for future: filename=future-0.18.3-py3-none-any.whl size=492024 sha256=d3b4504dcc467f1943c35a52bb66dbafde17397fcb6a79dcc091e626579beb1d\n",
            "  Stored in directory: /root/.cache/pip/wheels/5e/a9/47/f118e66afd12240e4662752cc22cefae5d97275623aa8ef57d\n",
            "  Building wheel for intervaltree (setup.py) ... \u001b[?25l\u001b[?25hdone\n",
            "  Created wheel for intervaltree: filename=intervaltree-3.1.0-py2.py3-none-any.whl size=26095 sha256=4f45ac386eafc84f18d434e99d736981362cbbf2236bff59fb184b4327a2889c\n",
            "  Stored in directory: /root/.cache/pip/wheels/fa/80/8c/43488a924a046b733b64de3fac99252674c892a4c3801c0a61\n",
            "  Building wheel for pybedtools (setup.py) ... \u001b[?25l\u001b[?25hdone\n",
            "  Created wheel for pybedtools: filename=pybedtools-0.9.1-cp310-cp310-linux_x86_64.whl size=12752426 sha256=7e6e95d44f9df9fa657cde05f0320a5692667410f05d7eec9f17fc9d6f3e15b9\n",
            "  Stored in directory: /root/.cache/pip/wheels/f5/79/76/c2cef660013cdf573214696aec4bc7ec352bf46141682230af\n",
            "  Building wheel for asciitree (setup.py) ... \u001b[?25l\u001b[?25hdone\n",
            "  Created wheel for asciitree: filename=asciitree-0.3.3-py3-none-any.whl size=5033 sha256=f0c0bae9c7deb57b527d6dc59ce350f3be6aa5626cdbcfe54ea4dbb13bc8a185\n",
            "  Stored in directory: /root/.cache/pip/wheels/7f/4e/be/1171b40f43b918087657ec57cf3b81fa1a2e027d8755baa184\n",
            "Successfully built future intervaltree pybedtools asciitree\n",
            "Installing collected packages: sortedcontainers, pytz, py-cpuinfo, asciitree, zipp, tzdata, toolz, tomli, six, simplejson, pyyaml, pysam, pyparsing, pyBigWig, pillow, numpy, ndindex, msgpack, kiwisolver, intervaltree, iniconfig, future, fonttools, exceptiongroup, dill, cycler, click, argh, argcomplete, scipy, python-dateutil, pytest, pybedtools, numexpr, multiprocess, importlib-metadata, h5py, cytoolz, contourpy, bx-python, blosc2, tables, pyfaidx, pandas, matplotlib, gffutils, cooler, hicmatrix, pyGenomeTracks\n",
            "Successfully installed argcomplete-3.2.2 argh-0.31.2 asciitree-0.3.3 blosc2-2.5.1 bx-python-0.11.0 click-8.1.7 contourpy-1.2.0 cooler-0.9.3 cycler-0.12.1 cytoolz-0.12.3 dill-0.3.8 exceptiongroup-1.2.0 fonttools-4.48.1 future-0.18.3 gffutils-0.12 h5py-3.10.0 hicmatrix-17.1 importlib-metadata-7.0.1 iniconfig-2.0.0 intervaltree-3.1.0 kiwisolver-1.4.5 matplotlib-3.6.2 msgpack-1.0.7 multiprocess-0.70.16 ndindex-1.7 numexpr-2.9.0 numpy-1.26.4 pandas-2.2.0 pillow-10.2.0 py-cpuinfo-9.0.0 pyBigWig-0.3.22 pyGenomeTracks-3.8 pybedtools-0.9.1 pyfaidx-0.8.1.1 pyparsing-3.1.1 pysam-0.22.0 pytest-8.0.0 python-dateutil-2.8.2 pytz-2024.1 pyyaml-6.0.1 scipy-1.12.0 simplejson-3.19.2 six-1.16.0 sortedcontainers-2.4.0 tables-3.9.2 tomli-2.0.1 toolz-0.12.1 tzdata-2023.4 zipp-3.17.0\n",
            "\u001b[33mWARNING: Running pip as the 'root' user can result in broken permissions and conflicting behaviour with the system package manager. It is recommended to use a virtual environment instead: https://pip.pypa.io/warnings/venv\u001b[0m\u001b[33m\n",
            "\u001b[0m"
          ]
        },
        {
          "data": {
            "application/vnd.colab-display-data+json": {
              "pip_warning": {
                "packages": [
                  "cycler",
                  "dateutil",
                  "kiwisolver",
                  "numexpr",
                  "six"
                ]
              }
            }
          },
          "metadata": {},
          "output_type": "display_data"
        }
      ],
      "source": [
        "! pip install pyGenomeTracks"
      ]
    },
    {
      "cell_type": "code",
      "execution_count": null,
      "metadata": {
        "colab": {
          "base_uri": "https://localhost:8080/",
          "height": 1000
        },
        "id": "fcsJWNmHo1i-",
        "outputId": "cb74241c-2ae5-4648-e1d6-a8f557d4809e"
      },
      "outputs": [
        {
          "name": "stdout",
          "output_type": "stream",
          "text": [
            "Collecting ipykernel\n",
            "  Downloading ipykernel-6.29.2-py3-none-any.whl.metadata (6.0 kB)\n",
            "Collecting comm>=0.1.1 (from ipykernel)\n",
            "  Downloading comm-0.2.1-py3-none-any.whl.metadata (3.7 kB)\n",
            "Collecting debugpy>=1.6.5 (from ipykernel)\n",
            "  Downloading debugpy-1.8.1-cp310-cp310-manylinux_2_17_x86_64.manylinux2014_x86_64.whl.metadata (1.1 kB)\n",
            "Collecting ipython>=7.23.1 (from ipykernel)\n",
            "  Downloading ipython-8.21.0-py3-none-any.whl.metadata (5.9 kB)\n",
            "Collecting jupyter-client>=6.1.12 (from ipykernel)\n",
            "  Downloading jupyter_client-8.6.0-py3-none-any.whl.metadata (8.3 kB)\n",
            "Collecting jupyter-core!=5.0.*,>=4.12 (from ipykernel)\n",
            "  Downloading jupyter_core-5.7.1-py3-none-any.whl.metadata (3.4 kB)\n",
            "Collecting matplotlib-inline>=0.1 (from ipykernel)\n",
            "  Downloading matplotlib_inline-0.1.6-py3-none-any.whl (9.4 kB)\n",
            "Collecting nest-asyncio (from ipykernel)\n",
            "  Downloading nest_asyncio-1.6.0-py3-none-any.whl.metadata (2.8 kB)\n",
            "Requirement already satisfied: packaging in /usr/local/lib/python3.10/site-packages (from ipykernel) (23.2)\n",
            "Collecting psutil (from ipykernel)\n",
            "  Downloading psutil-5.9.8-cp36-abi3-manylinux_2_12_x86_64.manylinux2010_x86_64.manylinux_2_17_x86_64.manylinux2014_x86_64.whl.metadata (21 kB)\n",
            "Collecting pyzmq>=24 (from ipykernel)\n",
            "  Downloading pyzmq-25.1.2-cp310-cp310-manylinux_2_28_x86_64.whl.metadata (4.9 kB)\n",
            "Collecting tornado>=6.1 (from ipykernel)\n",
            "  Downloading tornado-6.4-cp38-abi3-manylinux_2_5_x86_64.manylinux1_x86_64.manylinux_2_17_x86_64.manylinux2014_x86_64.whl.metadata (2.5 kB)\n",
            "Collecting traitlets>=5.4.0 (from ipykernel)\n",
            "  Downloading traitlets-5.14.1-py3-none-any.whl.metadata (10 kB)\n",
            "Collecting decorator (from ipython>=7.23.1->ipykernel)\n",
            "  Downloading decorator-5.1.1-py3-none-any.whl (9.1 kB)\n",
            "Collecting jedi>=0.16 (from ipython>=7.23.1->ipykernel)\n",
            "  Downloading jedi-0.19.1-py2.py3-none-any.whl.metadata (22 kB)\n",
            "Collecting prompt-toolkit<3.1.0,>=3.0.41 (from ipython>=7.23.1->ipykernel)\n",
            "  Downloading prompt_toolkit-3.0.43-py3-none-any.whl.metadata (6.5 kB)\n",
            "Collecting pygments>=2.4.0 (from ipython>=7.23.1->ipykernel)\n",
            "  Downloading pygments-2.17.2-py3-none-any.whl.metadata (2.6 kB)\n",
            "Collecting stack-data (from ipython>=7.23.1->ipykernel)\n",
            "  Downloading stack_data-0.6.3-py3-none-any.whl.metadata (18 kB)\n",
            "Requirement already satisfied: exceptiongroup in /usr/local/lib/python3.10/site-packages (from ipython>=7.23.1->ipykernel) (1.2.0)\n",
            "Collecting pexpect>4.3 (from ipython>=7.23.1->ipykernel)\n",
            "  Downloading pexpect-4.9.0-py2.py3-none-any.whl.metadata (2.5 kB)\n",
            "Requirement already satisfied: python-dateutil>=2.8.2 in /usr/local/lib/python3.10/site-packages (from jupyter-client>=6.1.12->ipykernel) (2.8.2)\n",
            "Requirement already satisfied: platformdirs>=2.5 in /usr/local/lib/python3.10/site-packages (from jupyter-core!=5.0.*,>=4.12->ipykernel) (4.1.0)\n",
            "Collecting parso<0.9.0,>=0.8.3 (from jedi>=0.16->ipython>=7.23.1->ipykernel)\n",
            "  Downloading parso-0.8.3-py2.py3-none-any.whl (100 kB)\n",
            "\u001b[2K     \u001b[90m━━━━━━━━━━━━━━━━━━━━━━━━━━━━━━━━━━━━━━━━\u001b[0m \u001b[32m100.8/100.8 kB\u001b[0m \u001b[31m4.2 MB/s\u001b[0m eta \u001b[36m0:00:00\u001b[0m\n",
            "\u001b[?25hCollecting ptyprocess>=0.5 (from pexpect>4.3->ipython>=7.23.1->ipykernel)\n",
            "  Downloading ptyprocess-0.7.0-py2.py3-none-any.whl (13 kB)\n",
            "Collecting wcwidth (from prompt-toolkit<3.1.0,>=3.0.41->ipython>=7.23.1->ipykernel)\n",
            "  Downloading wcwidth-0.2.13-py2.py3-none-any.whl.metadata (14 kB)\n",
            "Requirement already satisfied: six>=1.5 in /usr/local/lib/python3.10/site-packages (from python-dateutil>=2.8.2->jupyter-client>=6.1.12->ipykernel) (1.16.0)\n",
            "Collecting executing>=1.2.0 (from stack-data->ipython>=7.23.1->ipykernel)\n",
            "  Downloading executing-2.0.1-py2.py3-none-any.whl.metadata (9.0 kB)\n",
            "Collecting asttokens>=2.1.0 (from stack-data->ipython>=7.23.1->ipykernel)\n",
            "  Downloading asttokens-2.4.1-py2.py3-none-any.whl.metadata (5.2 kB)\n",
            "Collecting pure-eval (from stack-data->ipython>=7.23.1->ipykernel)\n",
            "  Downloading pure_eval-0.2.2-py3-none-any.whl (11 kB)\n",
            "Downloading ipykernel-6.29.2-py3-none-any.whl (116 kB)\n",
            "\u001b[2K   \u001b[90m━━━━━━━━━━━━━━━━━━━━━━━━━━━━━━━━━━━━━━━━\u001b[0m \u001b[32m116.1/116.1 kB\u001b[0m \u001b[31m12.3 MB/s\u001b[0m eta \u001b[36m0:00:00\u001b[0m\n",
            "\u001b[?25hDownloading comm-0.2.1-py3-none-any.whl (7.2 kB)\n",
            "Downloading debugpy-1.8.1-cp310-cp310-manylinux_2_17_x86_64.manylinux2014_x86_64.whl (3.0 MB)\n",
            "\u001b[2K   \u001b[90m━━━━━━━━━━━━━━━━━━━━━━━━━━━━━━━━━━━━━━━━\u001b[0m \u001b[32m3.0/3.0 MB\u001b[0m \u001b[31m48.0 MB/s\u001b[0m eta \u001b[36m0:00:00\u001b[0m\n",
            "\u001b[?25hDownloading ipython-8.21.0-py3-none-any.whl (810 kB)\n",
            "\u001b[2K   \u001b[90m━━━━━━━━━━━━━━━━━━━━━━━━━━━━━━━━━━━━━━━━\u001b[0m \u001b[32m810.0/810.0 kB\u001b[0m \u001b[31m54.1 MB/s\u001b[0m eta \u001b[36m0:00:00\u001b[0m\n",
            "\u001b[?25hDownloading jupyter_client-8.6.0-py3-none-any.whl (105 kB)\n",
            "\u001b[2K   \u001b[90m━━━━━━━━━━━━━━━━━━━━━━━━━━━━━━━━━━━━━━━━\u001b[0m \u001b[32m105.9/105.9 kB\u001b[0m \u001b[31m11.5 MB/s\u001b[0m eta \u001b[36m0:00:00\u001b[0m\n",
            "\u001b[?25hDownloading jupyter_core-5.7.1-py3-none-any.whl (28 kB)\n",
            "Downloading pyzmq-25.1.2-cp310-cp310-manylinux_2_28_x86_64.whl (1.1 MB)\n",
            "\u001b[2K   \u001b[90m━━━━━━━━━━━━━━━━━━━━━━━━━━━━━━━━━━━━━━━━\u001b[0m \u001b[32m1.1/1.1 MB\u001b[0m \u001b[31m48.4 MB/s\u001b[0m eta \u001b[36m0:00:00\u001b[0m\n",
            "\u001b[?25hDownloading tornado-6.4-cp38-abi3-manylinux_2_5_x86_64.manylinux1_x86_64.manylinux_2_17_x86_64.manylinux2014_x86_64.whl (435 kB)\n",
            "\u001b[2K   \u001b[90m━━━━━━━━━━━━━━━━━━━━━━━━━━━━━━━━━━━━━━━━\u001b[0m \u001b[32m435.4/435.4 kB\u001b[0m \u001b[31m37.2 MB/s\u001b[0m eta \u001b[36m0:00:00\u001b[0m\n",
            "\u001b[?25hDownloading traitlets-5.14.1-py3-none-any.whl (85 kB)\n",
            "\u001b[2K   \u001b[90m━━━━━━━━━━━━━━━━━━━━━━━━━━━━━━━━━━━━━━━━\u001b[0m \u001b[32m85.4/85.4 kB\u001b[0m \u001b[31m9.0 MB/s\u001b[0m eta \u001b[36m0:00:00\u001b[0m\n",
            "\u001b[?25hDownloading nest_asyncio-1.6.0-py3-none-any.whl (5.2 kB)\n",
            "Downloading psutil-5.9.8-cp36-abi3-manylinux_2_12_x86_64.manylinux2010_x86_64.manylinux_2_17_x86_64.manylinux2014_x86_64.whl (288 kB)\n",
            "\u001b[2K   \u001b[90m━━━━━━━━━━━━━━━━━━━━━━━━━━━━━━━━━━━━━━━━\u001b[0m \u001b[32m288.2/288.2 kB\u001b[0m \u001b[31m23.8 MB/s\u001b[0m eta \u001b[36m0:00:00\u001b[0m\n",
            "\u001b[?25hDownloading jedi-0.19.1-py2.py3-none-any.whl (1.6 MB)\n",
            "\u001b[2K   \u001b[90m━━━━━━━━━━━━━━━━━━━━━━━━━━━━━━━━━━━━━━━━\u001b[0m \u001b[32m1.6/1.6 MB\u001b[0m \u001b[31m48.2 MB/s\u001b[0m eta \u001b[36m0:00:00\u001b[0m\n",
            "\u001b[?25hDownloading pexpect-4.9.0-py2.py3-none-any.whl (63 kB)\n",
            "\u001b[2K   \u001b[90m━━━━━━━━━━━━━━━━━━━━━━━━━━━━━━━━━━━━━━━━\u001b[0m \u001b[32m63.8/63.8 kB\u001b[0m \u001b[31m6.7 MB/s\u001b[0m eta \u001b[36m0:00:00\u001b[0m\n",
            "\u001b[?25hDownloading prompt_toolkit-3.0.43-py3-none-any.whl (386 kB)\n",
            "\u001b[2K   \u001b[90m━━━━━━━━━━━━━━━━━━━━━━━━━━━━━━━━━━━━━━━━\u001b[0m \u001b[32m386.1/386.1 kB\u001b[0m \u001b[31m32.9 MB/s\u001b[0m eta \u001b[36m0:00:00\u001b[0m\n",
            "\u001b[?25hDownloading pygments-2.17.2-py3-none-any.whl (1.2 MB)\n",
            "\u001b[2K   \u001b[90m━━━━━━━━━━━━━━━━━━━━━━━━━━━━━━━━━━━━━━━━\u001b[0m \u001b[32m1.2/1.2 MB\u001b[0m \u001b[31m47.5 MB/s\u001b[0m eta \u001b[36m0:00:00\u001b[0m\n",
            "\u001b[?25hDownloading stack_data-0.6.3-py3-none-any.whl (24 kB)\n",
            "Downloading asttokens-2.4.1-py2.py3-none-any.whl (27 kB)\n",
            "Downloading executing-2.0.1-py2.py3-none-any.whl (24 kB)\n",
            "Downloading wcwidth-0.2.13-py2.py3-none-any.whl (34 kB)\n",
            "Installing collected packages: wcwidth, pure-eval, ptyprocess, traitlets, tornado, pyzmq, pygments, psutil, prompt-toolkit, pexpect, parso, nest-asyncio, executing, decorator, debugpy, asttokens, stack-data, matplotlib-inline, jupyter-core, jedi, comm, jupyter-client, ipython, ipykernel\n",
            "Successfully installed asttokens-2.4.1 comm-0.2.1 debugpy-1.8.1 decorator-5.1.1 executing-2.0.1 ipykernel-6.29.2 ipython-8.21.0 jedi-0.19.1 jupyter-client-8.6.0 jupyter-core-5.7.1 matplotlib-inline-0.1.6 nest-asyncio-1.6.0 parso-0.8.3 pexpect-4.9.0 prompt-toolkit-3.0.43 psutil-5.9.8 ptyprocess-0.7.0 pure-eval-0.2.2 pygments-2.17.2 pyzmq-25.1.2 stack-data-0.6.3 tornado-6.4 traitlets-5.14.1 wcwidth-0.2.13\n",
            "\u001b[33mWARNING: Running pip as the 'root' user can result in broken permissions and conflicting behaviour with the system package manager. It is recommended to use a virtual environment instead: https://pip.pypa.io/warnings/venv\u001b[0m\u001b[33m\n",
            "\u001b[0m"
          ]
        },
        {
          "data": {
            "application/vnd.colab-display-data+json": {
              "pip_warning": {
                "packages": [
                  "matplotlib_inline",
                  "pexpect",
                  "prompt_toolkit",
                  "wcwidth"
                ]
              }
            }
          },
          "metadata": {},
          "output_type": "display_data"
        }
      ],
      "source": [
        "!pip install -U ipykernel"
      ]
    },
    {
      "cell_type": "code",
      "execution_count": null,
      "metadata": {
        "colab": {
          "base_uri": "https://localhost:8080/"
        },
        "id": "UhIKyKz_t7yy",
        "outputId": "6769dd8c-a26b-40c9-cea3-2a5383444c05"
      },
      "outputs": [
        {
          "name": "stdout",
          "output_type": "stream",
          "text": [
            "Channels:\n",
            " - bioconda\n",
            " - conda-forge\n",
            "Platform: linux-64\n",
            "Collecting package metadata (repodata.json): - \b\b\\ \b\b| \b\b/ \b\b- \b\b\\ \b\b| \b\b/ \b\b- \b\b\\ \b\b| \b\b/ \b\b- \b\b\\ \b\b| \b\b/ \b\b- \b\b\\ \b\b| \b\b/ \b\b- \b\b\\ \b\b| \b\b/ \b\b- \b\b\\ \b\b| \b\b/ \b\b- \b\b\\ \b\b| \b\b/ \b\b- \b\b\\ \b\b| \b\b/ \b\b- \b\b\\ \b\b| \b\b/ \b\b- \b\b\\ \b\b| \b\b/ \b\b- \b\b\\ \b\b| \b\b/ \b\b- \b\b\\ \b\b| \b\b/ \b\b- \b\b\\ \b\b| \b\b/ \b\b- \b\b\\ \b\b| \b\b/ \b\b- \b\b\\ \b\b| \b\b/ \b\b- \b\b\\ \b\b| \b\b/ \b\b- \b\b\\ \b\b| \b\b/ \b\b- \b\b\\ \b\b| \b\b/ \b\b- \b\b\\ \b\b| \b\b/ \b\b- \b\b\\ \b\b| \b\b/ \b\b- \b\b\\ \b\b| \b\b/ \b\b- \b\b\\ \b\b| \b\b/ \b\b- \b\b\\ \b\b| \b\b/ \b\b- \b\b\\ \b\b| \b\b/ \b\b- \b\b\\ \b\b| \b\b/ \b\b- \b\b\\ \b\b| \b\b/ \b\b- \b\b\\ \b\b| \b\b/ \b\b- \b\b\\ \b\b| \b\b/ \b\b- \b\b\\ \b\b| \b\b/ \b\b- \b\b\\ \b\b| \b\b/ \b\b- \b\b\\ \b\b| \b\b/ \b\b- \b\b\\ \b\b| \b\b/ \b\b- \b\b\\ \b\b| \b\b/ \b\b- \b\b\\ \b\b| \b\b/ \b\b- \b\b\\ \b\b| \b\b/ \b\b- \b\b\\ \b\b| \b\b/ \b\b- \b\b\\ \b\b| \b\b/ \b\b- \b\b\\ \b\b| \b\b/ \b\b- \b\b\\ \b\b| \b\b/ \b\b- \b\b\\ \b\b| \b\b/ \b\b- \b\b\\ \b\b| \b\b/ \b\b- \b\b\\ \b\b| \b\b/ \b\b- \b\b\\ \b\b| \b\b/ \b\b- \b\b\\ \b\b| \b\b/ \b\b- \b\b\\ \b\b| \b\b/ \b\b- \b\b\\ \b\b| \b\b/ \b\b- \b\b\\ \b\b| \b\b/ \b\b- \b\b\\ \b\b| \b\b/ \b\b- \b\b\\ \b\b| \b\b/ \b\b- \b\b\\ \b\b| \b\b/ \b\b- \b\b\\ \b\b| \b\b/ \b\b- \b\b\\ \b\b| \b\b/ \b\b- \b\b\\ \b\b| \b\b/ \b\b- \b\b\\ \b\b| \b\b/ \b\b- \b\b\\ \b\b| \b\b/ \b\b- \b\b\\ \b\b| \b\b/ \b\b- \b\b\\ \b\b| \b\b/ \b\b- \b\b\\ \b\b| \b\b/ \b\b- \b\b\\ \b\b| \b\b/ \b\b- \b\b\\ \b\b| \b\b/ \b\b- \b\b\\ \b\bdone\n",
            "Solving environment: / \b\b- \b\b\\ \b\b| \u001b[33m\u001b[1mwarning  libmamba\u001b[m Added empty dependency for problem type SOLVER_RULE_UPDATE\n",
            "\b\b/ \b\b- \b\b\\ \b\b| \b\b/ \b\b- \b\b\\ \b\b| \b\b/ \b\b- \b\b\\ \b\b| \b\b/ \b\b- \b\b\\ \b\b| \b\b/ \b\b- \b\b\\ \b\b| \b\b/ \b\b- \b\b\\ \b\b| \b\b/ \b\b- \b\b\\ \b\b| \b\b/ \b\b- \b\b\\ \b\b| \b\b/ \b\b- \b\b\\ \b\b| \b\b/ \b\b- \b\b\\ \b\b| \b\b/ \b\b- \b\b\\ \b\bfailed\n",
            "\n",
            "LibMambaUnsatisfiableError: Encountered problems while solving:\n",
            "  - package ucsc-fetchchromsizes-324-0 requires openssl >=1.1.0,<=1.1.1, but none of the providers can be installed\n",
            "\n",
            "Could not solve for environment specs\n",
            "The following packages are incompatible\n",
            "├─ \u001b[32mmamba >=1.5.5 \u001b[0m is installable with the potential options\n",
            "│  ├─ \u001b[32mmamba [1.5.5|1.5.6]\u001b[0m would require\n",
            "│  │  ├─ \u001b[32mlibmambapy 1.5.6 py310h39ff949_0\u001b[0m, which requires\n",
            "│  │  │  └─ \u001b[32mlibmamba 1.5.6 had39da4_0\u001b[0m, which requires\n",
            "│  │  │     └─ \u001b[32mopenssl >=3.2.0,<4.0a0 \u001b[0m, which can be installed;\n",
            "│  │  └─ \u001b[32mopenssl >=3.2.0,<4.0a0 \u001b[0m, which can be installed;\n",
            "│  ├─ \u001b[32mmamba [1.5.5|1.5.6]\u001b[0m would require\n",
            "│  │  └─ \u001b[32mpython >=3.11,<3.12.0a0 \u001b[0m, which can be installed;\n",
            "│  ├─ \u001b[32mmamba [1.5.5|1.5.6]\u001b[0m would require\n",
            "│  │  └─ \u001b[32mpython >=3.12,<3.13.0a0 \u001b[0m, which can be installed;\n",
            "│  ├─ \u001b[32mmamba [1.5.5|1.5.6]\u001b[0m would require\n",
            "│  │  └─ \u001b[32mpython >=3.8,<3.9.0a0 \u001b[0m, which can be installed;\n",
            "│  └─ \u001b[32mmamba [1.5.5|1.5.6]\u001b[0m would require\n",
            "│     └─ \u001b[32mpython >=3.9,<3.10.0a0 \u001b[0m, which can be installed;\n",
            "├─ \u001b[31mpin-2\u001b[0m is not installable because it requires\n",
            "│  └─ \u001b[31mpython 3.10** \u001b[0m, which conflicts with any installable versions previously reported;\n",
            "└─ \u001b[31mucsc-fetchchromsizes\u001b[0m is not installable because there are no viable options\n",
            "   ├─ \u001b[31mucsc-fetchchromsizes [324|332|357]\u001b[0m would require\n",
            "   │  └─ \u001b[31mopenssl >=1.1.0,<=1.1.1 \u001b[0m, which conflicts with any installable versions previously reported;\n",
            "   ├─ \u001b[31mucsc-fetchchromsizes 366\u001b[0m would require\n",
            "   │  └─ \u001b[31mopenssl >=1.0.2o,<1.0.3a \u001b[0m, which conflicts with any installable versions previously reported;\n",
            "   ├─ \u001b[31mucsc-fetchchromsizes [366|377]\u001b[0m would require\n",
            "   │  └─ \u001b[31mopenssl >=1.0.2p,<1.0.3a \u001b[0m, which conflicts with any installable versions previously reported;\n",
            "   ├─ \u001b[31mucsc-fetchchromsizes 377\u001b[0m would require\n",
            "   │  └─ \u001b[31mopenssl >=1.1.1j,<1.1.2a \u001b[0m, which conflicts with any installable versions previously reported;\n",
            "   ├─ \u001b[31mucsc-fetchchromsizes 377\u001b[0m would require\n",
            "   │  └─ \u001b[31mopenssl >=1.1.1g,<1.1.2a \u001b[0m, which conflicts with any installable versions previously reported;\n",
            "   └─ \u001b[31mucsc-fetchchromsizes 377\u001b[0m would require\n",
            "      └─ \u001b[31mopenssl >=1.1.1l,<1.1.2a \u001b[0m, which conflicts with any installable versions previously reported.\n",
            "\n"
          ]
        }
      ],
      "source": [
        "! conda install -c bioconda ucsc-fetchchromsizes"
      ]
    },
    {
      "cell_type": "code",
      "execution_count": null,
      "metadata": {
        "colab": {
          "base_uri": "https://localhost:8080/"
        },
        "id": "LZpspVUvt4EY",
        "outputId": "a57c25ce-c9d4-4d69-c58e-9f24e85a67d2"
      },
      "outputs": [
        {
          "name": "stdout",
          "output_type": "stream",
          "text": [
            "/bin/bash: line 1: fetchChromSizes: command not found\n"
          ]
        }
      ],
      "source": [
        "# ! fetchChromSizes mm10 > m.chrom.sizes"
      ]
    },
    {
      "cell_type": "code",
      "execution_count": null,
      "metadata": {
        "colab": {
          "base_uri": "https://localhost:8080/"
        },
        "id": "2eoX34Q6IrdW",
        "outputId": "80e342b3-6f2c-4992-b9b7-c9f5ce18000e"
      },
      "outputs": [
        {
          "name": "stdout",
          "output_type": "stream",
          "text": [
            "Файл 'm.chrom.sizes' успешно сохранен.\n"
          ]
        }
      ],
      "source": [
        "import requests\n",
        "\n",
        "\n",
        "url = 'http://hgdownload.cse.ucsc.edu/goldenPath/mm10/bigZips/mm10.chrom.sizes'\n",
        "\n",
        "response = requests.get(url)\n",
        "\n",
        "with open(\"m.chrom.sizes\", \"wb\") as f:\n",
        "    f.write(response.content)\n",
        "print(\"Файл 'm.chrom.sizes' успешно сохранен.\")"
      ]
    },
    {
      "cell_type": "code",
      "execution_count": null,
      "metadata": {
        "colab": {
          "base_uri": "https://localhost:8080/"
        },
        "id": "svn9iAuGtVxX",
        "outputId": "e731a297-24fa-4315-901e-f355e8fea126"
      },
      "outputs": [
        {
          "name": "stdout",
          "output_type": "stream",
          "text": [
            "Channels:\n",
            " - bioconda\n",
            " - conda-forge\n",
            "Platform: linux-64\n",
            "Collecting package metadata (repodata.json): - \b\b\\ \b\b| \b\b/ \b\b- \b\b\\ \b\b| \b\b/ \b\b- \b\bdone\n",
            "Solving environment: | \b\b/ \b\b- \b\b\\ \b\bdone\n",
            "\n",
            "# All requested packages already installed.\n",
            "\n"
          ]
        }
      ],
      "source": [
        "! conda install -c bioconda ucsc-bedgraphtobigwig"
      ]
    },
    {
      "cell_type": "code",
      "execution_count": null,
      "metadata": {
        "id": "rh0ba_Y_tcq5"
      },
      "outputs": [],
      "source": [
        "! bedGraphToBigWig  s_8_cell.deduplicated.bedGraph m.chrom.sizes cell8_methylation.bigWig"
      ]
    },
    {
      "cell_type": "code",
      "execution_count": null,
      "metadata": {
        "colab": {
          "base_uri": "https://localhost:8080/"
        },
        "id": "qofYnYciunf8",
        "outputId": "40e3f5bc-c200-42db-a55d-3b59eed9be67"
      },
      "outputs": [
        {
          "name": "stdout",
          "output_type": "stream",
          "text": [
            "track type=bedGraph\n",
            "chr11\t3050030\t3050031\t50\n",
            "chr11\t3050047\t3050048\t66.6666666666667\n",
            "chr11\t3050048\t3050049\t50\n",
            "chr11\t3050223\t3050224\t87.5\n",
            "chr11\t3050224\t3050225\t53.3333333333333\n",
            "chr11\t3050285\t3050286\t66.6666666666667\n",
            "chr11\t3050286\t3050287\t33.3333333333333\n",
            "chr11\t3050309\t3050310\t62.5\n",
            "chr11\t3050310\t3050311\t50\n"
          ]
        }
      ],
      "source": [
        "! head s_8_cell.deduplicated.bedGraph"
      ]
    },
    {
      "cell_type": "code",
      "execution_count": null,
      "metadata": {
        "colab": {
          "base_uri": "https://localhost:8080/"
        },
        "id": "XEWV8p4ku-Hy",
        "outputId": "d8d651ed-90d5-40a1-8442-6c71aad4e143"
      },
      "outputs": [
        {
          "name": "stdout",
          "output_type": "stream",
          "text": [
            "Reading package lists... Done\n",
            "Building dependency tree... Done\n",
            "Reading state information... Done\n",
            "The following NEW packages will be installed:\n",
            "  bedtools\n",
            "0 upgraded, 1 newly installed, 0 to remove and 32 not upgraded.\n",
            "Need to get 563 kB of archives.\n",
            "After this operation, 1,548 kB of additional disk space will be used.\n",
            "Get:1 http://archive.ubuntu.com/ubuntu jammy-updates/universe amd64 bedtools amd64 2.30.0+dfsg-2ubuntu0.1 [563 kB]\n",
            "Fetched 563 kB in 1s (1,090 kB/s)\n",
            "Selecting previously unselected package bedtools.\n",
            "(Reading database ... 121749 files and directories currently installed.)\n",
            "Preparing to unpack .../bedtools_2.30.0+dfsg-2ubuntu0.1_amd64.deb ...\n",
            "Unpacking bedtools (2.30.0+dfsg-2ubuntu0.1) ...\n",
            "Setting up bedtools (2.30.0+dfsg-2ubuntu0.1) ...\n"
          ]
        }
      ],
      "source": [
        "! apt-get install bedtools"
      ]
    },
    {
      "cell_type": "code",
      "execution_count": null,
      "metadata": {
        "colab": {
          "base_uri": "https://localhost:8080/"
        },
        "id": "ofhSsnSqvBbu",
        "outputId": "4fba31de-ca72-4f7d-c0a4-26255df590b9"
      },
      "outputs": [
        {
          "name": "stdout",
          "output_type": "stream",
          "text": [
            "\n",
            "*****\n",
            "*****WARNING: Genome (-g) files are ignored when BAM input is provided. \n",
            "*****\n"
          ]
        }
      ],
      "source": [
        "! bedtools genomecov -bg -ibam s_8_cell.deduplicated.bam -g m.chromSizes  >  s_8_cell.cover.bedGraph"
      ]
    },
    {
      "cell_type": "code",
      "execution_count": null,
      "metadata": {
        "colab": {
          "base_uri": "https://localhost:8080/"
        },
        "id": "N-8RwloKJxuL",
        "outputId": "8bfb0ee1-a20b-4032-8501-1de008a1f7b0"
      },
      "outputs": [
        {
          "name": "stdout",
          "output_type": "stream",
          "text": [
            "\n",
            "*****\n",
            "*****WARNING: Genome (-g) files are ignored when BAM input is provided. \n",
            "*****\n"
          ]
        }
      ],
      "source": [
        "! bedtools genomecov -bg -ibam icm_cell.deduplicated.bam -g m.chromSizes  >  icm_cell.cover.bedGraph"
      ]
    },
    {
      "cell_type": "code",
      "execution_count": null,
      "metadata": {
        "colab": {
          "base_uri": "https://localhost:8080/"
        },
        "id": "3lzJAYQMKDIG",
        "outputId": "887598d0-d82d-4a80-be9f-9504d0c6a778"
      },
      "outputs": [
        {
          "name": "stdout",
          "output_type": "stream",
          "text": [
            "\n",
            "*****\n",
            "*****WARNING: Genome (-g) files are ignored when BAM input is provided. \n",
            "*****\n"
          ]
        }
      ],
      "source": [
        "! bedtools genomecov -bg -ibam epiblast_cell.deduplicated.bam -g m.chromSizes  >  epiblast_cell.cover.bedGraph"
      ]
    },
    {
      "cell_type": "code",
      "execution_count": null,
      "metadata": {
        "id": "RLpT4wFCvr29"
      },
      "outputs": [],
      "source": [
        "! bedGraphToBigWig   s_8_cell.cover.bedGraph m.chrom.sizes cell8_coverage.bigWig.bw"
      ]
    },
    {
      "cell_type": "code",
      "execution_count": null,
      "metadata": {
        "id": "PT489lPDKZNt"
      },
      "outputs": [],
      "source": [
        "! bedGraphToBigWig   icm_cell.cover.bedGraph m.chrom.sizes icm_coverage.bigWig.bw"
      ]
    },
    {
      "cell_type": "code",
      "execution_count": null,
      "metadata": {
        "id": "fMuGL2DFKhWg"
      },
      "outputs": [],
      "source": [
        "! bedGraphToBigWig   epiblast_cell.cover.bedGraph m.chrom.sizes epiblast_coverage.bigWig.bw"
      ]
    },
    {
      "cell_type": "code",
      "execution_count": null,
      "metadata": {
        "colab": {
          "base_uri": "https://localhost:8080/"
        },
        "id": "0egk8Q4VvXss",
        "outputId": "1665e215-13f5-4d5b-d519-24f78ee6f2c9"
      },
      "outputs": [
        {
          "name": "stdout",
          "output_type": "stream",
          "text": [
            "track type=bedGraph\n",
            "chr11\t3050030\t3050031\t50\n",
            "chr11\t3050047\t3050048\t66.6666666666667\n",
            "chr11\t3050048\t3050049\t50\n",
            "chr11\t3050223\t3050224\t87.5\n",
            "chr11\t3050224\t3050225\t53.3333333333333\n",
            "chr11\t3050285\t3050286\t66.6666666666667\n",
            "chr11\t3050286\t3050287\t33.3333333333333\n",
            "chr11\t3050309\t3050310\t62.5\n",
            "chr11\t3050310\t3050311\t50\n"
          ]
        }
      ],
      "source": [
        "! head s_8_cell.deduplicated.bedGraph"
      ]
    },
    {
      "cell_type": "code",
      "execution_count": null,
      "metadata": {
        "colab": {
          "base_uri": "https://localhost:8080/"
        },
        "id": "rAoU3fjzLdYX",
        "outputId": "23022722-2db7-4f47-959f-e273524a37e5"
      },
      "outputs": [
        {
          "name": "stdout",
          "output_type": "stream",
          "text": [
            "Adding bigwig file: cell8_coverage.bigWig.bw\n",
            "Adding bigwig file: epiblast_coverage.bigWig.bw\n",
            "Adding bigwig file: icm_coverage.bigWig.bw\n"
          ]
        }
      ],
      "source": [
        "! make_tracks_file --trackFiles cell8_coverage.bigWig.bw epiblast_coverage.bigWig.bw icm_coverage.bigWig.bw -o tracks.ini.txt"
      ]
    },
    {
      "cell_type": "code",
      "execution_count": null,
      "metadata": {
        "colab": {
          "base_uri": "https://localhost:8080/"
        },
        "id": "bAaOdZCKsVtX",
        "outputId": "fe9cffff-f9f3-4147-a9c8-573458700f1b"
      },
      "outputs": [
        {
          "name": "stdout",
          "output_type": "stream",
          "text": [
            "INFO:pygenometracks.tracksClass:initialize 1. [x-axis]\n",
            "INFO:pygenometracks.tracksClass:initialize 2. [spacer]\n",
            "INFO:pygenometracks.tracksClass:initialize 3. [cell8_coverage.bigWig]\n",
            "INFO:pygenometracks.tracksClass:initialize 4. [epiblast_coverage.bigWig]\n",
            "INFO:pygenometracks.tracksClass:initialize 5. [icm_coverage.bigWig]\n",
            "INFO:pygenometracks.tracksClass:time initializing track(s):\n",
            "INFO:pygenometracks.tracksClass:0.01100778579711914\n",
            "DEBUG:pygenometracks.tracksClass:Figure size in cm is 40 x 8.909574468085108. Dpi is set to 72\n",
            "\n",
            "INFO:pygenometracks.tracksClass:plotting 1. [x-axis]\n",
            "INFO:pygenometracks.tracksClass:plotting 2. [spacer]\n",
            "INFO:pygenometracks.tracksClass:plotting 3. [cell8_coverage.bigWig]\n",
            "INFO:pygenometracks.tracksClass:plotting 4. [epiblast_coverage.bigWig]\n",
            "INFO:pygenometracks.tracksClass:plotting 5. [icm_coverage.bigWig]\n"
          ]
        }
      ],
      "source": [
        "! pyGenomeTracks --tracks tracks.ini.txt --region chr11:3100030-3500030 -o image_cov.png"
      ]
    },
    {
      "cell_type": "code",
      "execution_count": null,
      "metadata": {
        "id": "p7CjvnFhwpyL"
      },
      "outputs": [],
      "source": [
        "! bedGraphToBigWig   s_8_cell.deduplicated.bedGraph m.chrom.sizes cell8_methylation.bigWig.bw\n",
        "! bedGraphToBigWig   icm_cell.deduplicated.bedGraph m.chrom.sizes icm_methylation.bigWig.bw\n",
        "! bedGraphToBigWig   epiblast_cell.deduplicated.bedGraph m.chrom.sizes epiblast_methylation.bigWig.bw"
      ]
    },
    {
      "cell_type": "code",
      "execution_count": null,
      "metadata": {
        "colab": {
          "base_uri": "https://localhost:8080/"
        },
        "id": "z8Qceld3Pvv6",
        "outputId": "f131fa79-d9ae-40a0-b44a-bcca708d5b5f"
      },
      "outputs": [
        {
          "name": "stdout",
          "output_type": "stream",
          "text": [
            "Adding bigwig file: cell8_methylation.bigWig.bw\n",
            "Adding bigwig file: epiblast_methylation.bigWig.bw\n",
            "Adding bigwig file: icm_methylation.bigWig.bw\n"
          ]
        }
      ],
      "source": [
        "! make_tracks_file --trackFiles cell8_methylation.bigWig.bw epiblast_methylation.bigWig.bw icm_methylation.bigWig.bw -o tracks_met.ini.txt"
      ]
    },
    {
      "cell_type": "code",
      "execution_count": null,
      "metadata": {
        "colab": {
          "base_uri": "https://localhost:8080/"
        },
        "id": "vBzTYSeGQFwS",
        "outputId": "3aefba4d-0e80-4181-e89c-cbb2dd868324"
      },
      "outputs": [
        {
          "name": "stdout",
          "output_type": "stream",
          "text": [
            "INFO:pygenometracks.tracksClass:initialize 1. [x-axis]\n",
            "INFO:pygenometracks.tracksClass:initialize 2. [spacer]\n",
            "INFO:pygenometracks.tracksClass:initialize 3. [cell8_methylation.bigWig]\n",
            "INFO:pygenometracks.tracksClass:initialize 4. [epiblast_methylation.bigWig]\n",
            "INFO:pygenometracks.tracksClass:initialize 5. [icm_methylation.bigWig]\n",
            "INFO:pygenometracks.tracksClass:time initializing track(s):\n",
            "INFO:pygenometracks.tracksClass:0.004153251647949219\n",
            "DEBUG:pygenometracks.tracksClass:Figure size in cm is 40 x 8.909574468085108. Dpi is set to 72\n",
            "\n",
            "INFO:pygenometracks.tracksClass:plotting 1. [x-axis]\n",
            "INFO:pygenometracks.tracksClass:plotting 2. [spacer]\n",
            "INFO:pygenometracks.tracksClass:plotting 3. [cell8_methylation.bigWig]\n",
            "INFO:pygenometracks.tracksClass:plotting 4. [epiblast_methylation.bigWig]\n",
            "INFO:pygenometracks.tracksClass:plotting 5. [icm_methylation.bigWig]\n"
          ]
        }
      ],
      "source": [
        "! pyGenomeTracks --tracks tracks_met.ini.txt --region chr11:3100030-3500030 -o image_met.png"
      ]
    }
  ],
  "metadata": {
    "colab": {
      "provenance": []
    },
    "kernelspec": {
      "display_name": "Python 3",
      "name": "python3"
    },
    "language_info": {
      "name": "python"
    }
  },
  "nbformat": 4,
  "nbformat_minor": 0
}